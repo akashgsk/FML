{
  "nbformat": 4,
  "nbformat_minor": 0,
  "metadata": {
    "colab": {
      "provenance": []
    },
    "kernelspec": {
      "name": "python3",
      "display_name": "Python 3"
    },
    "language_info": {
      "name": "python"
    }
  },
  "cells": [
    {
      "cell_type": "code",
      "source": [
        "name = input(\" Who are you? \")\n",
        "print(\"\\tWelcome\",name)"
      ],
      "metadata": {
        "colab": {
          "base_uri": "https://localhost:8080/"
        },
        "id": "P9dikGcCb88Y",
        "outputId": "48a88488-bc80-41cb-d6aa-94f5e025d1f2"
      },
      "execution_count": 1,
      "outputs": [
        {
          "output_type": "stream",
          "name": "stdout",
          "text": [
            " Who are you? Akash\n",
            "\tWelcome Akash\n"
          ]
        }
      ]
    },
    {
      "cell_type": "code",
      "source": [
        "x = 5\n",
        "if x > 2 :\n",
        "  print(\" Bigger than 2 \")\n",
        "  print(\" Still Bigger \")\n",
        "print(\" Done with 2 \")\n",
        "\n",
        "for i in range(5):\n",
        "  print(i)\n",
        "  if i > 2:\n",
        "    print(\" Bigger than 2 \")\n",
        "  print(\" Done with i \",i)\n",
        "print(\" All Done \")"
      ],
      "metadata": {
        "colab": {
          "base_uri": "https://localhost:8080/"
        },
        "id": "eQE9t0Ckb8C5",
        "outputId": "b3f82a04-1c62-42e9-d093-25249df8df84"
      },
      "execution_count": null,
      "outputs": [
        {
          "output_type": "stream",
          "name": "stdout",
          "text": [
            " Bigger than 2 \n",
            " Still Bigger \n",
            " Done with 2 \n",
            "0\n",
            " Done with i  0\n",
            "1\n",
            " Done with i  1\n",
            "2\n",
            " Done with i  2\n",
            "3\n",
            " Bigger than 2 \n",
            " Done with i  3\n",
            "4\n",
            " Bigger than 2 \n",
            " Done with i  4\n",
            " All Done \n"
          ]
        }
      ]
    },
    {
      "cell_type": "code",
      "execution_count": null,
      "metadata": {
        "colab": {
          "base_uri": "https://localhost:8080/"
        },
        "id": "yeClS6pCbzYi",
        "outputId": "0da22d00-837f-4904-e205-3424f7d82593"
      },
      "outputs": [
        {
          "output_type": "stream",
          "name": "stdout",
          "text": [
            " Bigger \n",
            " All Done \n"
          ]
        }
      ],
      "source": [
        "x = 4\n",
        "if x > 2:\n",
        "  print(\" Bigger \")\n",
        "else:\n",
        "  print(\" Not Bigger \")\n",
        "print(\" All Done \")"
      ]
    },
    {
      "cell_type": "code",
      "source": [
        "x=11\n",
        "if x<2:\n",
        "  print(\"Small\")\n",
        "elif x<10:\n",
        "  print(\"Medium\")\n",
        "else:\n",
        "  print(\"Large\")"
      ],
      "metadata": {
        "colab": {
          "base_uri": "https://localhost:8080/"
        },
        "id": "m5FprsOWch27",
        "outputId": "73b1f76d-011f-4d43-852e-d92cd60cd14f"
      },
      "execution_count": null,
      "outputs": [
        {
          "output_type": "stream",
          "name": "stdout",
          "text": [
            "Large\n"
          ]
        }
      ]
    },
    {
      "cell_type": "code",
      "source": [
        "astr= 'Hello Bob'\n",
        "istr= list(astr)\n",
        "print(\" First \",istr)"
      ],
      "metadata": {
        "colab": {
          "base_uri": "https://localhost:8080/"
        },
        "id": "EnRs2bOAdH86",
        "outputId": "fe85ff6d-036f-4350-bb5d-fd18962be944"
      },
      "execution_count": 18,
      "outputs": [
        {
          "output_type": "stream",
          "name": "stdout",
          "text": [
            " First  ['H', 'e', 'l', 'l', 'o', ' ', 'B', 'o', 'b']\n"
          ]
        }
      ]
    },
    {
      "cell_type": "code",
      "source": [
        "astr='123'\n",
        "istr= list(astr)\n",
        "print(\" Second \",istr)"
      ],
      "metadata": {
        "colab": {
          "base_uri": "https://localhost:8080/"
        },
        "id": "rXXkJTTYdunC",
        "outputId": "d31bcb26-0799-4968-f72e-073b6be2d02b"
      },
      "execution_count": 17,
      "outputs": [
        {
          "output_type": "stream",
          "name": "stdout",
          "text": [
            " Second  ['1', '2', '3']\n"
          ]
        }
      ]
    },
    {
      "cell_type": "code",
      "source": [
        "astr= 'Hello Bob'\n",
        "try:\n",
        "  istr= int(astr)\n",
        "except:\n",
        "  istr=-1\n",
        "print(\"First\",istr)\n",
        "\n",
        "astr='123'\n",
        "try:\n",
        "  istr= int(astr)\n",
        "except:\n",
        "  istr=-1\n",
        "print(\"Second\",istr)"
      ],
      "metadata": {
        "colab": {
          "base_uri": "https://localhost:8080/"
        },
        "id": "ET39GNA7eW0K",
        "outputId": "e374fb8d-49fb-4c96-f2d7-221aa38b4a2c"
      },
      "execution_count": null,
      "outputs": [
        {
          "output_type": "stream",
          "name": "stdout",
          "text": [
            "First -1\n",
            "Second 123\n"
          ]
        }
      ]
    },
    {
      "cell_type": "code",
      "source": [
        "astr='Bob'\n",
        "\n",
        "try:\n",
        "  print(\" Hello\")\n",
        "  istr=int(astr)\n",
        "  print(\"There\")\n",
        "except:\n",
        "  istr=-1\n",
        "print(\" Done \",istr)"
      ],
      "metadata": {
        "colab": {
          "base_uri": "https://localhost:8080/"
        },
        "id": "jxB2OCACe4q6",
        "outputId": "19cda3f7-3ad1-4e35-d63d-76efbf983370"
      },
      "execution_count": null,
      "outputs": [
        {
          "output_type": "stream",
          "name": "stdout",
          "text": [
            " Hello\n",
            " Done  -1\n"
          ]
        }
      ]
    },
    {
      "cell_type": "code",
      "source": [
        "def mul(a,b):\n",
        "  return a*b\n",
        "\n",
        "a=5\n",
        "b=10\n",
        "c=mul(a,b)\n",
        "print(\" Product : \",c)\n"
      ],
      "metadata": {
        "colab": {
          "base_uri": "https://localhost:8080/"
        },
        "id": "DWT4dbbRlTWK",
        "outputId": "073e19ea-286a-426e-e3f1-dbcafe59e15e"
      },
      "execution_count": null,
      "outputs": [
        {
          "output_type": "stream",
          "name": "stdout",
          "text": [
            " Product :  50\n"
          ]
        }
      ]
    },
    {
      "cell_type": "code",
      "source": [
        "big= max(\"Helloworld\")\n",
        "print(big)\n",
        "\n",
        "tiny= min(\"Helloworld\")\n",
        "print(tiny)"
      ],
      "metadata": {
        "colab": {
          "base_uri": "https://localhost:8080/"
        },
        "id": "UwxQsKimleGK",
        "outputId": "bf46d523-1ebc-4c77-cda4-8924c72a7d73"
      },
      "execution_count": null,
      "outputs": [
        {
          "output_type": "stream",
          "name": "stdout",
          "text": [
            "w\n",
            "H\n"
          ]
        }
      ]
    },
    {
      "cell_type": "code",
      "source": [
        "for i in [5,4,3,2,1] :\n",
        "  print(i)"
      ],
      "metadata": {
        "colab": {
          "base_uri": "https://localhost:8080/"
        },
        "id": "y4PdQyi9mvQs",
        "outputId": "549b192a-1bc5-4889-c44e-064a72d8efa9"
      },
      "execution_count": null,
      "outputs": [
        {
          "output_type": "stream",
          "name": "stdout",
          "text": [
            "5\n",
            "4\n",
            "3\n",
            "2\n",
            "1\n"
          ]
        }
      ]
    },
    {
      "cell_type": "code",
      "source": [
        "smallest = None\n",
        "print(\"Before : \\n\")\n",
        "for value in [3,41,12,9,74,15]:\n",
        "  if smallest is None:\n",
        "    smallest= value\n",
        "  elif value < smallest :\n",
        "    smallest =value\n",
        "  print('Smallest : ',value)\n",
        "\n",
        "print('\\nAfter : ',smallest)"
      ],
      "metadata": {
        "colab": {
          "base_uri": "https://localhost:8080/"
        },
        "id": "iSBkin6spQlD",
        "outputId": "69d56f9f-a268-4acc-af7e-45a8c6e65f9b"
      },
      "execution_count": null,
      "outputs": [
        {
          "output_type": "stream",
          "name": "stdout",
          "text": [
            "Before : \n",
            "\n",
            "Smallest 3\n",
            "Smallest 41\n",
            "Smallest 12\n",
            "Smallest 9\n",
            "Smallest 74\n",
            "Smallest 15\n",
            "\n",
            "After :  3\n"
          ]
        }
      ]
    },
    {
      "cell_type": "code",
      "source": [
        "smallest = None\n",
        "print(\" Before : \\n\")\n",
        "for value in [3,41,12,9,74,15]:\n",
        "  if smallest is not None:\n",
        "    smallest= value\n",
        "  elif value != smallest :\n",
        "    smallest =value\n",
        "  print(' Smallest : ',value)\n",
        "\n",
        "print('\\nAfter : ',smallest)"
      ],
      "metadata": {
        "colab": {
          "base_uri": "https://localhost:8080/"
        },
        "id": "VuV3vvl8qVCD",
        "outputId": "ca36fbc7-68bd-4c88-a308-8c66587de8ca"
      },
      "execution_count": null,
      "outputs": [
        {
          "output_type": "stream",
          "name": "stdout",
          "text": [
            " Before : \n",
            "\n",
            " Smallest :  3\n",
            " Smallest :  41\n",
            " Smallest :  12\n",
            " Smallest :  9\n",
            " Smallest :  74\n",
            " Smallest :  15\n",
            "\n",
            "After :  15\n"
          ]
        }
      ]
    },
    {
      "cell_type": "code",
      "source": [
        "def sal(a,b):\n",
        "  return a*b\n",
        "\n",
        "h=float(input(\" Enter Hours \"))\n",
        "r=float(input(\" Enter Rate per Hour \"))\n",
        "\n",
        "s=sal(h,r)\n",
        "\n",
        "print(\" Gross Pay : \",s)"
      ],
      "metadata": {
        "colab": {
          "base_uri": "https://localhost:8080/"
        },
        "id": "bTjXXKeqrB7K",
        "outputId": "356e96df-f1ec-40d5-8272-6b80de1abc69"
      },
      "execution_count": null,
      "outputs": [
        {
          "output_type": "stream",
          "name": "stdout",
          "text": [
            " Enter Hours 30\n",
            " Enter Rate per Hour 2\n",
            " Gross Pay :  60.0\n"
          ]
        }
      ]
    },
    {
      "cell_type": "code",
      "source": [
        "x=int(input(\"Enter value of x \"))\n",
        "if x<2:\n",
        "  print(\" Below 2 \")\n",
        "elif x>=2:\n",
        "  print(\" 2 or more \")\n",
        "else:\n",
        "  print(\" Something Else \")\n",
        "\n",
        "\"\"\"\n",
        "x=int(input(\"Enter value of x \"))\n",
        "if x<2:\n",
        "  print(\" Below 2 \")\n",
        "elif x<20:\n",
        "  print(\" Below 20 \")\n",
        "elif x<10:\n",
        "  print(\" Below 10 \")\n",
        "else:\n",
        "  print(\"Something else\")      \"\"\"\n"
      ],
      "metadata": {
        "colab": {
          "base_uri": "https://localhost:8080/",
          "height": 70
        },
        "id": "0PPIc0auPnp7",
        "outputId": "a9018410-dc94-4289-fec2-07cd22af7a9b"
      },
      "execution_count": null,
      "outputs": [
        {
          "output_type": "stream",
          "name": "stdout",
          "text": [
            "Enter value of x 1\n",
            " Below 2 \n"
          ]
        },
        {
          "output_type": "execute_result",
          "data": {
            "text/plain": [
              "'\\nif x<2:\\n  print(\" Below 2 \")\\nelif x<20:\\n  print(\" Below 20 \")\\nelif x<10:\\n  print(\" Below 10 \")  \\nelse:\\n  print(\"Something else\")      '"
            ],
            "application/vnd.google.colaboratory.intrinsic+json": {
              "type": "string"
            }
          },
          "metadata": {},
          "execution_count": 4
        }
      ]
    },
    {
      "cell_type": "code",
      "source": [
        "def sal(a,b,c=None):\n",
        "  if(c==None):\n",
        "    return a*b\n",
        "  else:\n",
        "    return a*b*c\n",
        "\n",
        "h=float(input(\" Enter Hours \"))\n",
        "r=float(input(\" Enter Rate per Hour \"))\n",
        "hh=float(input(\" Enter Additional Hours \"))\n",
        "#if(isdigit(h) and isdigit(r)):\n",
        "s=sal(h,r)\n",
        "ss=sal(h,r,hh)\n",
        "\n",
        "print(\" Gross Pay : \",s)\n",
        "print(\" Gross Pay with Additional Hours: \",ss)"
      ],
      "metadata": {
        "colab": {
          "base_uri": "https://localhost:8080/"
        },
        "id": "rwzlUh21Q7qu",
        "outputId": "53461687-cfec-48ee-e0db-225c988cd29d"
      },
      "execution_count": null,
      "outputs": [
        {
          "output_type": "stream",
          "name": "stdout",
          "text": [
            " Enter Hours 50\n",
            " Enter Rate per Hour 10\n",
            " Enter Additional Hours 2\n",
            " Gross Pay :  500.0\n",
            " Gross Pay :  1000.0\n"
          ]
        }
      ]
    },
    {
      "cell_type": "code",
      "source": [
        "#0 is equal to 0 | Infinite Loop\n",
        "n=0\n",
        "while n>0:\n",
        "  print(\" Lather \")\n",
        "  print(\" Rinse \")\n",
        "print(\" Dry Clean\")"
      ],
      "metadata": {
        "colab": {
          "base_uri": "https://localhost:8080/"
        },
        "id": "nk6IpfPcS88_",
        "outputId": "bb2716c4-8300-424f-8768-1298477e25e4"
      },
      "execution_count": null,
      "outputs": [
        {
          "output_type": "stream",
          "name": "stdout",
          "text": [
            " Dry Clean\n"
          ]
        }
      ]
    },
    {
      "cell_type": "code",
      "source": [
        "largest_so_far = -1\n",
        "print(\"Before : \",largest_so_far)\n",
        "for the_num in  [9,41,12,3,74,15]:\n",
        "  if the_num>largest_so_far:\n",
        "    largest_so_far=the_num\n",
        "  print(largest_so_far,the_num)\n",
        "print(\"After : \",largest_so_far)"
      ],
      "metadata": {
        "colab": {
          "base_uri": "https://localhost:8080/"
        },
        "id": "E-u8caBqUBmi",
        "outputId": "1f9fd7e3-5760-4647-f31f-62299150e70f"
      },
      "execution_count": null,
      "outputs": [
        {
          "output_type": "stream",
          "name": "stdout",
          "text": [
            "Before  -1\n",
            "9 9\n",
            "41 41\n",
            "41 12\n",
            "41 3\n",
            "74 74\n",
            "74 15\n",
            "After  74\n"
          ]
        }
      ]
    },
    {
      "cell_type": "code",
      "source": [
        "smallest_so_far = 80\n",
        "print(\"Before : \",smallest_so_far)\n",
        "for the_num in  [9,41,12,3,74,15]:\n",
        "  if the_num<smallest_so_far:\n",
        "    smallest_so_far=the_num\n",
        "  print(smallest_so_far,the_num)\n",
        "print(\"After : \",smallest_so_far)"
      ],
      "metadata": {
        "colab": {
          "base_uri": "https://localhost:8080/"
        },
        "id": "BKNm9gUWUlKc",
        "outputId": "def3412c-29bd-4a0f-fbcb-3f3693226b92"
      },
      "execution_count": null,
      "outputs": [
        {
          "output_type": "stream",
          "name": "stdout",
          "text": [
            "Before :  80\n",
            "9 9\n",
            "9 41\n",
            "9 12\n",
            "3 3\n",
            "3 74\n",
            "3 15\n",
            "After :  3\n"
          ]
        }
      ]
    },
    {
      "cell_type": "code",
      "source": [
        "#scipy\n",
        "import scipy\n",
        "print(\" scipy : %s\"% scipy.__version__)"
      ],
      "metadata": {
        "colab": {
          "base_uri": "https://localhost:8080/"
        },
        "id": "ZEA0YC4EUmF7",
        "outputId": "97b1d3fe-3b23-4631-ee89-cc41fb8b1dc8"
      },
      "execution_count": 19,
      "outputs": [
        {
          "output_type": "stream",
          "name": "stdout",
          "text": [
            " scipy : 1.11.3\n"
          ]
        }
      ]
    },
    {
      "cell_type": "code",
      "source": [
        "#pandas\n",
        "import pandas\n",
        "print(\" pandas : %s\"% pandas.__version__)"
      ],
      "metadata": {
        "colab": {
          "base_uri": "https://localhost:8080/"
        },
        "id": "F5LuzOqZWBff",
        "outputId": "da0c13de-5dcc-4f88-a45d-9c42eb835bdd"
      },
      "execution_count": 20,
      "outputs": [
        {
          "output_type": "stream",
          "name": "stdout",
          "text": [
            " pandas : 1.5.3\n"
          ]
        }
      ]
    },
    {
      "cell_type": "code",
      "source": [
        "#numpy\n",
        "import numpy\n",
        "print(\" numpy : %s\"% numpy.__version__)"
      ],
      "metadata": {
        "colab": {
          "base_uri": "https://localhost:8080/"
        },
        "id": "m75nP_xmWXbR",
        "outputId": "2c46d8c7-136a-4216-abdf-beb30ca526de"
      },
      "execution_count": 21,
      "outputs": [
        {
          "output_type": "stream",
          "name": "stdout",
          "text": [
            " numpy : 1.23.5\n"
          ]
        }
      ]
    },
    {
      "cell_type": "code",
      "source": [
        "#statsmodels\n",
        "import statsmodels\n",
        "print(\" statsmodels : %s\"% statsmodels.__version__)"
      ],
      "metadata": {
        "colab": {
          "base_uri": "https://localhost:8080/"
        },
        "id": "4F-5VdgKWgwQ",
        "outputId": "92f0bb5b-83dc-43d8-ab21-0514fbe066b5"
      },
      "execution_count": 22,
      "outputs": [
        {
          "output_type": "stream",
          "name": "stdout",
          "text": [
            " statsmodels : 0.14.0\n"
          ]
        }
      ]
    },
    {
      "cell_type": "code",
      "source": [
        "#sklearn\n",
        "import sklearn\n",
        "print(\" sklearn : %s\"% sklearn.__version__)"
      ],
      "metadata": {
        "colab": {
          "base_uri": "https://localhost:8080/"
        },
        "id": "1KGtRkXnWtcg",
        "outputId": "72635c08-d781-4139-c8ea-e27a8115dfe4"
      },
      "execution_count": 23,
      "outputs": [
        {
          "output_type": "stream",
          "name": "stdout",
          "text": [
            " sklearn : 1.2.2\n"
          ]
        }
      ]
    },
    {
      "cell_type": "code",
      "source": [
        "#Adding Numbers\n",
        "def add_numbers(x,y):\n",
        "  return x+y\n",
        "a=15;b=1;\n",
        "add_numbers(a,b)"
      ],
      "metadata": {
        "colab": {
          "base_uri": "https://localhost:8080/"
        },
        "id": "YrOKts_W2ZCH",
        "outputId": "98f3b1fe-5d8b-4d24-892c-b5d698ae1354"
      },
      "execution_count": 26,
      "outputs": [
        {
          "output_type": "execute_result",
          "data": {
            "text/plain": [
              "16"
            ]
          },
          "metadata": {},
          "execution_count": 26
        }
      ]
    },
    {
      "cell_type": "code",
      "source": [
        "#None keyword\n",
        "def add_numbers(x,y,z=None):\n",
        "  if(z==None):\n",
        "    return x+y\n",
        "  else:\n",
        "    return x+y+z\n",
        "add_numbers(30,3)"
      ],
      "metadata": {
        "colab": {
          "base_uri": "https://localhost:8080/"
        },
        "id": "_TvLBUWL2cw-",
        "outputId": "d8e9bfe9-e661-4b8e-9c9d-73d117562ed4"
      },
      "execution_count": 27,
      "outputs": [
        {
          "output_type": "execute_result",
          "data": {
            "text/plain": [
              "33"
            ]
          },
          "metadata": {},
          "execution_count": 27
        }
      ]
    },
    {
      "cell_type": "code",
      "source": [
        "print(add_numbers(20,3,7))"
      ],
      "metadata": {
        "colab": {
          "base_uri": "https://localhost:8080/"
        },
        "id": "vT2kVGWc2szg",
        "outputId": "2370d96c-bcad-48d9-c0c7-0a5c048966cc"
      },
      "execution_count": 29,
      "outputs": [
        {
          "output_type": "stream",
          "name": "stdout",
          "text": [
            "30\n"
          ]
        }
      ]
    },
    {
      "cell_type": "code",
      "source": [
        "#Flags\n",
        "def add_numbers(x,y,z=None,flag=False):\n",
        "  if(flag):\n",
        "    print('Flag is ON!')\n",
        "  if(z==None):\n",
        "    return x+y\n",
        "  else:\n",
        "    return x+y+z\n",
        "print(add_numbers(10,20,25,flag=True))"
      ],
      "metadata": {
        "colab": {
          "base_uri": "https://localhost:8080/"
        },
        "id": "tyWFT_R1201i",
        "outputId": "9f98da59-f725-40a0-af5b-ebcba1df44fd"
      },
      "execution_count": 32,
      "outputs": [
        {
          "output_type": "stream",
          "name": "stdout",
          "text": [
            "Flag is ON!\n",
            "55\n"
          ]
        }
      ]
    },
    {
      "cell_type": "code",
      "source": [
        "#flags\n",
        "def add_numbers(x,y,z=None,flag=False):\n",
        "  if(flag):\n",
        "    print('flag is on!')\n",
        "  if(z==None):\n",
        "    return x+y\n",
        "  else:\n",
        "    return x+y+z\n",
        "print(add_numbers(10,20,30,flag=False))"
      ],
      "metadata": {
        "colab": {
          "base_uri": "https://localhost:8080/"
        },
        "id": "7RdeFA823P2X",
        "outputId": "d81a4162-fc1c-4e61-fc84-02bd5c0c9108"
      },
      "execution_count": 34,
      "outputs": [
        {
          "output_type": "stream",
          "name": "stdout",
          "text": [
            "60\n"
          ]
        }
      ]
    },
    {
      "cell_type": "code",
      "source": [
        "#varible\n",
        "def add_numbers(x,y):\n",
        "  return x+y\n",
        "  a=add_numbers\n",
        "a=15;b=5;\n",
        "add_numbers(a,b)"
      ],
      "metadata": {
        "colab": {
          "base_uri": "https://localhost:8080/"
        },
        "id": "wLowYsKn3UBy",
        "outputId": "67bf00f2-95a7-4b38-de88-57c01679ac22"
      },
      "execution_count": 35,
      "outputs": [
        {
          "output_type": "execute_result",
          "data": {
            "text/plain": [
              "20"
            ]
          },
          "metadata": {},
          "execution_count": 35
        }
      ]
    },
    {
      "cell_type": "code",
      "source": [
        "#tuples() - Immutable\n",
        "\n",
        "x = (1,'a',2,'b',1.2)\n",
        "type(x)\n",
        "\n",
        "tuple\n",
        "\n",
        "#x.append(3.3) -> Can't Append in Tuples\n",
        "print(x)"
      ],
      "metadata": {
        "colab": {
          "base_uri": "https://localhost:8080/"
        },
        "id": "dia7HQ9ZXxho",
        "outputId": "4eb3fda9-425b-4cd2-b2c5-d3d42b8c2164"
      },
      "execution_count": 24,
      "outputs": [
        {
          "output_type": "stream",
          "name": "stdout",
          "text": [
            "(1, 'a', 2, 'b', 1.2)\n"
          ]
        }
      ]
    },
    {
      "cell_type": "code",
      "source": [
        "#list\n",
        "\n",
        "x = [1,'a',2,'b',1.2]\n",
        "type(x)\n",
        "\n",
        "list\n",
        "\n",
        "x.append(3.3)\n",
        "print(x)"
      ],
      "metadata": {
        "colab": {
          "base_uri": "https://localhost:8080/"
        },
        "id": "4AfuKhB2bL4l",
        "outputId": "912b1cdb-72f8-4a83-c08f-1e70b4f38554"
      },
      "execution_count": null,
      "outputs": [
        {
          "output_type": "stream",
          "name": "stdout",
          "text": [
            "[1, 'a', 2, 'b', 1.2, 3.3]\n"
          ]
        }
      ]
    },
    {
      "cell_type": "code",
      "source": [
        "#list[] - Mutable\n",
        "x = [1,'a',2,'b',1.2]\n",
        "type(x)\n",
        "\n",
        "list\n",
        "\n",
        "for item in x:\n",
        "  print(item)"
      ],
      "metadata": {
        "colab": {
          "base_uri": "https://localhost:8080/"
        },
        "id": "OS022JzSbYjL",
        "outputId": "8ad05597-3e6f-4c52-9b67-0e34afbf6b61"
      },
      "execution_count": null,
      "outputs": [
        {
          "output_type": "stream",
          "name": "stdout",
          "text": [
            "1\n",
            "a\n",
            "2\n",
            "b\n",
            "1.2\n"
          ]
        }
      ]
    },
    {
      "cell_type": "code",
      "source": [
        "len(x)"
      ],
      "metadata": {
        "colab": {
          "base_uri": "https://localhost:8080/"
        },
        "id": "DQsZRoo8cNBE",
        "outputId": "a679c443-cd79-41cc-8ceb-348b192befed"
      },
      "execution_count": null,
      "outputs": [
        {
          "output_type": "execute_result",
          "data": {
            "text/plain": [
              "5"
            ]
          },
          "metadata": {},
          "execution_count": 33
        }
      ]
    },
    {
      "cell_type": "code",
      "source": [
        "#Repeat a list into * times\n",
        "[1,2,3]*2"
      ],
      "metadata": {
        "colab": {
          "base_uri": "https://localhost:8080/"
        },
        "id": "OV-cvLkGcRP2",
        "outputId": "6a4d056c-bb2b-4ba8-9e41-ce6d686365db"
      },
      "execution_count": null,
      "outputs": [
        {
          "output_type": "execute_result",
          "data": {
            "text/plain": [
              "[1, 2, 3, 1, 2, 3]"
            ]
          },
          "metadata": {},
          "execution_count": 36
        }
      ]
    },
    {
      "cell_type": "code",
      "source": [
        "#Concatination\n",
        "[1,2,3] + [4,5]"
      ],
      "metadata": {
        "colab": {
          "base_uri": "https://localhost:8080/"
        },
        "id": "e1c00SRWcmKu",
        "outputId": "f2cbc1f1-dbf6-4d8d-84da-188e6663e3c7"
      },
      "execution_count": null,
      "outputs": [
        {
          "output_type": "execute_result",
          "data": {
            "text/plain": [
              "[1, 2, 3, 4, 5]"
            ]
          },
          "metadata": {},
          "execution_count": 34
        }
      ]
    },
    {
      "cell_type": "code",
      "source": [
        "#Check weather an objects is present list\n",
        "27 in [16, 27, 31, 44, 57]"
      ],
      "metadata": {
        "colab": {
          "base_uri": "https://localhost:8080/"
        },
        "id": "Iw5d_aA7djlZ",
        "outputId": "14eb12bb-6625-4055-f368-ef2b801cbf07"
      },
      "execution_count": null,
      "outputs": [
        {
          "output_type": "execute_result",
          "data": {
            "text/plain": [
              "False"
            ]
          },
          "metadata": {},
          "execution_count": 38
        }
      ]
    },
    {
      "cell_type": "code",
      "source": [
        "x= 'This is a string'"
      ],
      "metadata": {
        "id": "9qNxU5DieHGS"
      },
      "execution_count": null,
      "outputs": []
    },
    {
      "cell_type": "code",
      "source": [
        "print(x[0]) #Prints First char"
      ],
      "metadata": {
        "colab": {
          "base_uri": "https://localhost:8080/"
        },
        "id": "ZwuO_QuQeVrk",
        "outputId": "a10d17a9-7f44-4aab-8d59-58a8b2986674"
      },
      "execution_count": null,
      "outputs": [
        {
          "output_type": "stream",
          "name": "stdout",
          "text": [
            "T\n"
          ]
        }
      ]
    },
    {
      "cell_type": "code",
      "source": [
        "print(x[0:3])   #Start from 0 | Stop before 3"
      ],
      "metadata": {
        "colab": {
          "base_uri": "https://localhost:8080/"
        },
        "id": "4ND26Dz_efHN",
        "outputId": "83ccdad2-f79c-4920-8699-ec7a6752e72c"
      },
      "execution_count": null,
      "outputs": [
        {
          "output_type": "stream",
          "name": "stdout",
          "text": [
            "Thi\n"
          ]
        }
      ]
    },
    {
      "cell_type": "code",
      "source": [
        "print(x[-4:-2])"
      ],
      "metadata": {
        "colab": {
          "base_uri": "https://localhost:8080/"
        },
        "id": "kmNFH89Me6IA",
        "outputId": "7e708a32-7e27-477a-bbe8-8fe2450dc700"
      },
      "execution_count": null,
      "outputs": [
        {
          "output_type": "stream",
          "name": "stdout",
          "text": [
            "ri\n"
          ]
        }
      ]
    },
    {
      "cell_type": "code",
      "source": [
        "print(x[:-2])"
      ],
      "metadata": {
        "colab": {
          "base_uri": "https://localhost:8080/"
        },
        "id": "WkuxkAFufUg1",
        "outputId": "b2347234-dc05-4ea0-f5fa-bd3494a6bc71"
      },
      "execution_count": null,
      "outputs": [
        {
          "output_type": "stream",
          "name": "stdout",
          "text": [
            "This is a stri\n"
          ]
        }
      ]
    },
    {
      "cell_type": "code",
      "source": [
        "print(x[3:])"
      ],
      "metadata": {
        "colab": {
          "base_uri": "https://localhost:8080/"
        },
        "id": "i42GFpZBfcs-",
        "outputId": "9d615277-6a4c-49a0-d340-377050697440"
      },
      "execution_count": null,
      "outputs": [
        {
          "output_type": "stream",
          "name": "stdout",
          "text": [
            "s is a string\n"
          ]
        }
      ]
    },
    {
      "cell_type": "code",
      "source": [
        "FN=\"Akash\"\n",
        "MN=\"G S\"\n",
        "LN=\"Kumar\"\n",
        "print(FN+\" \"+MN+\" \"+LN)"
      ],
      "metadata": {
        "colab": {
          "base_uri": "https://localhost:8080/"
        },
        "id": "dUNOHYHXfik6",
        "outputId": "ab68293f-03e0-46b3-c4c9-72ad5376afed"
      },
      "execution_count": 36,
      "outputs": [
        {
          "output_type": "stream",
          "name": "stdout",
          "text": [
            "Akash G S Kumar\n"
          ]
        }
      ]
    },
    {
      "cell_type": "code",
      "source": [
        "FN=\"Akash is going to college\".split(' ')[0]\n",
        "MN=\"Akash GS is going to college\".split(' ')[1]\n",
        "LN=\"Hello Kumar\".split(' ')[-1]\n",
        "\n",
        "print(FN+\" \"+MN+\" \"+LN)"
      ],
      "metadata": {
        "colab": {
          "base_uri": "https://localhost:8080/"
        },
        "id": "t66y97Qkf7jG",
        "outputId": "8459a123-1ac5-4479-b9fb-8461a697981a"
      },
      "execution_count": 37,
      "outputs": [
        {
          "output_type": "stream",
          "name": "stdout",
          "text": [
            "Akash GS Kumar\n"
          ]
        }
      ]
    },
    {
      "cell_type": "code",
      "source": [
        "print(LN)"
      ],
      "metadata": {
        "colab": {
          "base_uri": "https://localhost:8080/"
        },
        "id": "buULogRH3qc0",
        "outputId": "f0a92fc6-b628-4df8-9a7b-1a55c2b373c1"
      },
      "execution_count": 38,
      "outputs": [
        {
          "output_type": "stream",
          "name": "stdout",
          "text": [
            "Kumar\n"
          ]
        }
      ]
    },
    {
      "cell_type": "code",
      "source": [
        "print(FN+' '+MN)"
      ],
      "metadata": {
        "colab": {
          "base_uri": "https://localhost:8080/"
        },
        "id": "tPFXdcEU3zct",
        "outputId": "2e800b26-19ea-48ba-960f-09bfe67904c2"
      },
      "execution_count": 39,
      "outputs": [
        {
          "output_type": "stream",
          "name": "stdout",
          "text": [
            "Akash GS\n"
          ]
        }
      ]
    },
    {
      "cell_type": "code",
      "source": [
        "#\"CHRIS\" + \"2\" -> Works same | Use \" \" else ERROR\n",
        "\"CHRIS\" + str(2)\n"
      ],
      "metadata": {
        "colab": {
          "base_uri": "https://localhost:8080/",
          "height": 35
        },
        "id": "xzbiJVmshRaM",
        "outputId": "d5f8ec42-727e-4b68-a81f-26f07d2064f2"
      },
      "execution_count": null,
      "outputs": [
        {
          "output_type": "execute_result",
          "data": {
            "text/plain": [
              "'CHRIS2'"
            ],
            "application/vnd.google.colaboratory.intrinsic+json": {
              "type": "string"
            }
          },
          "metadata": {},
          "execution_count": 61
        }
      ]
    },
    {
      "cell_type": "code",
      "source": [
        "#Dictionaaries{}\n",
        "\n",
        "x = {\"Akash\":\"akash@gmail.com\",\"Varun\":\"varun@gmail.com\"}\n",
        "\n",
        "x[\"Varun\"] #Retrieve value by using Indexing Operation"
      ],
      "metadata": {
        "colab": {
          "base_uri": "https://localhost:8080/",
          "height": 35
        },
        "id": "r_DuqhtWiEnZ",
        "outputId": "9d551f1a-8567-4bfd-b14d-a028d582df50"
      },
      "execution_count": 41,
      "outputs": [
        {
          "output_type": "execute_result",
          "data": {
            "text/plain": [
              "'varun@gmail.com'"
            ],
            "application/vnd.google.colaboratory.intrinsic+json": {
              "type": "string"
            }
          },
          "metadata": {},
          "execution_count": 41
        }
      ]
    },
    {
      "cell_type": "code",
      "source": [
        "{'Akash' : 'akash@gmail.com','Bill' : 'bill@gmail.com'}"
      ],
      "metadata": {
        "id": "05rSkrTqpP89",
        "colab": {
          "base_uri": "https://localhost:8080/"
        },
        "outputId": "22a66fa0-832f-4e37-8154-c889e43a0db6"
      },
      "execution_count": 40,
      "outputs": [
        {
          "output_type": "execute_result",
          "data": {
            "text/plain": [
              "{'Akash': 'akash@gmail.com', 'Bill': 'bill@gmail.com'}"
            ]
          },
          "metadata": {},
          "execution_count": 40
        }
      ]
    },
    {
      "cell_type": "code",
      "source": [
        "#Add Dictionaries\n",
        "x = {\n",
        "    'Akash' : 'akash@gmail.com',\n",
        "    'Thomp': 'mit@ua.edu'\n",
        "  }\n",
        "\n",
        "x['Roman']='roman@gmail.com'"
      ],
      "metadata": {
        "id": "WomHHp0TUevs"
      },
      "execution_count": 43,
      "outputs": []
    },
    {
      "cell_type": "code",
      "source": [
        "print(x)"
      ],
      "metadata": {
        "colab": {
          "base_uri": "https://localhost:8080/"
        },
        "id": "eQxOAIUWWauQ",
        "outputId": "3c1d2b1e-6f24-47f9-f0d5-979831406b2e"
      },
      "execution_count": 44,
      "outputs": [
        {
          "output_type": "stream",
          "name": "stdout",
          "text": [
            "{'Akash': 'akash@gmail.com', 'Thomp': 'mit@ua.edu', 'Roman': 'roman@gmail.com'}\n"
          ]
        }
      ]
    },
    {
      "cell_type": "code",
      "source": [
        "#remove dictionaries\n",
        "x.pop('Akash')\n",
        "print('dict',x)"
      ],
      "metadata": {
        "colab": {
          "base_uri": "https://localhost:8080/"
        },
        "id": "2ncvpYuZVsmt",
        "outputId": "450cb7fe-6685-42b1-c2ae-a423b762b057"
      },
      "execution_count": 45,
      "outputs": [
        {
          "output_type": "stream",
          "name": "stdout",
          "text": [
            "dict {'Thomp': 'mit@ua.edu', 'Roman': 'roman@gmail.com'}\n"
          ]
        }
      ]
    },
    {
      "cell_type": "code",
      "source": [
        "#iterate over all items of list\n",
        "\n",
        "for name in x.items():\n",
        "  print(name)"
      ],
      "metadata": {
        "id": "M98ux3XvWxhM",
        "colab": {
          "base_uri": "https://localhost:8080/"
        },
        "outputId": "7f56edf1-1956-4a67-d954-366903cc579b"
      },
      "execution_count": 46,
      "outputs": [
        {
          "output_type": "stream",
          "name": "stdout",
          "text": [
            "('Thomp', 'mit@ua.edu')\n",
            "('Roman', 'roman@gmail.com')\n"
          ]
        }
      ]
    },
    {
      "cell_type": "code",
      "source": [
        "#iterate all names\n",
        "for name in x:\n",
        "  print(name)"
      ],
      "metadata": {
        "id": "3jRqWR5RZkrF",
        "colab": {
          "base_uri": "https://localhost:8080/"
        },
        "outputId": "863b0481-ec75-4aba-d2ce-39782684c29c"
      },
      "execution_count": 50,
      "outputs": [
        {
          "output_type": "stream",
          "name": "stdout",
          "text": [
            "Thomp\n",
            "Roman\n"
          ]
        }
      ]
    },
    {
      "cell_type": "code",
      "source": [
        "#iterate over all of the value\n",
        "for email in x.values():\n",
        "  print(email)"
      ],
      "metadata": {
        "id": "prjeNuO8Zkn2",
        "colab": {
          "base_uri": "https://localhost:8080/"
        },
        "outputId": "05057077-73ec-4cf8-cc39-478b186c4d81"
      },
      "execution_count": 49,
      "outputs": [
        {
          "output_type": "stream",
          "name": "stdout",
          "text": [
            "mit@ua.edu\n",
            "roman@gmail.com\n"
          ]
        }
      ]
    },
    {
      "cell_type": "code",
      "source": [
        "#you can unpack a sequence into different variables\n",
        "x=('Akash','GS','akash@gmail.com')"
      ],
      "metadata": {
        "id": "d5Yex-BcXQjd"
      },
      "execution_count": 57,
      "outputs": []
    },
    {
      "cell_type": "code",
      "source": [
        "x"
      ],
      "metadata": {
        "id": "kXTCz7_SXmyd",
        "colab": {
          "base_uri": "https://localhost:8080/"
        },
        "outputId": "d03aa090-5bba-4c57-e542-e9524fd89a99"
      },
      "execution_count": 58,
      "outputs": [
        {
          "output_type": "execute_result",
          "data": {
            "text/plain": [
              "('Akash', 'GS', 'akash@gmail.com')"
            ]
          },
          "metadata": {},
          "execution_count": 58
        }
      ]
    },
    {
      "cell_type": "code",
      "source": [
        "#make sure the number of values you are unpacking matches the number of variables be\n",
        "x=('Akash','Kumar','akash@gmail.com','Udupi')\n",
        "fname,lname,email,cname = x\n"
      ],
      "metadata": {
        "id": "gcknwKrRXodw"
      },
      "execution_count": 63,
      "outputs": []
    },
    {
      "cell_type": "code",
      "source": [
        "x"
      ],
      "metadata": {
        "colab": {
          "base_uri": "https://localhost:8080/"
        },
        "id": "aYjj_fpN5cN9",
        "outputId": "ae4e75fc-b1e9-4b9a-d49b-00ecdb49085c"
      },
      "execution_count": 64,
      "outputs": [
        {
          "output_type": "execute_result",
          "data": {
            "text/plain": [
              "('Akash', 'Kumar', 'akash@gmail.com', 'Udupi')"
            ]
          },
          "metadata": {},
          "execution_count": 64
        }
      ]
    },
    {
      "cell_type": "code",
      "source": [
        "#python has a built in method for convenient atring formatting\n",
        "\n",
        "sales_record = {\n",
        "    'price':3.24,\n",
        "    'num_items':4,\n",
        "    'person':'Akash',\n",
        "    'email':'akash@gmail.com'\n",
        "}"
      ],
      "metadata": {
        "id": "_QiPZkVcYS-c"
      },
      "execution_count": 65,
      "outputs": []
    },
    {
      "cell_type": "code",
      "source": [
        "sales_statement = '{} bought {} items(s) at a price of INR {} each for a Total INR {}'"
      ],
      "metadata": {
        "id": "F7u_JkunY-Ui"
      },
      "execution_count": 66,
      "outputs": []
    },
    {
      "cell_type": "code",
      "source": [
        "print(sales_statement.format(sales_record['person'],\n",
        "                             sales_record['num_items'],\n",
        "                             sales_record['price'],\n",
        "                             sales_record['num_items']*sales_record['price']))"
      ],
      "metadata": {
        "colab": {
          "base_uri": "https://localhost:8080/"
        },
        "id": "xN4nNBb-aHW_",
        "outputId": "654f3541-79e6-48a1-ddde-d3c19963f6fc"
      },
      "execution_count": 67,
      "outputs": [
        {
          "output_type": "stream",
          "name": "stdout",
          "text": [
            "Akash bought 4 items(s) at a price of INR 3.24 each for a Total INR 12.96\n"
          ]
        }
      ]
    },
    {
      "cell_type": "code",
      "source": [
        "import datetime as dt\n",
        "import time as tm"
      ],
      "metadata": {
        "id": "vOyDzRJGbBgV"
      },
      "execution_count": 68,
      "outputs": []
    },
    {
      "cell_type": "code",
      "source": [
        "tm.time()"
      ],
      "metadata": {
        "colab": {
          "base_uri": "https://localhost:8080/"
        },
        "id": "Mly4dNBQbJu0",
        "outputId": "f6f3f445-553c-4708-b7ff-ef5980bf0d8a"
      },
      "execution_count": 69,
      "outputs": [
        {
          "output_type": "execute_result",
          "data": {
            "text/plain": [
              "1700016858.0184476"
            ]
          },
          "metadata": {},
          "execution_count": 69
        }
      ]
    },
    {
      "cell_type": "code",
      "source": [
        "from datetime import date\n",
        "from datetime import time\n",
        "from datetime import datetime\n",
        "\n",
        "today=date.today()\n",
        "print('Todays date is',today)"
      ],
      "metadata": {
        "colab": {
          "base_uri": "https://localhost:8080/"
        },
        "id": "8ZgUnCM2bWzO",
        "outputId": "eed9f741-45b7-4397-d82f-d3e02e592aaa"
      },
      "execution_count": 70,
      "outputs": [
        {
          "output_type": "stream",
          "name": "stdout",
          "text": [
            "Todays date is 2023-11-15\n"
          ]
        }
      ]
    },
    {
      "cell_type": "code",
      "source": [
        "#convert the timestamp to datetime\n",
        "dtnow=dt.datetime.fromtimestamp(tm.time())\n",
        "dtnow"
      ],
      "metadata": {
        "colab": {
          "base_uri": "https://localhost:8080/"
        },
        "id": "s0bY_BB2b-l_",
        "outputId": "e19c4851-2699-4df8-e259-2eb5353f1c5a"
      },
      "execution_count": 71,
      "outputs": [
        {
          "output_type": "execute_result",
          "data": {
            "text/plain": [
              "datetime.datetime(2023, 11, 15, 2, 54, 23, 321591)"
            ]
          },
          "metadata": {},
          "execution_count": 71
        }
      ]
    },
    {
      "cell_type": "code",
      "source": [
        "#Handy datetime attributes\n",
        "\n",
        "dtnow.year, dtnow.month,dtnow.day, dtnow.hour, dtnow.minute, dtnow.second"
      ],
      "metadata": {
        "colab": {
          "base_uri": "https://localhost:8080/"
        },
        "id": "9YLzydGGcle6",
        "outputId": "a73d9d9b-faa4-47e6-ad10-23e77d29b87e"
      },
      "execution_count": 72,
      "outputs": [
        {
          "output_type": "execute_result",
          "data": {
            "text/plain": [
              "(2023, 11, 15, 2, 54, 23)"
            ]
          },
          "metadata": {},
          "execution_count": 72
        }
      ]
    },
    {
      "cell_type": "code",
      "source": [
        "#timedelta is a duration expressing the difference between two dates\n",
        "delta=dt.timedelta(days = 100) # create a TimeTable of 100 days"
      ],
      "metadata": {
        "id": "dmrYgZ9rdLKO"
      },
      "execution_count": 75,
      "outputs": []
    },
    {
      "cell_type": "code",
      "source": [
        "#date.today returns the current local date\n",
        "today=dt.date.today()"
      ],
      "metadata": {
        "id": "QfulpmmVdxUd"
      },
      "execution_count": 76,
      "outputs": []
    },
    {
      "cell_type": "code",
      "source": [
        "#Date 100 days ago\n",
        "today-delta"
      ],
      "metadata": {
        "colab": {
          "base_uri": "https://localhost:8080/"
        },
        "id": "9414gQJE57c1",
        "outputId": "bf45ba5b-820d-4be5-9be0-3871b6229766"
      },
      "execution_count": 79,
      "outputs": [
        {
          "output_type": "execute_result",
          "data": {
            "text/plain": [
              "datetime.date(2023, 8, 7)"
            ]
          },
          "metadata": {},
          "execution_count": 79
        }
      ]
    },
    {
      "cell_type": "code",
      "source": [
        "#Comparing dates\n",
        "today > today-delta"
      ],
      "metadata": {
        "colab": {
          "base_uri": "https://localhost:8080/"
        },
        "id": "Dpr-8R6r6Byr",
        "outputId": "d383bfe6-5fe5-444f-8173-487e0e8ffd4e"
      },
      "execution_count": 80,
      "outputs": [
        {
          "output_type": "execute_result",
          "data": {
            "text/plain": [
              "True"
            ]
          },
          "metadata": {},
          "execution_count": 80
        }
      ]
    },
    {
      "cell_type": "code",
      "source": [
        "class person:\n",
        "  institute = \"MSIS, Manipal\"\n",
        "  def set_name(self,new_name):\n",
        "    self.name=new_name\n",
        "  def set_location(self,new_location):\n",
        "    self.name=new_location"
      ],
      "metadata": {
        "id": "LM8KC4RceWMR"
      },
      "execution_count": 81,
      "outputs": []
    },
    {
      "cell_type": "code",
      "source": [
        "person=person()\n",
        "person.set_name('Akash')\n",
        "person.set_location('udupi')"
      ],
      "metadata": {
        "id": "oKngv2MJe4p9"
      },
      "execution_count": 82,
      "outputs": []
    },
    {
      "cell_type": "code",
      "source": [
        "x={1,'x',2,'y',(1,2,3),'hello'}\n",
        "type(x)"
      ],
      "metadata": {
        "id": "u9wH8Pu5hJ93",
        "colab": {
          "base_uri": "https://localhost:8080/"
        },
        "outputId": "31125df3-fd09-435d-8bcf-c300e3bb7ab2"
      },
      "execution_count": 84,
      "outputs": [
        {
          "output_type": "execute_result",
          "data": {
            "text/plain": [
              "set"
            ]
          },
          "metadata": {},
          "execution_count": 84
        }
      ]
    },
    {
      "cell_type": "code",
      "source": [
        "y=(1,2,3)\n",
        "type(y)"
      ],
      "metadata": {
        "colab": {
          "base_uri": "https://localhost:8080/"
        },
        "id": "hpXC4rNN9Bim",
        "outputId": "6ec7a69d-9417-4144-82fe-3d5d1f3a92d1"
      },
      "execution_count": 85,
      "outputs": [
        {
          "output_type": "execute_result",
          "data": {
            "text/plain": [
              "tuple"
            ]
          },
          "metadata": {},
          "execution_count": 85
        }
      ]
    },
    {
      "cell_type": "code",
      "source": [
        "x={1,'x',2,'y',3}\n",
        "z={1,'x',2,'y','a'}\n",
        "print(x,z)"
      ],
      "metadata": {
        "colab": {
          "base_uri": "https://localhost:8080/"
        },
        "id": "XBQLsOwW9GHS",
        "outputId": "d1bb3a8f-2a73-4835-f0b1-0dc81098adce"
      },
      "execution_count": 86,
      "outputs": [
        {
          "output_type": "stream",
          "name": "stdout",
          "text": [
            "{1, 2, 3, 'y', 'x'} {1, 2, 'a', 'y', 'x'}\n"
          ]
        }
      ]
    },
    {
      "cell_type": "code",
      "source": [
        "#Add value to the set\n",
        "z.add('a')\n",
        "print(y,z)"
      ],
      "metadata": {
        "colab": {
          "base_uri": "https://localhost:8080/"
        },
        "id": "vzpBE16h9Koo",
        "outputId": "6acf09e2-ffd3-495b-d4b8-80869680f224"
      },
      "execution_count": 88,
      "outputs": [
        {
          "output_type": "stream",
          "name": "stdout",
          "text": [
            "(1, 2, 3) {1, 2, 'a', 'y', 'x'}\n"
          ]
        }
      ]
    },
    {
      "cell_type": "code",
      "source": [
        "x=[1,'x',2,'y']\n",
        "type(x)"
      ],
      "metadata": {
        "colab": {
          "base_uri": "https://localhost:8080/"
        },
        "id": "CsXZV3Y69hm5",
        "outputId": "ca85b82a-6543-4c82-fd37-2d1163225462"
      },
      "execution_count": 89,
      "outputs": [
        {
          "output_type": "execute_result",
          "data": {
            "text/plain": [
              "list"
            ]
          },
          "metadata": {},
          "execution_count": 89
        }
      ]
    },
    {
      "cell_type": "code",
      "source": [
        "x"
      ],
      "metadata": {
        "colab": {
          "base_uri": "https://localhost:8080/"
        },
        "id": "7VFwDO6v9jii",
        "outputId": "16a3fdfb-bc1b-4539-e960-2f8ac878116d"
      },
      "execution_count": 90,
      "outputs": [
        {
          "output_type": "execute_result",
          "data": {
            "text/plain": [
              "[1, 'x', 2, 'y']"
            ]
          },
          "metadata": {},
          "execution_count": 90
        }
      ]
    },
    {
      "cell_type": "code",
      "source": [
        "store1=[10.00,11.00,12.34,5.34]\n",
        "store2=[19.00,10.10,12.34,5.01]\n",
        "store3=[15.00,12.00,11.00,6.00]\n",
        "cheapest=map(min,store1,store2,store3)\n",
        "costly=map(max,store1,store2,store3)\n",
        "print(cheapest)\n",
        "print(costly)"
      ],
      "metadata": {
        "colab": {
          "base_uri": "https://localhost:8080/"
        },
        "id": "KocSrE9E9obE",
        "outputId": "aedba5f4-6ab2-41b1-c8ff-91d34371ca96"
      },
      "execution_count": 91,
      "outputs": [
        {
          "output_type": "stream",
          "name": "stdout",
          "text": [
            "<map object at 0x7e055cb68400>\n",
            "<map object at 0x7e055cb6b490>\n"
          ]
        }
      ]
    },
    {
      "cell_type": "code",
      "source": [
        "for item in cheapest:\n",
        "  print(item)"
      ],
      "metadata": {
        "colab": {
          "base_uri": "https://localhost:8080/"
        },
        "id": "eoQBqDDg9r6v",
        "outputId": "9b2b7d14-8fad-4cf3-fcf6-563edfdfff32"
      },
      "execution_count": 92,
      "outputs": [
        {
          "output_type": "stream",
          "name": "stdout",
          "text": [
            "10.0\n",
            "10.1\n",
            "11.0\n",
            "5.01\n"
          ]
        }
      ]
    },
    {
      "cell_type": "code",
      "source": [
        "for item in costly:\n",
        "  print(item)"
      ],
      "metadata": {
        "colab": {
          "base_uri": "https://localhost:8080/"
        },
        "id": "clsCyNCi9sNS",
        "outputId": "4e265d3c-acc2-4cdb-ad1a-2f9822d730ae"
      },
      "execution_count": 93,
      "outputs": [
        {
          "output_type": "stream",
          "name": "stdout",
          "text": [
            "19.0\n",
            "12.0\n",
            "12.34\n",
            "6.0\n"
          ]
        }
      ]
    },
    {
      "cell_type": "code",
      "source": [
        "def calculateSquare(a):\n",
        "  return a*a"
      ],
      "metadata": {
        "id": "FSaKCyb1juI0"
      },
      "execution_count": 94,
      "outputs": []
    },
    {
      "cell_type": "code",
      "source": [
        "numbers = (1,2,3,4)\n",
        "res=map(calculateSquare,numbers)\n",
        "print(res)"
      ],
      "metadata": {
        "colab": {
          "base_uri": "https://localhost:8080/"
        },
        "id": "0lekoi4lj7VH",
        "outputId": "ccea40f1-6f94-4d3d-d52f-56b0ab5f6e70"
      },
      "execution_count": 95,
      "outputs": [
        {
          "output_type": "stream",
          "name": "stdout",
          "text": [
            "<map object at 0x7e055cb69360>\n"
          ]
        }
      ]
    },
    {
      "cell_type": "code",
      "source": [
        "res= list(res)"
      ],
      "metadata": {
        "id": "zny_cOPpkYp3"
      },
      "execution_count": 96,
      "outputs": []
    },
    {
      "cell_type": "code",
      "source": [
        "print(res)"
      ],
      "metadata": {
        "colab": {
          "base_uri": "https://localhost:8080/"
        },
        "id": "RsTBpPdHkjxg",
        "outputId": "b5eb9f43-7257-484b-8e10-e369af0bc31b"
      },
      "execution_count": 97,
      "outputs": [
        {
          "output_type": "stream",
          "name": "stdout",
          "text": [
            "[1, 4, 9, 16]\n"
          ]
        }
      ]
    },
    {
      "cell_type": "code",
      "source": [
        "for item in res:\n",
        "  print(item)"
      ],
      "metadata": {
        "colab": {
          "base_uri": "https://localhost:8080/"
        },
        "id": "qK2I3z8XkmeP",
        "outputId": "5ef2193f-6c48-44e0-e1cc-99c2b3f63303"
      },
      "execution_count": 98,
      "outputs": [
        {
          "output_type": "stream",
          "name": "stdout",
          "text": [
            "1\n",
            "4\n",
            "9\n",
            "16\n"
          ]
        }
      ]
    },
    {
      "cell_type": "code",
      "source": [
        "numbers=(1,2,3,4)\n",
        "res=map(lambda x: x*x,numbers)\n",
        "print(res)"
      ],
      "metadata": {
        "colab": {
          "base_uri": "https://localhost:8080/"
        },
        "id": "1ItqrUq2kus1",
        "outputId": "e7526fe1-9c55-4e29-af25-8fa8a6d5383f"
      },
      "execution_count": null,
      "outputs": [
        {
          "output_type": "stream",
          "name": "stdout",
          "text": [
            "<map object at 0x78d012c24d90>\n"
          ]
        }
      ]
    },
    {
      "cell_type": "code",
      "source": [
        "num1=[4,5,6]\n",
        "num2=[5,6,7]"
      ],
      "metadata": {
        "id": "iRNSCYmQk-Pl"
      },
      "execution_count": null,
      "outputs": []
    },
    {
      "cell_type": "code",
      "source": [
        "res=map(lambda n1,n2: n1+n2,num1,num2)\n",
        "list(res)"
      ],
      "metadata": {
        "colab": {
          "base_uri": "https://localhost:8080/"
        },
        "id": "0i_Oql3rli5V",
        "outputId": "be637a68-703f-416b-8c1b-36c6513620f7"
      },
      "execution_count": null,
      "outputs": [
        {
          "output_type": "execute_result",
          "data": {
            "text/plain": [
              "[9, 11, 13]"
            ]
          },
          "metadata": {},
          "execution_count": 53
        }
      ]
    },
    {
      "cell_type": "code",
      "source": [
        "people = ['Python Progamming Language', 'Computer Lab Test','Vinod Scored A','Kumar Scored B']\n",
        "def split_title_and_name(person):\n",
        "  title=person.split()[0]\n",
        "  lastname=person.split()[-1]\n",
        "  return '{} {}'.format(title,lastname)\n",
        "list(map(split_title_and_name,people))"
      ],
      "metadata": {
        "colab": {
          "base_uri": "https://localhost:8080/"
        },
        "id": "gNdg0ZujmPob",
        "outputId": "18298860-65f9-46c3-ad1d-49111027b815"
      },
      "execution_count": null,
      "outputs": [
        {
          "output_type": "execute_result",
          "data": {
            "text/plain": [
              "['Python Language', 'Computer Test', 'Vinod A', 'Kumar B']"
            ]
          },
          "metadata": {},
          "execution_count": 56
        }
      ]
    },
    {
      "cell_type": "code",
      "source": [
        "# Iterate from 0 to 200 and return the odd numbers\n",
        "\n",
        "odd_numbers = [num for num in range(1, 201, 2)]\n",
        "print(odd_numbers)\n"
      ],
      "metadata": {
        "colab": {
          "base_uri": "https://localhost:8080/"
        },
        "id": "XQfWsyG8n4nU",
        "outputId": "39ab1224-7d68-45a0-ab78-23d1e07ab5f0"
      },
      "execution_count": null,
      "outputs": [
        {
          "output_type": "stream",
          "name": "stdout",
          "text": [
            "[1, 3, 5, 7, 9, 11, 13, 15, 17, 19, 21, 23, 25, 27, 29, 31, 33, 35, 37, 39, 41, 43, 45, 47, 49, 51, 53, 55, 57, 59, 61, 63, 65, 67, 69, 71, 73, 75, 77, 79, 81, 83, 85, 87, 89, 91, 93, 95, 97, 99, 101, 103, 105, 107, 109, 111, 113, 115, 117, 119, 121, 123, 125, 127, 129, 131, 133, 135, 137, 139, 141, 143, 145, 147, 149, 151, 153, 155, 157, 159, 161, 163, 165, 167, 169, 171, 173, 175, 177, 179, 181, 183, 185, 187, 189, 191, 193, 195, 197, 199]\n"
          ]
        }
      ]
    },
    {
      "cell_type": "code",
      "source": [
        "for num in range(1,201):\n",
        "  if num%2 != 0:\n",
        "    print(num)"
      ],
      "metadata": {
        "colab": {
          "base_uri": "https://localhost:8080/"
        },
        "id": "XmoiBi2Bo7Eh",
        "outputId": "843f801a-b429-4466-8685-f9d7e4b66a2d"
      },
      "execution_count": null,
      "outputs": [
        {
          "output_type": "stream",
          "name": "stdout",
          "text": [
            "1\n",
            "3\n",
            "5\n",
            "7\n",
            "9\n",
            "11\n",
            "13\n",
            "15\n",
            "17\n",
            "19\n",
            "21\n",
            "23\n",
            "25\n",
            "27\n",
            "29\n",
            "31\n",
            "33\n",
            "35\n",
            "37\n",
            "39\n",
            "41\n",
            "43\n",
            "45\n",
            "47\n",
            "49\n",
            "51\n",
            "53\n",
            "55\n",
            "57\n",
            "59\n",
            "61\n",
            "63\n",
            "65\n",
            "67\n",
            "69\n",
            "71\n",
            "73\n",
            "75\n",
            "77\n",
            "79\n",
            "81\n",
            "83\n",
            "85\n",
            "87\n",
            "89\n",
            "91\n",
            "93\n",
            "95\n",
            "97\n",
            "99\n",
            "101\n",
            "103\n",
            "105\n",
            "107\n",
            "109\n",
            "111\n",
            "113\n",
            "115\n",
            "117\n",
            "119\n",
            "121\n",
            "123\n",
            "125\n",
            "127\n",
            "129\n",
            "131\n",
            "133\n",
            "135\n",
            "137\n",
            "139\n",
            "141\n",
            "143\n",
            "145\n",
            "147\n",
            "149\n",
            "151\n",
            "153\n",
            "155\n",
            "157\n",
            "159\n",
            "161\n",
            "163\n",
            "165\n",
            "167\n",
            "169\n",
            "171\n",
            "173\n",
            "175\n",
            "177\n",
            "179\n",
            "181\n",
            "183\n",
            "185\n",
            "187\n",
            "189\n",
            "191\n",
            "193\n",
            "195\n",
            "197\n",
            "199\n"
          ]
        }
      ]
    },
    {
      "cell_type": "code",
      "source": [
        "import numpy as np\n",
        "np.ones((5,4))"
      ],
      "metadata": {
        "colab": {
          "base_uri": "https://localhost:8080/"
        },
        "id": "mpocZb7JwvBV",
        "outputId": "b330a119-d509-4001-85bf-ffae8ce5902d"
      },
      "execution_count": null,
      "outputs": [
        {
          "output_type": "execute_result",
          "data": {
            "text/plain": [
              "array([[1., 1., 1., 1.],\n",
              "       [1., 1., 1., 1.],\n",
              "       [1., 1., 1., 1.],\n",
              "       [1., 1., 1., 1.],\n",
              "       [1., 1., 1., 1.]])"
            ]
          },
          "metadata": {},
          "execution_count": 64
        }
      ]
    },
    {
      "cell_type": "code",
      "source": [
        "np.eye((4))"
      ],
      "metadata": {
        "colab": {
          "base_uri": "https://localhost:8080/"
        },
        "id": "JJRjrDOGxWiM",
        "outputId": "8a923429-ead0-44e9-cf45-10d627430047"
      },
      "execution_count": null,
      "outputs": [
        {
          "output_type": "execute_result",
          "data": {
            "text/plain": [
              "array([[1., 0., 0., 0.],\n",
              "       [0., 1., 0., 0.],\n",
              "       [0., 0., 1., 0.],\n",
              "       [0., 0., 0., 1.]])"
            ]
          },
          "metadata": {},
          "execution_count": 65
        }
      ]
    },
    {
      "cell_type": "code",
      "source": [
        "x=np.matrix([[1, 2, 3,\n",
        "              4, 5, 6,\n",
        "              7, 8, 9]])\n",
        "\n",
        "print(np.diag(x))"
      ],
      "metadata": {
        "colab": {
          "base_uri": "https://localhost:8080/"
        },
        "id": "AmctSr7ZyEpA",
        "outputId": "3da01067-545e-4693-ba41-ec51dcce7cb2"
      },
      "execution_count": null,
      "outputs": [
        {
          "output_type": "stream",
          "name": "stdout",
          "text": [
            "[1]\n"
          ]
        }
      ]
    },
    {
      "cell_type": "code",
      "source": [
        "import pandas as pd\n",
        "s=pd.Series()\n",
        "print(s)"
      ],
      "metadata": {
        "id": "PdbfYQHuy3ww",
        "colab": {
          "base_uri": "https://localhost:8080/"
        },
        "outputId": "9105d20c-7eae-493a-b7a1-140314695717"
      },
      "execution_count": null,
      "outputs": [
        {
          "output_type": "stream",
          "name": "stdout",
          "text": [
            "Series([], dtype: float64)\n"
          ]
        },
        {
          "output_type": "stream",
          "name": "stderr",
          "text": [
            "<ipython-input-14-36194efe155a>:2: FutureWarning: The default dtype for empty Series will be 'object' instead of 'float64' in a future version. Specify a dtype explicitly to silence this warning.\n",
            "  s=pd.Series()\n"
          ]
        }
      ]
    },
    {
      "cell_type": "code",
      "source": [
        "import pandas as pd\n",
        "import numpy as np\n",
        "\n",
        "data = np.array(['a','b','c','d'])\n",
        "s=pd.Series(data)\n",
        "print(s)"
      ],
      "metadata": {
        "colab": {
          "base_uri": "https://localhost:8080/"
        },
        "id": "8gVyHLu0WcSf",
        "outputId": "336ec5d1-b898-448d-e1ee-b2096c51b735"
      },
      "execution_count": null,
      "outputs": [
        {
          "output_type": "stream",
          "name": "stdout",
          "text": [
            "0    a\n",
            "1    b\n",
            "2    c\n",
            "3    d\n",
            "dtype: object\n"
          ]
        }
      ]
    },
    {
      "cell_type": "code",
      "source": [
        "import pandas as pd\n",
        "import numpy as np\n",
        "\n",
        "data = np.array(['a','b','c','d'])\n",
        "s=pd.Series(data,index=[100,101,102,103])\n",
        "print(s)"
      ],
      "metadata": {
        "colab": {
          "base_uri": "https://localhost:8080/"
        },
        "id": "iANa4JB-XGlh",
        "outputId": "f5fa0ad8-4abc-48ae-9d21-c640de314377"
      },
      "execution_count": null,
      "outputs": [
        {
          "output_type": "stream",
          "name": "stdout",
          "text": [
            "100    a\n",
            "101    b\n",
            "102    c\n",
            "103    d\n",
            "dtype: object\n"
          ]
        }
      ]
    },
    {
      "cell_type": "code",
      "source": [
        "import pandas as pd\n",
        "import numpy as np\n",
        "\n",
        "data = {'a' : 0., 'b' : 1, 'c' : 2.}\n",
        "s=pd.Series(data,index=['b','c','d','a'])\n",
        "print(s)"
      ],
      "metadata": {
        "colab": {
          "base_uri": "https://localhost:8080/"
        },
        "id": "BOCwje21YA0D",
        "outputId": "447ca3e9-54f6-4ead-9772-1c531a4c4ccb"
      },
      "execution_count": null,
      "outputs": [
        {
          "output_type": "stream",
          "name": "stdout",
          "text": [
            "b    1.0\n",
            "c    2.0\n",
            "d    NaN\n",
            "a    0.0\n",
            "dtype: float64\n"
          ]
        }
      ]
    },
    {
      "cell_type": "code",
      "source": [
        "import pandas as pd\n",
        "import numpy as np\n",
        "\n",
        "data = {'a' : 0., 'b' : 1, 'c' : 2.}\n",
        "s=pd.Series(5,index=['b','c','d','a'])\n",
        "print(s)"
      ],
      "metadata": {
        "id": "PbOxWFyIZk3E"
      },
      "execution_count": null,
      "outputs": []
    },
    {
      "cell_type": "code",
      "source": [
        "import numpy as np\n",
        "p = np.ones([3, 3], dtype=float)\n",
        "p"
      ],
      "metadata": {
        "colab": {
          "base_uri": "https://localhost:8080/"
        },
        "id": "F0YQJh4C_HnN",
        "outputId": "882d234a-b199-4053-8503-a93053659127"
      },
      "execution_count": 103,
      "outputs": [
        {
          "output_type": "execute_result",
          "data": {
            "text/plain": [
              "array([[1., 1., 1.],\n",
              "       [1., 1., 1.],\n",
              "       [1., 1., 1.]])"
            ]
          },
          "metadata": {},
          "execution_count": 103
        }
      ]
    },
    {
      "cell_type": "code",
      "source": [
        "np.vstack([p,2*p])"
      ],
      "metadata": {
        "colab": {
          "base_uri": "https://localhost:8080/"
        },
        "id": "76cFjdoN_qgr",
        "outputId": "dc570995-fb82-462f-c612-5423b79fbc34"
      },
      "execution_count": 104,
      "outputs": [
        {
          "output_type": "execute_result",
          "data": {
            "text/plain": [
              "array([[1., 1., 1.],\n",
              "       [1., 1., 1.],\n",
              "       [1., 1., 1.],\n",
              "       [2., 2., 2.],\n",
              "       [2., 2., 2.],\n",
              "       [2., 2., 2.]])"
            ]
          },
          "metadata": {},
          "execution_count": 104
        }
      ]
    },
    {
      "cell_type": "code",
      "source": [
        "np.hstack([p,2*p])"
      ],
      "metadata": {
        "colab": {
          "base_uri": "https://localhost:8080/"
        },
        "id": "L2setEgL_tDy",
        "outputId": "0abd387d-b675-419e-e340-04a74e9d6166"
      },
      "execution_count": 105,
      "outputs": [
        {
          "output_type": "execute_result",
          "data": {
            "text/plain": [
              "array([[1., 1., 1., 2., 2., 2.],\n",
              "       [1., 1., 1., 2., 2., 2.],\n",
              "       [1., 1., 1., 2., 2., 2.]])"
            ]
          },
          "metadata": {},
          "execution_count": 105
        }
      ]
    },
    {
      "cell_type": "code",
      "source": [
        "#Program to double each item in a list using map()\n",
        "numbers = [1, 2, 3, 4, 5]\n",
        "\n",
        "double = lambda x: x * 2\n",
        "doubled_numbers = map(double, numbers)\n",
        "doubled_numbers_list = list(doubled_numbers)\n",
        "\n",
        "print(doubled_numbers_list)"
      ],
      "metadata": {
        "colab": {
          "base_uri": "https://localhost:8080/"
        },
        "id": "rZLXOBNi-hZI",
        "outputId": "46e49406-af16-43ac-eb5d-f7d4ca80dcc0"
      },
      "execution_count": 99,
      "outputs": [
        {
          "output_type": "stream",
          "name": "stdout",
          "text": [
            "[2, 4, 6, 8, 10]\n"
          ]
        }
      ]
    },
    {
      "cell_type": "code",
      "source": [
        "#Define a lambda function with three parameters. But only use the First two\n",
        "my_lambda = lambda x, y, z: x + y\n",
        "result = my_lambda(10, 20, 30)\n",
        "\n",
        "print(result)"
      ],
      "metadata": {
        "colab": {
          "base_uri": "https://localhost:8080/"
        },
        "id": "ABu0_Hcb_0BZ",
        "outputId": "b3406533-8855-416a-e209-1da1ebaf08f0"
      },
      "execution_count": 107,
      "outputs": [
        {
          "output_type": "stream",
          "name": "stdout",
          "text": [
            "30\n"
          ]
        }
      ]
    },
    {
      "cell_type": "code",
      "source": [
        "#Importing the pandas library and Aliasing as pd\n",
        "import pandas as pd\n",
        "import numpy as np\n",
        "data=np.array(['a','b','c','d'])\n",
        "s=pd.Series(data)\n",
        "print(s)"
      ],
      "metadata": {
        "colab": {
          "base_uri": "https://localhost:8080/"
        },
        "id": "mFYsvaQCACmL",
        "outputId": "11664598-2114-49cc-e2ca-cb8004a1194a"
      },
      "execution_count": 110,
      "outputs": [
        {
          "output_type": "stream",
          "name": "stdout",
          "text": [
            "0    a\n",
            "1    b\n",
            "2    c\n",
            "3    d\n",
            "dtype: object\n"
          ]
        }
      ]
    },
    {
      "cell_type": "code",
      "source": [
        "import pandas as pd\n",
        "import numpy as np\n",
        "data={'1b':1,'a1':0,'c':2}\n",
        "s=pd.Series(data)\n",
        "print(s)"
      ],
      "metadata": {
        "colab": {
          "base_uri": "https://localhost:8080/"
        },
        "id": "L_zK-a5TAT8o",
        "outputId": "2c434c7d-f4c8-46d5-916c-b7e67f2cfc93"
      },
      "execution_count": 111,
      "outputs": [
        {
          "output_type": "stream",
          "name": "stdout",
          "text": [
            "1b    1\n",
            "a1    0\n",
            "c     2\n",
            "dtype: int64\n"
          ]
        }
      ]
    },
    {
      "cell_type": "code",
      "source": [
        "import pandas as pd\n",
        "import numpy as np\n",
        "data={'a':0,'b':1,'c':2}\n",
        "s=pd.Series(data,index=['b','c','d','a'])\n",
        "print(s)"
      ],
      "metadata": {
        "colab": {
          "base_uri": "https://localhost:8080/"
        },
        "id": "glHWEcy6AVHm",
        "outputId": "a384119b-ef58-4cf1-e2be-76eb3caa4e55"
      },
      "execution_count": 112,
      "outputs": [
        {
          "output_type": "stream",
          "name": "stdout",
          "text": [
            "b    1.0\n",
            "c    2.0\n",
            "d    NaN\n",
            "a    0.0\n",
            "dtype: float64\n"
          ]
        }
      ]
    },
    {
      "cell_type": "code",
      "source": [
        "import pandas as pd\n",
        "import numpy as np\n",
        "s=pd.Series(5,index=[0,1,2,3])\n",
        "print(s)"
      ],
      "metadata": {
        "colab": {
          "base_uri": "https://localhost:8080/"
        },
        "id": "qMldpVK_AYEY",
        "outputId": "83be2112-f259-4f08-db1f-4f71ae175364"
      },
      "execution_count": 113,
      "outputs": [
        {
          "output_type": "stream",
          "name": "stdout",
          "text": [
            "0    5\n",
            "1    5\n",
            "2    5\n",
            "3    5\n",
            "dtype: int64\n"
          ]
        }
      ]
    },
    {
      "cell_type": "code",
      "source": [
        "#retrive the Fourth element\n",
        "import pandas as pd\n",
        "s=pd.Series([1,2,3,4,5],index=['a','b','c','d','e'])\n",
        "print(s[3])"
      ],
      "metadata": {
        "colab": {
          "base_uri": "https://localhost:8080/"
        },
        "id": "4MILGXWkAcjE",
        "outputId": "d6649f08-fb0d-4bac-ab88-9cb7858f8955"
      },
      "execution_count": 117,
      "outputs": [
        {
          "output_type": "stream",
          "name": "stdout",
          "text": [
            "4\n"
          ]
        }
      ]
    },
    {
      "cell_type": "code",
      "source": [
        "#Retrive the First three element\n",
        "print(s[:3])"
      ],
      "metadata": {
        "colab": {
          "base_uri": "https://localhost:8080/"
        },
        "id": "W79KXcf3AkO5",
        "outputId": "eaa15b26-fa9c-4ca1-e6fc-17cea97cdbd9"
      },
      "execution_count": 116,
      "outputs": [
        {
          "output_type": "stream",
          "name": "stdout",
          "text": [
            "a    1\n",
            "b    2\n",
            "c    3\n",
            "dtype: int64\n"
          ]
        }
      ]
    },
    {
      "cell_type": "code",
      "source": [
        "print(s[-3:])"
      ],
      "metadata": {
        "colab": {
          "base_uri": "https://localhost:8080/"
        },
        "id": "Wf6EQx4iA7om",
        "outputId": "559b24d6-097d-4bbc-eee2-d3a4627952d0"
      },
      "execution_count": 118,
      "outputs": [
        {
          "output_type": "stream",
          "name": "stdout",
          "text": [
            "c    3\n",
            "d    4\n",
            "e    5\n",
            "dtype: int64\n"
          ]
        }
      ]
    },
    {
      "cell_type": "code",
      "source": [
        "print(s['a'])"
      ],
      "metadata": {
        "colab": {
          "base_uri": "https://localhost:8080/"
        },
        "id": "pt-Caxg6A9wY",
        "outputId": "6ad3942e-a945-47d5-cc4b-69cb1157e8a5"
      },
      "execution_count": 119,
      "outputs": [
        {
          "output_type": "stream",
          "name": "stdout",
          "text": [
            "1\n"
          ]
        }
      ]
    },
    {
      "cell_type": "code",
      "source": [
        "print(s[-5:1])"
      ],
      "metadata": {
        "colab": {
          "base_uri": "https://localhost:8080/"
        },
        "id": "LzLgfPRQA_M2",
        "outputId": "f48c5faf-0ce7-4e58-c3f5-b19799f10912"
      },
      "execution_count": 120,
      "outputs": [
        {
          "output_type": "stream",
          "name": "stdout",
          "text": [
            "a    1\n",
            "dtype: int64\n"
          ]
        }
      ]
    },
    {
      "cell_type": "code",
      "source": [
        "print(s[-5])"
      ],
      "metadata": {
        "colab": {
          "base_uri": "https://localhost:8080/"
        },
        "id": "-xeJyd9rBDSx",
        "outputId": "712c4a91-188f-4fe4-8ad1-f357f82e543c"
      },
      "execution_count": 121,
      "outputs": [
        {
          "output_type": "stream",
          "name": "stdout",
          "text": [
            "1\n"
          ]
        }
      ]
    },
    {
      "cell_type": "code",
      "source": [
        "print(s[['a','c','d']])"
      ],
      "metadata": {
        "colab": {
          "base_uri": "https://localhost:8080/"
        },
        "id": "-x4sFyW2BJ2b",
        "outputId": "72e1078d-c9a4-4e46-a63c-ce47b1f2791c"
      },
      "execution_count": 122,
      "outputs": [
        {
          "output_type": "stream",
          "name": "stdout",
          "text": [
            "a    1\n",
            "c    3\n",
            "d    4\n",
            "dtype: int64\n"
          ]
        }
      ]
    },
    {
      "cell_type": "code",
      "source": [
        "import numpy as np\n",
        "old = np.array([[1,1,1],[1,1,1]])\n",
        "new=old\n",
        "new[0:2,0:2]=0\n",
        "print(new)"
      ],
      "metadata": {
        "colab": {
          "base_uri": "https://localhost:8080/"
        },
        "id": "Qgc3cKGaBNP9",
        "outputId": "cc5b6d8b-5fe9-42cd-a2db-5940a7f61315"
      },
      "execution_count": 123,
      "outputs": [
        {
          "output_type": "stream",
          "name": "stdout",
          "text": [
            "[[0 0 1]\n",
            " [0 0 1]]\n"
          ]
        }
      ]
    },
    {
      "cell_type": "code",
      "source": [
        "import pandas as pd\n",
        "animals=['Tiger','Lion','Horse']\n",
        "pd.Series(animals)"
      ],
      "metadata": {
        "colab": {
          "base_uri": "https://localhost:8080/"
        },
        "id": "r1eS1YMaZqWr",
        "outputId": "b2fae4a4-30d4-48ba-f63f-11273b45dbec"
      },
      "execution_count": 124,
      "outputs": [
        {
          "output_type": "execute_result",
          "data": {
            "text/plain": [
              "0    Tiger\n",
              "1     Lion\n",
              "2    Horse\n",
              "dtype: object"
            ]
          },
          "metadata": {},
          "execution_count": 124
        }
      ]
    },
    {
      "cell_type": "code",
      "source": [
        "numbers=[1,2,3]\n",
        "pd.Series(numbers)"
      ],
      "metadata": {
        "colab": {
          "base_uri": "https://localhost:8080/"
        },
        "id": "9ZjiaYgiBUun",
        "outputId": "cb1efb04-55c7-4d92-fe22-7a46eddd58a9"
      },
      "execution_count": 125,
      "outputs": [
        {
          "output_type": "execute_result",
          "data": {
            "text/plain": [
              "0    1\n",
              "1    2\n",
              "2    3\n",
              "dtype: int64"
            ]
          },
          "metadata": {},
          "execution_count": 125
        }
      ]
    },
    {
      "cell_type": "code",
      "source": [
        "animals=['Tiger','Lion',None]\n",
        "pd.Series(animals)"
      ],
      "metadata": {
        "colab": {
          "base_uri": "https://localhost:8080/"
        },
        "id": "NtvR0vRiBemL",
        "outputId": "af7c21fe-9595-4944-cd3f-6a810f935f24"
      },
      "execution_count": 126,
      "outputs": [
        {
          "output_type": "execute_result",
          "data": {
            "text/plain": [
              "0    Tiger\n",
              "1     Lion\n",
              "2     None\n",
              "dtype: object"
            ]
          },
          "metadata": {},
          "execution_count": 126
        }
      ]
    },
    {
      "cell_type": "code",
      "source": [
        "numbers=[1,2,None]\n",
        "pd.Series(numbers)"
      ],
      "metadata": {
        "colab": {
          "base_uri": "https://localhost:8080/"
        },
        "id": "Fyl5tRldBkTk",
        "outputId": "e25cb655-c4a4-45d9-809f-fcfee9cbf5e3"
      },
      "execution_count": 127,
      "outputs": [
        {
          "output_type": "execute_result",
          "data": {
            "text/plain": [
              "0    1.0\n",
              "1    2.0\n",
              "2    NaN\n",
              "dtype: float64"
            ]
          },
          "metadata": {},
          "execution_count": 127
        }
      ]
    },
    {
      "cell_type": "code",
      "source": [
        "import numpy as np\n",
        "np.nan == None"
      ],
      "metadata": {
        "colab": {
          "base_uri": "https://localhost:8080/"
        },
        "id": "TxH5rb-tfqfT",
        "outputId": "5fd3c6a0-e040-4711-cb39-aae9cb860b95"
      },
      "execution_count": 128,
      "outputs": [
        {
          "output_type": "execute_result",
          "data": {
            "text/plain": [
              "False"
            ]
          },
          "metadata": {},
          "execution_count": 128
        }
      ]
    },
    {
      "cell_type": "code",
      "source": [
        "#nan is similar to None. But it is a numeric value which is not comparable directly\n",
        "np.nan == np.nan"
      ],
      "metadata": {
        "colab": {
          "base_uri": "https://localhost:8080/"
        },
        "id": "XwkImeSZgD__",
        "outputId": "9b586994-3bf9-49ec-d9a8-e9774a5bef43"
      },
      "execution_count": 131,
      "outputs": [
        {
          "output_type": "execute_result",
          "data": {
            "text/plain": [
              "False"
            ]
          },
          "metadata": {},
          "execution_count": 131
        }
      ]
    },
    {
      "cell_type": "code",
      "source": [
        "np.isnan(np.nan)"
      ],
      "metadata": {
        "colab": {
          "base_uri": "https://localhost:8080/"
        },
        "id": "pniCvQkzgLxb",
        "outputId": "5d8d56c0-4479-4294-a6e6-ddfed631b989"
      },
      "execution_count": 130,
      "outputs": [
        {
          "output_type": "execute_result",
          "data": {
            "text/plain": [
              "True"
            ]
          },
          "metadata": {},
          "execution_count": 130
        }
      ]
    },
    {
      "cell_type": "code",
      "source": [
        "sports = { 'Cricket' : 'India',\n",
        "           'Golf' : 'Scotland',\n",
        "           'Sumo' : 'Japan',\n",
        "           'Taekwonda' : 'South Korean'}\n",
        "\n",
        "s = pd.Series(sports)\n",
        "s"
      ],
      "metadata": {
        "colab": {
          "base_uri": "https://localhost:8080/"
        },
        "id": "iOD4WWzEcxbW",
        "outputId": "972b3187-610e-4cd3-eaf4-c54cad930ad3"
      },
      "execution_count": null,
      "outputs": [
        {
          "output_type": "execute_result",
          "data": {
            "text/plain": [
              "Cricket             India\n",
              "Golf             Scotland\n",
              "Sumo                Japan\n",
              "Taekwonda    South Korean\n",
              "dtype: object"
            ]
          },
          "metadata": {},
          "execution_count": 32
        }
      ]
    },
    {
      "cell_type": "code",
      "source": [
        "s.iloc[3]"
      ],
      "metadata": {
        "colab": {
          "base_uri": "https://localhost:8080/",
          "height": 35
        },
        "id": "4KErLmL0ijSQ",
        "outputId": "7d451418-9fee-440e-a7a2-41b7aa918ae4"
      },
      "execution_count": null,
      "outputs": [
        {
          "output_type": "execute_result",
          "data": {
            "text/plain": [
              "'South Korean'"
            ],
            "application/vnd.google.colaboratory.intrinsic+json": {
              "type": "string"
            }
          },
          "metadata": {},
          "execution_count": 36
        }
      ]
    },
    {
      "cell_type": "code",
      "source": [
        "s['Sumo']"
      ],
      "metadata": {
        "colab": {
          "base_uri": "https://localhost:8080/",
          "height": 35
        },
        "id": "I1A6ZJj7ispu",
        "outputId": "38b01951-7c42-4561-c2ad-be1f60a69c14"
      },
      "execution_count": null,
      "outputs": [
        {
          "output_type": "execute_result",
          "data": {
            "text/plain": [
              "'Japan'"
            ],
            "application/vnd.google.colaboratory.intrinsic+json": {
              "type": "string"
            }
          },
          "metadata": {},
          "execution_count": 39
        }
      ]
    },
    {
      "cell_type": "code",
      "source": [
        "sports = { 99 : 'India',\n",
        "           100 : 'Scotland',\n",
        "           101 : 'Japan',\n",
        "           102 : 'South Korean'}\n",
        "\n",
        "s = pd.Series(sports)\n"
      ],
      "metadata": {
        "id": "zebMSXPqjCWo"
      },
      "execution_count": null,
      "outputs": []
    },
    {
      "cell_type": "code",
      "source": [
        "s[101]"
      ],
      "metadata": {
        "colab": {
          "base_uri": "https://localhost:8080/",
          "height": 35
        },
        "id": "2Rh2gzNejWxc",
        "outputId": "77057cdf-e030-4891-c9b8-95b8334e8a3a"
      },
      "execution_count": null,
      "outputs": [
        {
          "output_type": "execute_result",
          "data": {
            "text/plain": [
              "'Japan'"
            ],
            "application/vnd.google.colaboratory.intrinsic+json": {
              "type": "string"
            }
          },
          "metadata": {},
          "execution_count": 42
        }
      ]
    },
    {
      "cell_type": "code",
      "source": [
        "s=pd.Series(np.random.randint(0,1000,10000))\n",
        "s.head()"
      ],
      "metadata": {
        "colab": {
          "base_uri": "https://localhost:8080/"
        },
        "id": "niSrFRIbjZn0",
        "outputId": "0f10334c-3064-4a15-faf5-8b11f4f35c20"
      },
      "execution_count": null,
      "outputs": [
        {
          "output_type": "execute_result",
          "data": {
            "text/plain": [
              "0    642\n",
              "1    592\n",
              "2    884\n",
              "3    897\n",
              "4    262\n",
              "dtype: int64"
            ]
          },
          "metadata": {},
          "execution_count": 45
        }
      ]
    },
    {
      "cell_type": "code",
      "source": [
        "len(s)"
      ],
      "metadata": {
        "colab": {
          "base_uri": "https://localhost:8080/"
        },
        "id": "m-L6nRnDlpys",
        "outputId": "8cb02df4-2c9f-458e-f0de-c2b6ffea2986"
      },
      "execution_count": null,
      "outputs": [
        {
          "output_type": "execute_result",
          "data": {
            "text/plain": [
              "10000"
            ]
          },
          "metadata": {},
          "execution_count": 46
        }
      ]
    },
    {
      "cell_type": "code",
      "source": [
        "import pandas as pd\n",
        "\n",
        "purchase_1=pd.Series({'Name' : 'Chris',\n",
        "                        'item Purchased' : 'Milk',\n",
        "                        'cost':22.50})\n",
        "purchase_2=pd.Series({'Name' : 'Kavin',\n",
        "                        'item Purchased' : 'Coffee',\n",
        "                        'cost':12.50})\n",
        "purchase_3=pd.Series({'Name' : 'Sam',\n",
        "                        'item Purchased' : 'Sugar',\n",
        "                        'cost':10.50})\n",
        "\n",
        "df=pd.DataFrame([purchase_1,purchase_2,purchase_3],\n",
        "                   index=['store 1','store 1','store 2'])\n",
        "df.head()"
      ],
      "metadata": {
        "colab": {
          "base_uri": "https://localhost:8080/",
          "height": 1529
        },
        "id": "_k5AZteopnXo",
        "outputId": "c6990bdd-6a04-4c86-88e4-cf73c7fe0361"
      },
      "execution_count": null,
      "outputs": [
        {
          "output_type": "execute_result",
          "data": {
            "text/plain": [
              "          Name item Purchased  cost\n",
              "store 1  Chris           Milk  22.5\n",
              "store 1  Kavin         Coffee  12.5\n",
              "store 2    Sam          Sugar  10.5"
            ],
            "text/html": [
              "\n",
              "  <div id=\"df-417c179e-80e0-4b31-8a89-f2ff803fa9c8\" class=\"colab-df-container\">\n",
              "    <div>\n",
              "<style scoped>\n",
              "    .dataframe tbody tr th:only-of-type {\n",
              "        vertical-align: middle;\n",
              "    }\n",
              "\n",
              "    .dataframe tbody tr th {\n",
              "        vertical-align: top;\n",
              "    }\n",
              "\n",
              "    .dataframe thead th {\n",
              "        text-align: right;\n",
              "    }\n",
              "</style>\n",
              "<table border=\"1\" class=\"dataframe\">\n",
              "  <thead>\n",
              "    <tr style=\"text-align: right;\">\n",
              "      <th></th>\n",
              "      <th>Name</th>\n",
              "      <th>item Purchased</th>\n",
              "      <th>cost</th>\n",
              "    </tr>\n",
              "  </thead>\n",
              "  <tbody>\n",
              "    <tr>\n",
              "      <th>store 1</th>\n",
              "      <td>Chris</td>\n",
              "      <td>Milk</td>\n",
              "      <td>22.5</td>\n",
              "    </tr>\n",
              "    <tr>\n",
              "      <th>store 1</th>\n",
              "      <td>Kavin</td>\n",
              "      <td>Coffee</td>\n",
              "      <td>12.5</td>\n",
              "    </tr>\n",
              "    <tr>\n",
              "      <th>store 2</th>\n",
              "      <td>Sam</td>\n",
              "      <td>Sugar</td>\n",
              "      <td>10.5</td>\n",
              "    </tr>\n",
              "  </tbody>\n",
              "</table>\n",
              "</div>\n",
              "    <div class=\"colab-df-buttons\">\n",
              "\n",
              "  <div class=\"colab-df-container\">\n",
              "    <button class=\"colab-df-convert\" onclick=\"convertToInteractive('df-417c179e-80e0-4b31-8a89-f2ff803fa9c8')\"\n",
              "            title=\"Convert this dataframe to an interactive table.\"\n",
              "            style=\"display:none;\">\n",
              "\n",
              "  <svg xmlns=\"http://www.w3.org/2000/svg\" height=\"24px\" viewBox=\"0 -960 960 960\">\n",
              "    <path d=\"M120-120v-720h720v720H120Zm60-500h600v-160H180v160Zm220 220h160v-160H400v160Zm0 220h160v-160H400v160ZM180-400h160v-160H180v160Zm440 0h160v-160H620v160ZM180-180h160v-160H180v160Zm440 0h160v-160H620v160Z\"/>\n",
              "  </svg>\n",
              "    </button>\n",
              "\n",
              "  <style>\n",
              "    .colab-df-container {\n",
              "      display:flex;\n",
              "      gap: 12px;\n",
              "    }\n",
              "\n",
              "    .colab-df-convert {\n",
              "      background-color: #E8F0FE;\n",
              "      border: none;\n",
              "      border-radius: 50%;\n",
              "      cursor: pointer;\n",
              "      display: none;\n",
              "      fill: #1967D2;\n",
              "      height: 32px;\n",
              "      padding: 0 0 0 0;\n",
              "      width: 32px;\n",
              "    }\n",
              "\n",
              "    .colab-df-convert:hover {\n",
              "      background-color: #E2EBFA;\n",
              "      box-shadow: 0px 1px 2px rgba(60, 64, 67, 0.3), 0px 1px 3px 1px rgba(60, 64, 67, 0.15);\n",
              "      fill: #174EA6;\n",
              "    }\n",
              "\n",
              "    .colab-df-buttons div {\n",
              "      margin-bottom: 4px;\n",
              "    }\n",
              "\n",
              "    [theme=dark] .colab-df-convert {\n",
              "      background-color: #3B4455;\n",
              "      fill: #D2E3FC;\n",
              "    }\n",
              "\n",
              "    [theme=dark] .colab-df-convert:hover {\n",
              "      background-color: #434B5C;\n",
              "      box-shadow: 0px 1px 3px 1px rgba(0, 0, 0, 0.15);\n",
              "      filter: drop-shadow(0px 1px 2px rgba(0, 0, 0, 0.3));\n",
              "      fill: #FFFFFF;\n",
              "    }\n",
              "  </style>\n",
              "\n",
              "    <script>\n",
              "      const buttonEl =\n",
              "        document.querySelector('#df-417c179e-80e0-4b31-8a89-f2ff803fa9c8 button.colab-df-convert');\n",
              "      buttonEl.style.display =\n",
              "        google.colab.kernel.accessAllowed ? 'block' : 'none';\n",
              "\n",
              "      async function convertToInteractive(key) {\n",
              "        const element = document.querySelector('#df-417c179e-80e0-4b31-8a89-f2ff803fa9c8');\n",
              "        const dataTable =\n",
              "          await google.colab.kernel.invokeFunction('convertToInteractive',\n",
              "                                                    [key], {});\n",
              "        if (!dataTable) return;\n",
              "\n",
              "        const docLinkHtml = 'Like what you see? Visit the ' +\n",
              "          '<a target=\"_blank\" href=https://colab.research.google.com/notebooks/data_table.ipynb>data table notebook</a>'\n",
              "          + ' to learn more about interactive tables.';\n",
              "        element.innerHTML = '';\n",
              "        dataTable['output_type'] = 'display_data';\n",
              "        await google.colab.output.renderOutput(dataTable, element);\n",
              "        const docLink = document.createElement('div');\n",
              "        docLink.innerHTML = docLinkHtml;\n",
              "        element.appendChild(docLink);\n",
              "      }\n",
              "    </script>\n",
              "  </div>\n",
              "\n",
              "\n",
              "<div id=\"df-50c707f9-95d0-4093-a5d0-db44fe910533\">\n",
              "  <button class=\"colab-df-quickchart\" onclick=\"quickchart('df-50c707f9-95d0-4093-a5d0-db44fe910533')\"\n",
              "            title=\"Suggest charts.\"\n",
              "            style=\"display:none;\">\n",
              "\n",
              "<svg xmlns=\"http://www.w3.org/2000/svg\" height=\"24px\"viewBox=\"0 0 24 24\"\n",
              "     width=\"24px\">\n",
              "    <g>\n",
              "        <path d=\"M19 3H5c-1.1 0-2 .9-2 2v14c0 1.1.9 2 2 2h14c1.1 0 2-.9 2-2V5c0-1.1-.9-2-2-2zM9 17H7v-7h2v7zm4 0h-2V7h2v10zm4 0h-2v-4h2v4z\"/>\n",
              "    </g>\n",
              "</svg>\n",
              "  </button>\n",
              "\n",
              "<style>\n",
              "  .colab-df-quickchart {\n",
              "      --bg-color: #E8F0FE;\n",
              "      --fill-color: #1967D2;\n",
              "      --hover-bg-color: #E2EBFA;\n",
              "      --hover-fill-color: #174EA6;\n",
              "      --disabled-fill-color: #AAA;\n",
              "      --disabled-bg-color: #DDD;\n",
              "  }\n",
              "\n",
              "  [theme=dark] .colab-df-quickchart {\n",
              "      --bg-color: #3B4455;\n",
              "      --fill-color: #D2E3FC;\n",
              "      --hover-bg-color: #434B5C;\n",
              "      --hover-fill-color: #FFFFFF;\n",
              "      --disabled-bg-color: #3B4455;\n",
              "      --disabled-fill-color: #666;\n",
              "  }\n",
              "\n",
              "  .colab-df-quickchart {\n",
              "    background-color: var(--bg-color);\n",
              "    border: none;\n",
              "    border-radius: 50%;\n",
              "    cursor: pointer;\n",
              "    display: none;\n",
              "    fill: var(--fill-color);\n",
              "    height: 32px;\n",
              "    padding: 0;\n",
              "    width: 32px;\n",
              "  }\n",
              "\n",
              "  .colab-df-quickchart:hover {\n",
              "    background-color: var(--hover-bg-color);\n",
              "    box-shadow: 0 1px 2px rgba(60, 64, 67, 0.3), 0 1px 3px 1px rgba(60, 64, 67, 0.15);\n",
              "    fill: var(--button-hover-fill-color);\n",
              "  }\n",
              "\n",
              "  .colab-df-quickchart-complete:disabled,\n",
              "  .colab-df-quickchart-complete:disabled:hover {\n",
              "    background-color: var(--disabled-bg-color);\n",
              "    fill: var(--disabled-fill-color);\n",
              "    box-shadow: none;\n",
              "  }\n",
              "\n",
              "  .colab-df-spinner {\n",
              "    border: 2px solid var(--fill-color);\n",
              "    border-color: transparent;\n",
              "    border-bottom-color: var(--fill-color);\n",
              "    animation:\n",
              "      spin 1s steps(1) infinite;\n",
              "  }\n",
              "\n",
              "  @keyframes spin {\n",
              "    0% {\n",
              "      border-color: transparent;\n",
              "      border-bottom-color: var(--fill-color);\n",
              "      border-left-color: var(--fill-color);\n",
              "    }\n",
              "    20% {\n",
              "      border-color: transparent;\n",
              "      border-left-color: var(--fill-color);\n",
              "      border-top-color: var(--fill-color);\n",
              "    }\n",
              "    30% {\n",
              "      border-color: transparent;\n",
              "      border-left-color: var(--fill-color);\n",
              "      border-top-color: var(--fill-color);\n",
              "      border-right-color: var(--fill-color);\n",
              "    }\n",
              "    40% {\n",
              "      border-color: transparent;\n",
              "      border-right-color: var(--fill-color);\n",
              "      border-top-color: var(--fill-color);\n",
              "    }\n",
              "    60% {\n",
              "      border-color: transparent;\n",
              "      border-right-color: var(--fill-color);\n",
              "    }\n",
              "    80% {\n",
              "      border-color: transparent;\n",
              "      border-right-color: var(--fill-color);\n",
              "      border-bottom-color: var(--fill-color);\n",
              "    }\n",
              "    90% {\n",
              "      border-color: transparent;\n",
              "      border-bottom-color: var(--fill-color);\n",
              "    }\n",
              "  }\n",
              "</style>\n",
              "\n",
              "  <script>\n",
              "    async function quickchart(key) {\n",
              "      const quickchartButtonEl =\n",
              "        document.querySelector('#' + key + ' button');\n",
              "      quickchartButtonEl.disabled = true;  // To prevent multiple clicks.\n",
              "      quickchartButtonEl.classList.add('colab-df-spinner');\n",
              "      try {\n",
              "        const charts = await google.colab.kernel.invokeFunction(\n",
              "            'suggestCharts', [key], {});\n",
              "      } catch (error) {\n",
              "        console.error('Error during call to suggestCharts:', error);\n",
              "      }\n",
              "      quickchartButtonEl.classList.remove('colab-df-spinner');\n",
              "      quickchartButtonEl.classList.add('colab-df-quickchart-complete');\n",
              "    }\n",
              "    (() => {\n",
              "      let quickchartButtonEl =\n",
              "        document.querySelector('#df-50c707f9-95d0-4093-a5d0-db44fe910533 button');\n",
              "      quickchartButtonEl.style.display =\n",
              "        google.colab.kernel.accessAllowed ? 'block' : 'none';\n",
              "    })();\n",
              "  </script>\n",
              "</div>\n",
              "    </div>\n",
              "  </div>\n"
            ]
          },
          "metadata": {},
          "execution_count": 52
        },
        {
          "output_type": "display_data",
          "data": {
            "text/plain": [
              "<google.colab._quickchart_helpers.SectionTitle at 0x796701fa4790>"
            ],
            "text/html": [
              "<h4 class=\"colab-quickchart-section-title\">Values</h4>\n",
              "<style>\n",
              "  .colab-quickchart-section-title {\n",
              "      clear: both;\n",
              "  }\n",
              "</style>"
            ]
          },
          "metadata": {}
        },
        {
          "output_type": "display_data",
          "data": {
            "text/plain": [
              "import numpy as np\n",
              "from google.colab import autoviz\n",
              "\n",
              "def value_plot(df, y, figscale=1):\n",
              "  from matplotlib import pyplot as plt\n",
              "  df[y].plot(kind='line', figsize=(8 * figscale, 4 * figscale), title=y)\n",
              "  plt.gca().spines[['top', 'right']].set_visible(False)\n",
              "  plt.tight_layout()\n",
              "  return autoviz.MplChart.from_current_mpl_state()\n",
              "\n",
              "chart = value_plot(_df_0, *['cost'], **{})\n",
              "chart"
            ],
            "text/html": [
              "      <div class=\"colab-quickchart-chart-with-code\" id=\"chart-79f027b7-ef44-4ff1-ac70-d17ea7545561\">\n",
              "        <img src=\"data:image/png;base64,iVBORw0KGgoAAAANSUhEUgAAAYoAAADECAYAAACBW2a4AAAAOXRFWHRTb2Z0d2FyZQBNYXRwbG90\n",
              "bGliIHZlcnNpb24zLjcuMSwgaHR0cHM6Ly9tYXRwbG90bGliLm9yZy/bCgiHAAAACXBIWXMAAA9h\n",
              "AAAPYQGoP6dpAAAkBElEQVR4nO3deVxU9cIG8OfMDAwMyyCIILKJiKYioEmYimmpaKlUmrZZKYrX\n",
              "kox7s7ypvXl7xfumJOX1qmVqG2pqRaWWO5jmjpUmCrGIsgjIDsN23j8GR6eB0WEbBp7v53M+wtnm\n",
              "N93R555z5jxHEEVRBBERUSMkxh4AERG1bwwKIiLSi0FBRER6MSiIiEgvBgUREenFoCAiIr0YFERE\n",
              "pBeDgoiI9GJQEBGRXgwKIiLSi0FB1MYOHz4MQRBQU1Nj7KEQ3RMGBRER6cWgINKjoqICixcvho+P\n",
              "D2xsbODl5YUtW7YAADZv3owBAwbA1tYWAwYM0MwHgMLCQkyfPh1du3aFra0tfHx8sGPHDmRkZGD8\n",
              "+PEAADs7O1hbW2P58uVGeW9E90pm7AEQtWezZ8/G5cuX8e2336Jv377IyspCdnY2du7ciYiICHz9\n",
              "9dd46KGHcOjQIYSGhkKpVCI0NBTvvfceSkpKkJqaCmtra2RkZKCsrAzu7u7Ys2cPRo0ahcLCQshk\n",
              "/CtI7R+PKIgakZeXhy+++AJr167FfffdB0EQ4OLigkGDBmHDhg2YNWsWHn74YUilUjzyyCOYNWsW\n",
              "1q1bBwAwNzdHfn4+Ll26BFEU4eHhgX79+hn5HRE1DYOCqBGpqakAgD59+ugsu3r1Knr16qU1z9vb\n",
              "GxkZGQCA119/HWPHjkVYWBgcHBwwdepUJCcnt/6giVoBg4KoEZ6engCAy5cv6yxzc3NDSkqK1ryU\n",
              "lBS4u7sDABQKBZYtW4bz588jJSUFMpkML7zwAgBAIuFfOzIt/MQSNcLR0RFPP/00Xn75ZSQlJQEA\n",
              "srKycPbsWYSFheGTTz7B4cOHUVtbi4MHD2Ljxo2YM2cOACAuLg4XLlxATU0NFAoFLC0tNdcjnJ2d\n",
              "AUCzT6L2jkFBpMdHH32EkSNHYvz48bC2tsawYcNw4cIFTJ06FatWrcK8efNgZ2eH+fPnIyYmBk88\n",
              "8QQA9Wmr0NBQ2NnZoUePHsjJycHGjRsBAD4+Ppg/fz5GjRoFOzs7rFixwphvkeiuBD4zm4iI9OER\n",
              "BRER6cWgICIivRgURESkF4OCiIj0YlAQEZFeDAoiItKLQUFERHqZZFDExMQYewhERJ2GSQZFenq6\n",
              "sYdARNRpmGRQEBFR2zEoKCorKxEaGgofHx/4+flhzJgxmurkl156STN/2LBhOHXqVKP7EQQBvr6+\n",
              "8Pf3h7+/PxISEpr3LoiIqNUY/HitOXPmYPz48RAEAWvWrEFYWBgOHz6Mxx9/HB999BFkMhm+//57\n",
              "TJ06FWlpaY3uJyEhAXZ2ds0YOhERtQWDjigsLCwwYcIECIIAAAgKCtKEwaRJkzQ1ykFBQbh27Rpq\n",
              "ampadrTN9O+9l3Diz3xjD4OIyKQ06xpFTEwMJk+e3OD8CRMm6H0e8MMPPww/Pz9ERkairKys0fVU\n",
              "KhWKi4u1ptraWoPHuu9iDv57OAXTP/oF735/EZXVhu+DiKgzanJQLF++HMnJyYiKitKa//nnn2P7\n",
              "9u3YsGFDo9ump6fjzJkzOHbsGG7cuIHXX3+90XWjoqKgVCq1ppMnTxo83iAve0y73w2iCHx8NBWP\n",
              "fXgUv2YWGrwfIqLOpknPo1i5ciW2bt2K/fv3a11n2LZtGxYvXowDBw5oHgl5N8ePH8ecOXPw22+/\n",
              "NbhcpVJBpVJpzVuyZEmT76U48EcO3tj5G/JKVZBKBLwyyhuvjPaGmZRfACMiaojB/zpGR0cjNjYW\n",
              "+/bt0wqJ7du3Y/Hixdi/f7/ekLh58ybKy8sBAHV1ddi2bRsCAgIaXV8ul8PW1lZrkkqlhg5b4+H7\n",
              "nPDTa8F41Lc7autExBy4gifWHsOVnJIm75OIqCMz6IgiMzMTbm5u8PLygo2NDQD1P+QnTpyAmZkZ\n",
              "nJ2d4eDgoFn/wIEDcHBwwLp163D9+nUsW7YMx48fR3h4OARBQE1NDQYNGoSYmBjY29vf86AjIyMR\n",
              "HR1twNvUJYoi4s5fx9JvL6CoohrmMgkWjuuDmcN6QiIRmrVvIqKOxCQfhdoSQXFLTnElFu74FUcu\n",
              "3wAABPa0x6qpfnCzV7TI/omITF2nPzHvZGuBzS8NwfLHfaEwl+JkagFCVscj9mQGTDBDiYhaXKcP\n",
              "CkB9p/gzD7hj76vBCPS0R1lVLRbt+g0zN59CbnGlsYdHRGRUDIo7uDsoEDsnCG9NuA/mMgkOJd3A\n",
              "mPfjEXf+urGHRkRkNAyKv5BKBMwO9sL384djQA9bFFVUIyL2HF7+8ixullUZe3hERG2OQdEIHycb\n",
              "fD1vGCIe7g2pRMAPv2Zh7Op4HLqUa+yhERG1KQaFHmZSCSLH+GDX3x5EL0cr3ChR4aXNp/Dmzl9R\n",
              "qmpfPVZERK2FQXEP/Nzs8EPECMwa3hOCAGw9dRUhq+PxCwsGiagTYFDcIwszKZY81g+xs4Pg2sUS\n",
              "mTcr8PRHv+BfLBgkog6OQWGgIC8H7F0QjOlD1AWDG1kwSEQdHIOiCazlMqx4ciA+efF+ONrIkZxb\n",
              "isfXHsP7+y6jurbO2MMjImpRDIpmGN3XCT8tCMajA1kwSEQdF4OimbpYmeM/zwzCB08HQGlpht+u\n",
              "FeHRD4/io/g/UVvHChAiMn0MihYyyc8FP70WjIf6OKKqpg7/u/sPPL3hF2Tklxt7aEREzcKgaEFO\n",
              "thbY9OIQRD3hCytzKU6mFSAkJh5fnmDBIBGZLgZFCxMEAU8HumPvgmAE9rRHeVUt/vn1b3hp8ynk\n",
              "sGCQiEwQg6KVuNkrsHV2EBY/qi4YPJx0A2NZMEhEJohB0YokEgFhI7zwAwsGiciEGRQUlZWVCA0N\n",
              "hY+PD/z8/DBmzBgkJycDAHJzcxESEoLevXtjwIABiI+Pb3Q/33//Pfr27YvevXvjiSeeQHFxcfPe\n",
              "RTvXu75g8NW/FAwevJRj7KEREd2VwUcUc+bMQVJSEs6fP4/JkycjLCwMAPDmm28iKCgIV65cwaZN\n",
              "m/DMM8+gurpaZ/vS0lLMmjUL33zzDa5cuQIXFxf861//av47aefMpBK8NsYHX897EN7drHGjRIWZ\n",
              "m0/jjR2/oqRS978TEVF7YVBQWFhYYMKECRAEAQAQFBSEtLQ0AMD27dsxd+5cAMCQIUPg4uKCI0eO\n",
              "6Oxjz549CAgIQN++fQEA8+bNQ2xsbHPeg0kZ6GqH7+cPR1h9weC201cRsjoBx1NYMEhE7VOzrlHE\n",
              "xMRg8uTJyM/PR3V1NZydnTXLPD09kZGRobNNRkYGPDw8tNbLyspCTU3Dtd0qlQrFxcVaU22taZfw\n",
              "WZhJsfiOgsFrheqCwWXfsWCQiNqfJgfF8uXLkZycjKioqJYcj46oqCgolUqt6eTJk636mm3lVsHg\n",
              "04FuAIBPfk7Fox8k4PzVQuMOjIjoDk0KipUrV2LXrl3Ys2cPFAoFHBwcIJPJkJ2drVknLS0N7u7u\n",
              "Otu6u7sjPT1da73u3btDJpM1+FqLFi1CUVGR1hQYGNiUYbdL1nIZop4YiE0vDkE3GzlSbpThif8e\n",
              "Q/RPSSwYJKJ2weCgiI6ORmxsLPbt2wc7OzvN/KlTp2LdunUAgFOnTuHatWsYOXKkzvYhISE4e/Ys\n",
              "Ll26BABYu3Ytpk+f3ujryeVy2Nraak1SqdTQYbd7o/p2w48LgvFYfcHgBweT8fjan3GZBYNEZGSC\n",
              "aEC3RGZmJtzc3ODl5QUbGxsA6n/IT5w4gZycHDz//PNITU2Fubk51qxZg1GjRgEAli5dChcXF83F\n",
              "7ri4OCxcuBA1NTUYMGAAtmzZAqVSec+DjoyMRHR0tCHv06R8d/46lnz7OwrLq2Euk+AfY30wa7gX\n",
              "pBLB2EMjok7IoKBoLzp6UABAbnEl3tj5Kw4l3QAABHraY+VUP7g7KIw8MiLqbHhndjvVzdYCn7w4\n",
              "BCv+UjD4xYl0FgwSUZtiULRjgiBgen3B4AP1BYNvff07Xtx0CtlFLBgkorbBoDABbvYKxN5RMHjk\n",
              "8g2MWx2PbxOv8eiCiFodg8JE3CoY3B0xHANdlSiqqMarWxPxypfnUMCCQSJqRQwKE+PdzQY7//Yg\n",
              "FjzSGzKJgB9+y8LY9+Nx4A8WDBJR62BQmCAzqQQLHvHB1/OGoXc3a+SVqjBry2ks3HGeBYNE1OIY\n",
              "FCbM11WJ7+YPx+wR6oLB7aczEbI6AcdS8ow9NCLqQBgUJs7CTIq3Hu2HrbOD4GavLhh85qMTeOe7\n",
              "CywYJKIWwaDoIB7wcsCeV4PxdKC6X2vTz2mY8EECElkwSETNxKDoQNQFg77Y9JK6YPDPG2V4sr5g\n",
              "sKqGBYNE1DQMig5oVJ9u+Om1YEzyc9EqGEzKZsEgERmOQdFB2SnM8cHTAVjzTADsFGa4cL0YEz88\n",
              "ivVHUlBbx5v0iOjeMSg6uMcGuuCnBcEY3bcbqmrrELXnEqZvOI70/DJjD42ITASDohPoZmuBjS/c\n",
              "j/97ciCszKU4lXYT42MS8PkvLBgkortjUHQSgiDgqSFuWgWDi7/5HS+wYJCI7oJB0cncKhhc8lg/\n",
              "yGUSxF++gbHvH8E351gwSEQNY1B0QhKJgFnDe+KHiOHwc1WiuLIGC7Yl4uUvz7JgkIh0GBQUERER\n",
              "8PT0hCAISExMBADk5+fD399fM/n4+EAmk6GgoEBn+7S0NEilUq31U1JSWuSNkOFuFQxGjvGBTCJg\n",
              "92/ZGPt+PPZfZMEgEd0mM2TlKVOmYOHChRg+fLhmnoODgyY0AGDlypU4cuQI7O3tG9yHjY2N1vpk\n",
              "XDKpBBEP98bovt3w2rZEXMktRdinpzF1sCuWTuwHGwszYw+RiIzMoCOK4OBguLq66l1n48aNmDVr\n",
              "VrMGRW1vQA91wWB4sBcEAfjqDAsGiUitRa9RHDt2DDdv3sRjjz3W6DplZWUYMmQIBg0ahGXLlqG2\n",
              "Vn9xnUqlQnFxsdZ0t22oaSzMpFg04T5smzMU7vYKTcHg/8RdQEUV/5sTdVYtGhQbN27EjBkzIJM1\n",
              "fEare/fuuHbtGk6dOoX9+/cjISEBq1at0rvPqKgoKJVKrenkyZMtOWz6i8Ce9tjz6gg884C6YHDz\n",
              "sTQ8+iELBok6qxYLitLSUmzfvh0zZ85sdB25XI5u3boBAOzt7TFz5kwkJCTo3e+iRYtQVFSkNQUG\n",
              "BrbUsKkRVnIZlj/ui80vDYGT7e2CwVUsGCTqdFosKLZt2wY/Pz/07du30XVyc3NRXa1+AptKpcKu\n",
              "XbsQEBCgd79yuRy2trZak1Qqbalh01081KcbflwQjMn+6oLBDw8mI/Q/LBgk6kwMCorw8HC4uroi\n",
              "MzMT48aNg7e3t2ZZYxexly5dinXr1gEAjh49ioCAAPj5+WHQoEFwdnbGW2+91cy3QK3NTmGOmOkB\n",
              "WPvsIHRRmOFilrpgcB0LBok6BUE0wdtxIyMjER0dbexhdEq5JZVYtPM3HLiUCwC436MLVj3lBw8H\n",
              "KyOPjIhaC+/MJoN0s7HAx/UFg9ZyGU6n30TI6gR8xoJBog6LQUEGu10wOAJBXvaoqK7Fkm9+x4xP\n",
              "TiKrqMLYwyOiFsagoCZz7aLAl2FBWFpfMJhwJQ/j3o9nwSBRB8OgoGaRSATMHN4TP0SM0CoYnPfF\n",
              "WeSXqow9PCJqAQwKahHe3ayx828P4u/1BYN7fs/GuNXx2MeCQSKTx6CgFiOTSjD/4d745uVh6ONk\n",
              "g7zSKsz+9DT+8dV5FFdWG3t4RNREDApqcQN6KBE3fxjCR6oLBnecycT41Qk4lsyCQSJTxKCgViGX\n",
              "SbFo/H3YHn5HweDHLBgkMkUMCmpVQzzVBYPP3lkw+EECzmXcNPLIiOheMSio1VnJZfjfx32xZWag\n",
              "umAwT10wuPJHFgwSmQIGBbWZkT6O+GnBSIT6u6BOBNYcUhcMXsouNvbQiEgPBgW1KaXCDKv/UjA4\n",
              "6cOf8d/DLBgkaq8YFGQUE3y746fXRuKR+5xQVVuHf++9hKfWH0daXpmxh0ZEf8GgIKNxtJHjoxmD\n",
              "8d4UdcHgmfSbGB+TgM+Op7EChKgdYVCQUQmCgKn3qwsGh3o5qAsGv73AgkGidoRBQe2CaxcFvgh7\n",
              "AG9PvF0wOPb9eHx9LpNHF0RGxqCgdkMiEfDSsJ7Y/eoI+LnZoaSyBq9tO4+/fc6CQSJjMigoIiIi\n",
              "4OnpCUEQkJiYqJnv6emJPn36wN/fH/7+/ti2bVuj+9i4cSN69+6NXr16Yfbs2ZpnaBPd0svRGjvn\n",
              "DsU/xqoLBvdeUBcM/nQh29hDI+qUDAqKKVOm4OjRo/Dw8NBZtm3bNiQmJiIxMRHTpk1rcPvU1FQs\n",
              "WbIECQkJSE5ORk5ODjZs2NC0kVOHJpNK8Mro3vj2ldsFg3M+O4O/b2fBIFFbMygogoOD4erq2uQX\n",
              "27FjByZNmgRnZ2cIgoC5c+ciNja2yfujjq+/i7pgcO7IXpAIwM6zmQh5Px4/s2CQqM202DWKGTNm\n",
              "wNfXF7NmzcKNGzcaXCcjI0PraMTT0xMZGRl696tSqVBcXKw11dayVK4zkcukeHN8X2wPHwoPBwWu\n",
              "F1Xi2Y9P4O1vf2fBIFEbaJGgiI+Px6+//oqzZ8+ia9eueOGFF1pitwCAqKgoKJVKrenkyZMttn8y\n",
              "Hfd72mN3xAg8F6QuGNxyPB2PfpCAsywYJGpVLRIU7u7qv7hmZmZYsGABEhISGl0vPT1d83taWppm\n",
              "28YsWrQIRUVFWlNgYGBLDJtMkJVchndDffHpzEA421rgz7wyTPnvMbz34yUWDBK1kmYHRVlZGQoL\n",
              "CzW/x8bGIiAgoMF1n3zyScTFxSE7OxuiKGLdunWYPn263v3L5XLY2tpqTVKptLnDJhMX7OOIHxcE\n",
              "4/GAHqgTgf8cSsHk//yMP7JYMEjU0gwKivDwcLi6uiIzMxPjxo2Dt7c3cnJyMGrUKAwcOBC+vr44\n",
              "cuQIPv30U802YWFhiIuLAwB4eXnhnXfewbBhw+Dt7Q1HR0eEh4e37DuiTkOpMMP70/yx7rlBsLcy\n",
              "xx9ZxZi05ijWHk5mwSBRCxJEE7ztNTIyEtHR0cYeBrUjN0pU+OfXv2HfxRwAwCB3O6x6yh89u1oZ\n",
              "eWREpo93ZlOH4Ggjx4bnB2PlVD/YyGU4m1GICTEJ+PR4Gup4dEHULAwK6jAEQcCUwa7Y+1owhnmr\n",
              "CwaX1hcMXi9kwSBRUzEoqMPpYWeJz2Y+gP+Z2A8WZhIcTc7DuNXx2HWWBYNETcGgoA5JIhHw4rCe\n",
              "2B0xAv71BYOR289j7udnWDBIZCAGBXVoXo7W2DF3KF4f1wdmUgE/XsjB2Pfj8SMLBonuGYOCOjyZ\n",
              "VIKXR3nj25eHo6+zDfLLqhD+2RlEbk9EUQULBonuhkFBnUY/F1t8+8ow/O0hdcHgrrPXELI6Hkev\n",
              "sGCQSB8GBXUqcpkUb4T0xVdzh8LTQYGsoko8t5EFg0T6MCioUxrsYY/dr47AjKHqNuMtx9Mx4YME\n",
              "nElnwSDRXzEoqNNSmMuwbPIAfDZLXTCYmleGqeuO4f/2XoKqhkcXRLcwKKjTG9HbET++Fown6gsG\n",
              "1x5OweQ1LBgkuoVBQQRAaWmG6Gn+WPfcYDhYmeNSdgkmrTmK/xxKRk0t68upc2NQEN0hZIAzfnwt\n",
              "GGP7OaG6VsR7PyZh6vrjSM0rM/bQiIyGQUH0F12t5Vj//GCsqi8YPJdRiPEx8dhyjAWD1DkxKIga\n",
              "IAgCnryjYLCyug5vx7FgkDonBgWRHrcKBpdN7q9VMLjzDAsGqfNgUBDdhUQiYMZQT+yOGIEAd3XB\n",
              "4N+/Oo/wz84gjwWD1AkYFBQRERHw9PSEIAhITEwEAFRWViI0NBQ+Pj7w8/PDmDFjkJyc3OD2aWlp\n",
              "kEql8Pf310wpKSnNfhNEbcHL0Rpfhd8uGPzpYg7GvR+Pvb+zYJA6NoOCYsqUKTh69Cg8PDy05s+Z\n",
              "MwdJSUk4f/48Jk+ejLCwsEb3YWNjg8TERM3Uq1evpo2cyAgaKhic+/kZRG5jwSB1XAYFRXBwMFxd\n",
              "XbXmWVhYYMKECRAEAQAQFBSEtLS0FhsgUXt0q2Bw3q2CwXPqgsGEKzeMPTSiFidr6R3GxMRg8uTJ\n",
              "jS4vKyvDkCFDUFtbi9DQULz11luQSqWNrq9SqaBSaZ8Hrq1lvQIZn1wmxcKQvnj4Pif8fXsi0vLL\n",
              "8fzGk+jdzRoeDgq421up/3RQwMNeAdcuCpjLeFmQTE+LBsXy5cuRnJyMAwcONLi8e/fuuHbtGrp1\n",
              "64aCggJMmzYNq1atwsKFCxvdZ1RUFN555x2teUFBQS05bKJmGezRBbtfHYF/77mELcfTcSW3FFdy\n",
              "S3XWkwhAd6UlPBwU2kFir/7dxsLMCKMnujtBbMJ3/Dw9PfHNN9/A399fM2/lypXYunUr9u/fDzs7\n",
              "u3vaT2xsLL788kt89913ja7T0BHFkiVLEBMTY+iwiVpdVlEFruSUIr2gHOl5ZUgvKEdGfjkyCspR\n",
              "Ua3/SNjeylwTGh72Crg7WGl+drSRa07vErW1FjmiiI6ORmxs7F1DIjc3F126dIGZmRlUKhV27dqF\n",
              "gIAAvfuWy+WQy+Va8/SdqiIypu5KS3RXWurMF0URN0pU6gDJL0dGftntnwvKUVBWpZkSrxbqbK8w\n",
              "l8Ld/vbRh7uDFTzqf3axs4SZlKe0qPUYdEQRHh6OH374AdnZ2XBwcICNjQ0OHz4MNzc3eHl5wcbG\n",
              "BoD6H/cTJ04AAJYuXQoXFxfMnTsXu3btwtKlSyGVSlFTU4PRo0dj5cqVOkFwN5GRkYiOjjZoG6L2\n",
              "rKSyWhMa6j/LkJ6v/jmrqAL6mkOkEgE97Cy1TmPdeVrLSt7ilyKpk2nSqSdjY1BQZ1JVU4fMm+Wa\n",
              "01h3BklGQTlUNfrbbbtay+84naUdJA5W5jylRXfF/6tB1M6ZyyTwcrSGl6O1zrK6OhG5JSqk59++\n",
              "HqL+U/17YXk18kpVyCtVNfj0PitzqdZpLPU3tNQh0l1pARlPaREYFEQmTSIR4Ky0gLPSAg94Oegs\n",
              "L6qorg+P+iOQ+p8z8suRVVyJsqpa/JFV3OBDmmQSAa5dLLWDxF4BDwcruNsrYGnOa4WdBYOCqANT\n",
              "WprB11UJX1elzrLK6lpk3qzQuh6ivkZShqsFFaiqrUNafjnS8ssb3Hc3G7nWaaw7g6SLwoyntDoQ\n",
              "BgVRJ2VhJoV3N2t4d2v4lFZ2caX2hXXNNZIyFFfWILdEhdwSFU6l6Z7SspHLNNdDPOqPSNzrf3a2\n",
              "tYBUwhAxJQwKItIhkQhwsbOEi50lhvbSPaVVWF6F9PxypOWX3XFdRH1aK6dYhRJVDS5cL8aF67qn\n",
              "tMylErjaW9afzrK6fe+Ig/rudQszntJqbxgURGQwO4U57BTm8HOz01lWWV2r+Zpven7ZHV/5LUfm\n",
              "zXJU1dbhzxtl+PNGGQDtbixBAJxtLe4IjzuCxN4KSgXvXjcGBgURtSgLMyl8nGzg42Sjs6y2TsT1\n",
              "worbQVJ/Yf1WkJSqapBVVImsokqcSC3Q2V5paaZ1v4iHvZXmFJeTjQUkPKXVKhgURNRmpBIBbvYK\n",
              "uNkrMMxbe5koiigoq9K6X0QTJAXluFGiQlFFNX7NLMKvmUU6+5bLJHCzv+N+kVunthwUcO1iCbmM\n",
              "p7SaikFBRO2CIAhwsJbDwVqOQe5ddJaXV9XcPo1151d+C8px7WYFVDV1SM4tRXIDhYyCALgoLe+o\n",
              "QLl9v4i7gwK2LGTUi0FBRCZBYS5DX2db9HW21VlWU1uH64WVWuGRnn/75/KqWlwrrMC1wgoc/zNf\n",
              "Z/suCrMG7xfxdGAhI8CgIKIOQCaVwL3+6GBEb+1loigir7SqwftFMgrKkVdahZvl1bhZXojzDRQy\n",
              "WprVFzJqTmfdLmXs0aVzFDIyKIioQxMEAY42cjjayDHYw15neamqpr4K/i/3ixSU4drNClRU1yIp\n",
              "pwRJOSU620olAlzsLG5fVP9LKWNHKWTsGO+CiKiJrOUy9HOxRT8X3VNaVTV1uFZYofU131s3IWYU\n",
              "lKOyug5XCypwtaACSNbdd1drc63akzsfWtXV2nQKGRkURESNMJdJ0LOrFXp2tdJZJoq3Chm17xe5\n",
              "Vcp4s7waeaVVyCutwtmMQp3trcyl6m9pNXC/iItd+ypkZFAQETWBIAhwsrWAk60FAnvqntIqrqzW\n",
              "/Zpv/fWR60UVKKuqxaXsElzK1j2lJZMI6NHFssH7RdztFVCYt+0/3QwKIqJWYGthhgE9lBjQQ7eQ\n",
              "UVVTX8hYfzSiVRFfUI6qmjrNaa6EK7r7nj/aG38f26cN3oUag4KIqI3JZVL0crRGr0aeMZJTUtng\n",
              "/SLp+eUoqqhGV2vDngraXAYFRUREBOLi4pCeno5z587B398fAHDlyhW88MILyMvLg1KpxObNm9G/\n",
              "f/8G97Fx40asWLECdXV1GD16NNauXQszM97sQkQEqAsZbz17PaihZ4yUV0PSxpcvDHq5KVOm4OjR\n",
              "o/Dw8NCaHx4ejjlz5uDy5ct444038OKLLza4fWpqKpYsWYKEhAQkJycjJycHGzZsaPLgiYg6G6XC\n",
              "DDZtfCe5QUERHBwMV1dXrXm5ubk4ffo0nnvuOQDAk08+iatXryI5Wfe7Yjt27MCkSZPg7OwMQRAw\n",
              "d+5cxMbGNmP4RETU2pp9jeLq1avo3r07ZDL1rgRBgLu7OzIyMuDtrd36lZGRoXU04unpiYyMDL37\n",
              "V6lUUKlUWvNqa2ubO2wiIrpH7eeLuo2IioqCUqnUmk6ePGnsYRERdRrNPqJwc3NDVlYWampqIJPJ\n",
              "IIoiMjIy4O7urrOuu7s7UlJSNL+npaU1uN6dFi1ahMjISK15M2bM0Jl3L2pra3Hy5EkEBgZCKm0/\n",
              "lcMcl2Ha67iA9js2jsswHXlcHh4eePXVVw3bSGwCDw8P8dy5c5rfR44cKW7atEkURVH86quvxMGD\n",
              "Bze4XUpKiti9e3cxKytLrKurEydOnCh++OGHTRlCkxQVFYkAxKKiojZ7zXvBcRmmvY5LFNvv2Dgu\n",
              "w3Bc2gw69RQeHg5XV1dkZmZi3LhxmmsQ69evx/r16+Hj44MVK1Zg06ZNmm3CwsIQFxcHAPDy8sI7\n",
              "77yDYcOGwdvbG46OjggPDzcs2YiIqE0ZdOpp/fr1Dc7v06cPjh8/3uCyjz/+WOv32bNnY/bs2Ya8\n",
              "LBERGVG7v5hNRETG1amCQi6X4+2334Zc3ra3v98Nx2WY9jouoP2OjeMyDMelTRBFUWzTVyQiIpPS\n",
              "qY4oiIjIcAwKIiLSi0FBRER6mXRQpKWlYd26dW3yOg899BCUSqWmWp06Pn6+qLW11Wfs4MGDCAwM\n",
              "RL9+/dC/f38sXLgQdXV197x9pw2Kmpqae17X1tYW7777Lr788ssmvRaZJn6+qLW11WesS5cu2Lp1\n",
              "Ky5evIgzZ87g2LFj+PTTT+95e5MIioqKCkybNg39+vWDn58fxo4dCwCYO3cukpKS4O/vj0mTJgEA\n",
              "Tp8+jQcffBADBw5EYGAgfv75ZwDq/0Hs7OzwxhtvYNCgQVizZg2ys7Px1FNPITAwEL6+vli8eHGD\n",
              "r29vb4/hw4fDykr3Aetk+vj5otZm7M9YQEAAvLy8AAAWFhbw9/dHWlravb+BNi0MaaJdu3aJY8eO\n",
              "1fyen58viqIoHjp0SPTz89PMV6lUopubm7h3715RFEUxISFBdHJyEktKSsTU1FQRgLhlyxbN+mPH\n",
              "jhUPHz4siqIoVldXi+PGjRO3b9/e6Dj++nrUMfDzRa2tvXzGRFEUs7KyRCcnJ/HUqVP3PH6TeGa2\n",
              "n58f/vjjD8ybNw8jR47EhAkTGlwvKSkJEokE48aNAwAMHz4cTk5OSExMhKurK8zMzDQPWCorK8OB\n",
              "AweQk5Oj2b60tBRJSUmt/4aoXeHni1pbe/mMFRcXY+LEiVi4cCHuv//+ex6/SQSFl5cXLl68iIMH\n",
              "D2L//v1YuHAhEhMT72lbQRA0PysUCkjqHzYr1t9n+Msvv8DCwqLFx0ymg58vam3t4TNWUlKCkJAQ\n",
              "TJ482eDHNJjENYrMzEwIgoBJkyZh5cqVEEURV69eha2tLYqKijTr9enTB3V1ddi3bx8A4NixY8jO\n",
              "zm7wmyTW1tYYNWoUVqxYoZl3/fp1ZGZmtvr7ofaFny9qbcb+jJWWliIkJAQhISGNXsfQ655PUhnR\n",
              "7t27RT8/P3HgwIFiv379xH/+85+iKKrPyT366KNi//79xYkTJ4qiKIqnTp0Shw4dKvr6+opDhgwR\n",
              "ExISRFEUxdTUVFGpVGrtNycnR3z22WfF/v37iwMGDBAfeOABMTExUef1y8rKxB49eohdu3YVzczM\n",
              "xB49eohvvvlm675pajP8fFFrM/Zn7N133xVlMpno5+enmd599917Hj+7noiISC+TOPVERETGw6Ag\n",
              "IiK9GBRERKQXg4KIiPRiUBARkV4MCiIi0otBQUREejEoiIhILwYFERHpxaAgIiK9GBRERKTX/wNM\n",
              "h2PVkOZcLwAAAABJRU5ErkJggg==\n",
              "\">\n",
              "        \n",
              "      </div>\n",
              "      <script></script>\n",
              "      <script type=\"text/javascript\">\n",
              "        (() => {\n",
              "          const chartElement = document.getElementById(\"chart-79f027b7-ef44-4ff1-ac70-d17ea7545561\");\n",
              "          async function getCodeForChartHandler(event) {\n",
              "            const chartCodeResponse =  await google.colab.kernel.invokeFunction(\n",
              "                'getCodeForChart', [\"chart-79f027b7-ef44-4ff1-ac70-d17ea7545561\"], {});\n",
              "            const responseJson = chartCodeResponse.data['application/json'];\n",
              "            await google.colab.notebook.addCell(responseJson.code, 'code');\n",
              "          }\n",
              "          chartElement.onclick = getCodeForChartHandler;\n",
              "        })();\n",
              "      </script>\n",
              "      <style>\n",
              "        .colab-quickchart-chart-with-code  {\n",
              "            display: block;\n",
              "            float: left;\n",
              "            border: 1px solid transparent;\n",
              "        }\n",
              "\n",
              "        .colab-quickchart-chart-with-code:hover {\n",
              "            cursor: pointer;\n",
              "            border: 1px solid #aaa;\n",
              "        }\n",
              "      </style>"
            ]
          },
          "metadata": {}
        },
        {
          "output_type": "display_data",
          "data": {
            "text/plain": [
              "<google.colab._quickchart_helpers.SectionTitle at 0x796701fa7c40>"
            ],
            "text/html": [
              "<h4 class=\"colab-quickchart-section-title\">Distributions</h4>\n",
              "<style>\n",
              "  .colab-quickchart-section-title {\n",
              "      clear: both;\n",
              "  }\n",
              "</style>"
            ]
          },
          "metadata": {}
        },
        {
          "output_type": "display_data",
          "data": {
            "text/plain": [
              "import numpy as np\n",
              "from google.colab import autoviz\n",
              "\n",
              "def histogram(df, colname, num_bins=20, figscale=1):\n",
              "  from matplotlib import pyplot as plt\n",
              "  df[colname].plot(kind='hist', bins=num_bins, title=colname, figsize=(8*figscale, 4*figscale))\n",
              "  plt.gca().spines[['top', 'right',]].set_visible(False)\n",
              "  plt.tight_layout()\n",
              "  return autoviz.MplChart.from_current_mpl_state()\n",
              "\n",
              "chart = histogram(_df_1, *['cost'], **{})\n",
              "chart"
            ],
            "text/html": [
              "      <div class=\"colab-quickchart-chart-with-code\" id=\"chart-24760da5-569a-4ccd-86b2-4ff3b5531c00\">\n",
              "        <img src=\"data:image/png;base64,iVBORw0KGgoAAAANSUhEUgAAAYwAAADECAYAAACMRRb/AAAAOXRFWHRTb2Z0d2FyZQBNYXRwbG90\n",
              "bGliIHZlcnNpb24zLjcuMSwgaHR0cHM6Ly9tYXRwbG90bGliLm9yZy/bCgiHAAAACXBIWXMAAA9h\n",
              "AAAPYQGoP6dpAAAZH0lEQVR4nO3de1BU58EG8OcAdavRBUQJCCwUlkUtCoIwFq2XWFvt1yCFpGNa\n",
              "HLFysTGajJ1ojcmk2BTspLahmbGAWKJDLqaAkXppa6KxmmgALwShhovgrglIoiOYBlcX3u8P69YN\n",
              "LJ6zctwFn9/MmYHj69nnDR6e7L6750hCCAEiIqK7cHN2ACIiGhpYGEREJAsLg4iIZGFhEBGRLCwM\n",
              "IiKShYVBRESysDCIiEgWFgYREcnCwiAiIllYGEREJAsLg8gFvP/++5AkCRaLxdlRiOxiYRARkSws\n",
              "DCKFuru78fzzz8NgMGDMmDEIDQ3Fjh07AACvvfYaIiMjodVqERkZad0PAFevXsWSJUswbtw4aLVa\n",
              "GAwGlJaWwmg0YtGiRQAALy8vjB49Gjk5OU6ZG9FAPJwdgGioycjIQENDA/bs2YOJEyeira0N7e3t\n",
              "KCsrw5o1a7B7927MnTsXhw8fRlJSEjw9PZGUlISXX34Z165dQ0tLC0aPHg2j0Yj//Oc/0Ol0OHDg\n",
              "AObNm4erV6/Cw4OnJbkmPsMgUuCLL77A66+/jq1bt2LSpEmQJAkTJkxATEwMCgsLsWLFCsyfPx/u\n",
              "7u743ve+hxUrViA/Px8AMGLECFy+fBnnzp2DEALBwcGYPHmyk2dEJB8Lg0iBlpYWAEBERESfPzOZ\n",
              "TAgLC7PZp9frYTQaAQDPPvssvv/97yM9PR0+Pj54/PHH0dTUpH5ookHCwiBSICQkBADQ0NDQ58+C\n",
              "goLQ3Nxss6+5uRk6nQ4AMGrUKGzatAk1NTVobm6Gh4cHli1bBgBwc+OpSK6P/0qJFBg/fjyeeOIJ\n",
              "rFq1Cp988gkAoK2tDadOnUJ6ejr+8pe/4P3330dPTw8OHTqE7du3IzMzEwBQUVGBuro6WCwWjBo1\n",
              "CiNHjrSuV/j5+QGA9ZhEroiFQaTQtm3bMGfOHCxatAijR4/GzJkzUVdXh8cffxxbtmzBk08+CS8v\n",
              "L6xevRp5eXlITk4GcOvlrKSkJHh5eSEgIACXLl3C9u3bAQAGgwGrV6/GvHnz4OXlhc2bNztzikT9\n",
              "knhPbyIikoPPMIiISBYWBhERycLCICIiWVgYREQkCwuDiIhkYWEQEZEsLAwiIpJlWBRGXl6esyMQ\n",
              "EQ17w6IwLly44OwIRETD3rAoDCIiUp+qhbFmzRqEhIRAkiScOXPG7rjt27cjPDwcYWFhyMjIwM2b\n",
              "N9WMRUREDlC1MB577DEcO3YMwcHBdse0tLTghRdewNGjR9HU1IRLly6hsLBQzVhEROQAVQtj9uzZ\n",
              "CAwMHHBMaWkpEhMT4efnB0mSsHLlSrz55ptqxiIiIgc4/ebBRqPR5hlISEiI9Q5l/TGbzTCbzTb7\n",
              "enp6VMtHRES3OL0wlMrNzUV2drbNvhkzZjh8vJBf7bunPK2b/++e/r6j7iW3szITkX1D4XeR098l\n",
              "pdPpbN4W29raar2lZX82bNiAzs5Omy0+Pv5+RCUieqA5vTBSUlJQUVGB9vZ2CCGQn5+PJUuW2B2v\n",
              "0Wig1WptNnd39/uYmIjowaRqYWRlZSEwMBAXL17ED37wA+j1egBAeno6KioqAAChoaHIzs7GzJkz\n",
              "odfrMX78eGRlZakZi4iIHKDqGkZBQUG/+4uKimy+z8jIQEZGhppRiIjoHjn9JSkiIhoaWBhERCQL\n",
              "C4OIiGRhYRARkSwsDCIikoWFQUREsrAwiIhIFhYGERHJwsIgIiJZWBhERCQLC4OIiGRhYRARkSws\n",
              "DCIikoWFQUREsrAwiIhIFhYGERHJwsIgIiJZVC2MxsZGJCQkwGAwIC4uDnV1dX3G9Pb2Yu3atZg8\n",
              "eTKmTp2KefPmoampSc1YRETkANXv6Z2ZmYmGhgasX78eaWlpfcZUVFTggw8+QE1NDT7++GPMnz8f\n",
              "zz33nJqxiIjIAaoVRkdHB6qrq5GamgoASElJgclk6vPsQZIkmM1mXL9+HUIIdHV1ITAwUK1YRETk\n",
              "IA+1DmwymeDv7w8Pj1sPIUkSdDodjEYj9Hq9ddyjjz6Kw4cPw8/PD2PGjEFAQACOHDli97hmsxlm\n",
              "s9lmX09PjzqTICIiK6cveldXV+Ps2bP49NNP8dlnn2H+/PlYuXKl3fG5ubnw9PS02SorK+9jYiKi\n",
              "B5NqhREUFIS2tjZYLBYAgBACRqMROp3OZtzOnTvxyCOPwMvLC25ubli2bBkOHz5s97gbNmxAZ2en\n",
              "zRYfH6/WNIiI6L9UKwxfX1/ExMSgpKQEAFBWVobAwECbl6MAIDQ0FIcOHcKNGzcAAHv37kVkZKTd\n",
              "42o0Gmi1WpvN3d1drWkQEdF/qbaGAQAFBQVIS0tDTk4OtFotiouLAQDp6elITExEYmIiVq1ahX//\n",
              "+9+IiorCN77xDfj5+SE/P1/NWERE5ABVCyMiIgLHjx/vs7+oqMj6tUajwbZt29SMQUREg8Dpi95E\n",
              "RDQ0sDCIiEgWFgYREcnCwiAiIllYGEREJIviwvjHP/6hRg4iInJxigtj06ZNiIiIQF5eHrq6utTI\n",
              "RERELkhxYXzwwQd46623cPbsWRgMBjz55JOor69XIxsREbkQh9Ywpk2bhm3btuHvf/879u7di6lT\n",
              "p2LBggWora0d7HxEROQiHCqMd999F4sXL0ZycjJWrVqF9vZ2ZGVl4cc//vFg5yMiIheh+NIgkyZN\n",
              "wrhx47BmzRokJydbL/z32GOPYfv27YMekIiIXIPiwigpKUFsbGy/f3bgwIF7DkRERK5J8UtSJ0+e\n",
              "xJUrV6zfX758mRcPJCJ6ACgujK1bt2Ls2LHW7318fLB169ZBDUVERK5HcWEIIfrs4z21iYiGP8WF\n",
              "4e/vj7ffftv6/a5du+Dv7z+ooYiIyPUoXvR+5ZVXsHjxYqxbtw4AMGrUKOzZs2fQgxERkWtR/Axj\n",
              "4sSJqK+vx/79+7F//37U1tYiPDy837GNjY1ISEiAwWBAXFwc6urq+h1XW1uLuXPnYtKkSZg0aRLK\n",
              "y8uVxiIiIpU5dItWSZLg5eUFi8WCTz/9FACg0+n6jMvKykJmZibS0tJQWlqKtLQ0VFVV2Yz56quv\n",
              "sHjxYuzcuROzZs1CT0+PzbuwiIjINSh+hvHaa6/By8sLU6ZMQWxsLGJjYzF9+vQ+4zo6OlBdXY3U\n",
              "1FQAQEpKCkwmE5qammzGvfHGG5gxYwZmzZoFAHB3d8f48eMdmQsREalI8TOM3/zmN6iqqkJERMSA\n",
              "40wmE/z9/eHhceshJEmCTqeD0WiEXq+3jquvr4dGo8GPfvQjXLx4EVOnTsWWLVvslobZbIbZbLbZ\n",
              "x3dpERGpT/EzjHHjxt21LJSwWCx49913UVBQgNOnTyMgIAC/+MUv7I7Pzc2Fp6enzVZZWTloeYiI\n",
              "qH+KCyMpKQmvvPIKOjo60NXVZd2+LigoCG1tbbBYLABufX7DaDT2WevQ6XSYN28eAgICIEkSUlNT\n",
              "ceLECbuPv2HDBnR2dtps8fHxSqdBREQKKS6MjRs3Yu3atfDz84O3tze8vLzg7e3dZ5yvry9iYmJQ\n",
              "UlICACgrK0NgYKDNy1EA8JOf/ARVVVXW0tm/fz+ioqLsPr5Go4FWq7XZbl8AkYiI1KN4DaO3t1f2\n",
              "2IKCAqSlpSEnJwdarRbFxcUAgPT0dCQmJiIxMRE6nQ7PPfccEhIS4ObmhoCAABQWFiqNRUREKnPo\n",
              "bbUnT55EfX09li5diqtXr6K7u7vfT3tHRETg+PHjffYXFRXZfL906VIsXbrUkShERHSfOHTxwZ//\n",
              "/Of49a9/DeDW1Wp/+tOfDnYuIiJyMYoLo7CwECdOnIBWqwUAhIWF4fPPPx/0YERE5FoUF4ZGo8HI\n",
              "kSNt9t3+rAUREQ1figtj/PjxaGhogCRJAG598ru/y4IQEdHw4tDVap944gmcO3cOQUFB0Gq12Lt3\n",
              "rxrZiIjIhSguDL1ej48++giffPIJhBCIiIjg5yCIiB4AigvDaDQCAB566CEAGPBqtURENHwoLozY\n",
              "2FhIkgQhBK5fv46vvvoKPj4+6OjoUCMfERG5CMWF8fW30JaXl6OmpmbQAhERkWtS/C6pr0tOTsa+\n",
              "ffsGIwsREbkwxc8w7rwybU9PDz766KN+r1ZLRETDi+LC8PLysq5huLu7Izw8HH/605/UyEZERC5E\n",
              "1avVEhHR8HHPaxhERPRgUPwMw83NzXpZkDsJISBJEu+vTUQ0TCkujE2bNqG7u9t63+38/HyMHDkS\n",
              "zzzzzGBnIyIiF6K4MHbv3o2TJ09av3/ppZcQGxuLjRs3DmowIiJyLYrXMK5du2bzqe6Ojg5cu3Zt\n",
              "UEMREZHrUVwYv/zlLxEVFYUVK1ZgxYoVmDZtGp599tl+xzY2NiIhIQEGgwFxcXGoq6uze1whBB55\n",
              "5BF4eXkpjURERPeB4sLIysrCwYMHER0djejoaPzzn/9ERkaG3bGZmZloaGjA+vXrkZaWZve4f/zj\n",
              "HxEWFqY0DhER3ScOva3Wx8cHU6ZMwerVqxEREYEbN270GdPR0YHq6mqkpqYCAFJSUmAymdDU1NRn\n",
              "bF1dHd555x386le/ciQOERHdB4oLo7S0FDNmzMDy5csB3Ppln5SU1GecyWSCv7+/9fatkiRBp9NZ\n",
              "L49+282bN5GRkYGCggJZ99Uwm83o6uqy2fhWXiIi9SkujNzcXJw6dcq61hAVFYULFy44HCA7OxvJ\n",
              "ycmYNGmS7Mf39PS02SorKx1+fCIikkdxYbi7u8PHx8dm34gRI/qMCwoKQltbGywWC4Bbi9pGo7HP\n",
              "jZaOHDmCV199FSEhIZg1axa6uroQEhLS5zLqt23YsAGdnZ02W3x8vNJpEBGRQoo/hzFmzBhcunTJ\n",
              "+mnv9957D2PHju0zztfXFzExMSgpKUFaWhrKysoQGBgIvV5vM+7o0aPWr1tbWxEdHY3W1la7j6/R\n",
              "aKDRaGz28RaxRETqU1wYv/vd77Bo0SKcP38es2bNQktLi937YRQUFCAtLQ05OTnQarUoLi4GAKSn\n",
              "pyMxMRGJiYn3lp6IiO4bRYXR29uLnp4eHD58GB9++CGEEEhISLD72YmIiAgcP368z/6ioqJ+x4eE\n",
              "hODq1atKIhER0X2iqDDc3NyQmZmJmpoaLFq0SK1MRETkghQveoeHh/f7WQoiIhreFK9hXLlyBdHR\n",
              "0UhISMDo0aOt+8vLywc1GBERuRbZhZGZmYnCwkIsW7YMiYmJ8Pb2VjMXERG5GNmFUV1dDQBYtmwZ\n",
              "YmJicOrUKdVCERGR63HoWlJCiMHOQURELk72M4zu7m7U1tZCCIHr169bv75t6tSpqgQkIiLXoKgw\n",
              "7vyg3Z1fS5KE8+fPD24yIiJyKbILY6DLdRAR0fDn0BoGERE9eFgYREQkCwuDiIhkYWEQEZEsLAwi\n",
              "IpKFhUFERLKwMIiISBYWBhERyaJqYTQ2NiIhIQEGgwFxcXGoq6vrM+bQoUOIj4/H5MmT8e1vfxvr\n",
              "1q1Db2+vmrGIiMgBqhZGVlYWMjMz0dDQgPXr1yMtLa3PGG9vb7z11luor6/HyZMn8eGHH2Lnzp1q\n",
              "xiIiIgeoVhgdHR2orq5GamoqACAlJQUmk6nP3fqmTZuG0NBQAMA3v/lNREdH8zIkREQuSPEd9+Qy\n",
              "mUzw9/eHh8eth5AkCTqdDkajEXq9vt+/097ejtLSUuzdu9fucc1mM8xms82+np6ewQtORET9cplF\n",
              "766uLjz66KNYt24dpk+fbndcbm4uPD09bbbKysr7mJSI6MGkWmEEBQWhra0NFosFwK2bLhmNRuh0\n",
              "uj5jr127hoULF2Lx4sVYu3btgMfdsGEDOjs7bbb4+HhV5kBERP+jWmH4+voiJiYGJSUlAICysjIE\n",
              "Bgb2eTnqyy+/xMKFC7Fw4UI8//zzdz2uRqOBVqu12dzd3VWZAxER/Y+qL0kVFBSgoKAABoMBmzdv\n",
              "RnFxMQAgPT0dFRUVAIC8vDxUVlaivLwc0dHRiI6Oxm9/+1s1YxERkQNUW/QGgIiICBw/frzP/qKi\n",
              "IuvXGzduxMaNG9WMQUREg8BlFr2JiMi1sTCIiEgWFgYREcnCwiAiIllYGEREJAsLg4iIZGFhEBGR\n",
              "LCwMIiKShYVBRESysDCIiEgWFgYREcnCwiAiIllYGEREJAsLg4iIZGFhEBGRLCwMIiKShYVBRESy\n",
              "qFoYjY2NSEhIgMFgQFxcHOrq6vodt337doSHhyMsLAwZGRm4efOmmrGIiMgBqhZGVlYWMjMz0dDQ\n",
              "gPXr1yMtLa3PmJaWFrzwwgs4evQompqacOnSJRQWFqoZi4iIHKBaYXR0dKC6uhqpqakAgJSUFJhM\n",
              "JjQ1NdmMKy0tRWJiIvz8/CBJElauXIk333xTrVhEROQgD7UObDKZ4O/vDw+PWw8hSRJ0Oh2MRiP0\n",
              "er11nNFoRHBwsPX7kJAQGI1Gu8c1m80wm802+3p6egY5PRERfZ1qhaGW3NxcZGdn2+ybOHEinn76\n",
              "aVRWViI+Ph7u7u6yj5d8j3nWrn3vHo/QV09Pz13nci+51cg8EDnzGSo4F9c0HOZy+5x2dC73cl4H\n",
              "Bwfj6aefvus4SQghHH6UAXR0dECv1+PKlSvw8PCAEAL+/v44duyYzTOMl19+Gc3NzcjPzwcA7N+/\n",
              "Hzk5OTh27Fi/x+3vGYZGo4HZbIanpyc6Ozuh1WrVmNJ909XVNWzmAgyv+XAurolzuT9UW8Pw9fVF\n",
              "TEwMSkpKAABlZWUIDAy0KQvg1tpGRUUF2tvbIYRAfn4+lixZYve4Go0GWq3WZtNoNGpNg4iI/kvV\n",
              "d0kVFBSgoKAABoMBmzdvRnFxMQAgPT0dFRUVAIDQ0FBkZ2dj5syZ0Ov1GD9+PLKystSMRUREDlB1\n",
              "DSMiIgLHjx/vs7+oqMjm+4yMDGRkZKgZhYiI7tGw+aS3RqPBiy++OCxenhpOcwGG13w4F9fEudwf\n",
              "qi16ExHR8DJsnmEQEZG6WBhERCQLC4OIiGQZsoWxZs0ahISEQJIknDlzxrpf7hVyXUl/c7l+/TqS\n",
              "kpJgMBgQFRWFBQsW9LkOlyuy93O5rbi4GJIk4Z133rnv2ZSyNxez2YynnnoK4eHhmDJlivV6aa7M\n",
              "3lz279+PmJgYREdHIzIyEjt27HBeSJkGOjc6OjqwcOFChIeHIzIyEv/617+cnHZgA81l+fLl1v0z\n",
              "Z85EVVWVk9MCEEPUkSNHhMlkEsHBweL06dPW/fPmzRPFxcVCCCH++te/iunTpzsnoAL9zaW7u1vs\n",
              "27dP9Pb2CiGEePXVV8WcOXOcF1Imez8XIYRoaWkR3/nOd8SMGTPE7t27nZJPCXtzeeaZZ8RTTz1l\n",
              "/dm0tbU5KaF8/c2lt7dXeHt7i5qaGiHErZ+PRqMRXV1dTkx6dwOdG8uXLxcvvviiEEKIyspKERAQ\n",
              "IG7cuOGkpHc30Fz27Nkjbt68KYQQ4m9/+5sIDg52Usr/GbKFcdudJ8ClS5fEmDFjrP+Re3t7xcMP\n",
              "PywaGxudmFC+/n7J3lZVVeUS/2Dk+vpcenp6xPz580V1dbWYM2fOkCiM2+6cy5dffinGjBkjOjs7\n",
              "nRvKQV8vjLFjx4ojR44IIYSoqakREyZMEGaz2YkJlbvz3HjooYdsCjwuLk4cPHjQScmUs3eef/75\n",
              "58LDw8P6u81ZhuxLUv0Z6Aq5Q11eXh4WL17s7BgO+8Mf/oCZM2ciNjbW2VHuSXNzM8aOHYucnBxM\n",
              "nz4d3/3ud/Hee/f3Yo6DRZIk7Nq1C8nJyQgODsasWbOwY8cOjBgxwtnRFLl9bly+fBk3b96En5+f\n",
              "9c/udvVrV2PvPM/Ly8MPf/hD6+82ZxlyV6t9EOXk5KCpqWnI/mI6e/YsysrKXP71ZDksFgsuXLiA\n",
              "yZMnY/PmzTh9+jQWLFiAuro6PPzww86Op4jFYsFLL72E8vJyzJ49G1VVVUhMTERtbS3GjRvn7Hiy\n",
              "3HludHd3OzvOPbF3npeUlODtt992ifNnWD3DCAoKQltbGywWCwBACAGj0QidTufkZI77/e9/j/Ly\n",
              "chw4cACjRo1ydhyHHD16FK2trQgPD0dISAhOnDiBzMxM/PnPf3Z2NMV0Oh3c3Nzws5/9DAAwbdo0\n",
              "fOtb30Jtba2Tkyl35swZfPbZZ5g9ezYAIC4uDoGBgTh9+rSTk8nz9XPDx8cHHh4eaG9vt45pbW0d\n",
              "Eue/vfN8165dyM7OxsGDB13jf0ic+oLYIPj6a+Vz5syxWfSOjY11TjAHfH0uW7ZsETExMeLKlSvO\n",
              "C+WggdZjhvIahhBCLFiwQOzbt08IIcT58+eFj4+PuHjxopPSKXPnXNrb28Xo0aNFfX29EEKIxsZG\n",
              "4e3tLS5cuODEhPLYOzeWLVtms+g9YcIEl170FsL+XHbt2iX0er1obW11UrK+hmxhZGZmioCAAOHu\n",
              "7i58fX1FWFiYEEKIc+fOiRkzZojw8HARGxsrPv74Yycnvbv+5mIymQQAERoaKqKiokRUVJSIj493\n",
              "dtS7svdzudNQKQx7c2lubhZz584VkZGRYurUqaK0tNTJSe/O3lzeeOMN6zwiIyPF66+/7uSkdzfQ\n",
              "udHe3i4WLFgg9Hq9mDx5sjh06JCT0w5soLl4eHiIwMBA6/6oqCjxxRdfODUvryVFRESyDKs1DCIi\n",
              "Ug8Lg4iIZGFhEBGRLCwMIiKShYVBRESysDCIiEgWFgYREcnCwiAiIllYGEREJAsLg4iIZGFhEBGR\n",
              "LP8Pznt4XZfY80MAAAAASUVORK5CYII=\n",
              "\">\n",
              "        \n",
              "      </div>\n",
              "      <script></script>\n",
              "      <script type=\"text/javascript\">\n",
              "        (() => {\n",
              "          const chartElement = document.getElementById(\"chart-24760da5-569a-4ccd-86b2-4ff3b5531c00\");\n",
              "          async function getCodeForChartHandler(event) {\n",
              "            const chartCodeResponse =  await google.colab.kernel.invokeFunction(\n",
              "                'getCodeForChart', [\"chart-24760da5-569a-4ccd-86b2-4ff3b5531c00\"], {});\n",
              "            const responseJson = chartCodeResponse.data['application/json'];\n",
              "            await google.colab.notebook.addCell(responseJson.code, 'code');\n",
              "          }\n",
              "          chartElement.onclick = getCodeForChartHandler;\n",
              "        })();\n",
              "      </script>\n",
              "      <style>\n",
              "        .colab-quickchart-chart-with-code  {\n",
              "            display: block;\n",
              "            float: left;\n",
              "            border: 1px solid transparent;\n",
              "        }\n",
              "\n",
              "        .colab-quickchart-chart-with-code:hover {\n",
              "            cursor: pointer;\n",
              "            border: 1px solid #aaa;\n",
              "        }\n",
              "      </style>"
            ]
          },
          "metadata": {}
        },
        {
          "output_type": "display_data",
          "data": {
            "text/plain": [
              "<google.colab._quickchart_helpers.SectionTitle at 0x796701a827a0>"
            ],
            "text/html": [
              "<h4 class=\"colab-quickchart-section-title\">Categorical distributions</h4>\n",
              "<style>\n",
              "  .colab-quickchart-section-title {\n",
              "      clear: both;\n",
              "  }\n",
              "</style>"
            ]
          },
          "metadata": {}
        },
        {
          "output_type": "display_data",
          "data": {
            "text/plain": [
              "import numpy as np\n",
              "from google.colab import autoviz\n",
              "\n",
              "def categorical_histogram(df, colname, figscale=1, mpl_palette_name='Dark2'):\n",
              "  from matplotlib import pyplot as plt\n",
              "  import seaborn as sns\n",
              "  df.groupby(colname).size().plot(kind='barh', color=sns.palettes.mpl_palette(mpl_palette_name), figsize=(8*figscale, 4.8*figscale))\n",
              "  plt.gca().spines[['top', 'right',]].set_visible(False)\n",
              "  return autoviz.MplChart.from_current_mpl_state()\n",
              "\n",
              "chart = categorical_histogram(_df_2, *['Name'], **{})\n",
              "chart"
            ],
            "text/html": [
              "      <div class=\"colab-quickchart-chart-with-code\" id=\"chart-d00cfd58-ecde-41b4-a7cb-70ab2e98efd2\">\n",
              "        <img src=\"data:image/png;base64,iVBORw0KGgoAAAANSUhEUgAAAX0AAADgCAYAAADv9rZ4AAAAOXRFWHRTb2Z0d2FyZQBNYXRwbG90\n",
              "bGliIHZlcnNpb24zLjcuMSwgaHR0cHM6Ly9tYXRwbG90bGliLm9yZy/bCgiHAAAACXBIWXMAAA9h\n",
              "AAAPYQGoP6dpAAAScUlEQVR4nO3de3CU9b3H8c+TDSy1mkABS4ywCRANBJJMDFAVOUm003QEa+sN\n",
              "airDJeE2lUvBFmrllhqrFVEYG6hWG63/iEot6kwvFCqOgQAi0pabJMSDgTrkhq1Zstnf+cPjTvcQ\n",
              "enbDXpL83q+ZncnuPrv7/Q3Mm4dnN886xhgjAIAVEuI9AAAgdog+AFiE6AOARYg+AFiE6AOARYg+\n",
              "AFiE6AOARYg+AFjE2ug/+eST8R4BAGLO2uifPHky3iMAQMxZG30AsBHRBwCLEH0AsAjRBwCLEH0A\n",
              "sAjRBwCLEH0AsAjRBwCLEH0AsAjRBwCLEH0AsAjRBwCLEH0AsAjRBwCLOMYYE+8h4iE/73YV/dfs\n",
              "eI8BAEEefWJyVJ+fPX0AsAjRBwCLEH0AsAjRBwCLEH0AsAjRBwCLEH0AsAjRBwCLEH0AsAjRBwCL\n",
              "EH0AsEhcov/qq6/quuuuU25urjIzM1VUVCS/3x+PUQDAKomxfsGGhgaVlZVp37598ng8kqT9+/fL\n",
              "cZxYjwIA1on5nv6ZM2fkcrn0la98JXBbXl6eHMfR0qVLNW7cOOXm5mrSpEk6cuRIYBvHcfTTn/5U\n",
              "EyZMUFpamrZu3aqKigrl5+crIyNDO3bsuOhrer1etba2Bl0M/7MAYKGYRz87O1sTJ06Ux+PRt7/9\n",
              "bT322GM6deqUJOmHP/yhampqdODAAc2fP18LFy4Meuzll1+u3bt369lnn1VJSYlSUlK0d+9ePfzw\n",
              "w1q2bNlFX7OiokLJyclBl4YzR6O6TgDojuJ2Pv3Dhw9r586deuutt7Rjxw7t3btXe/bs0YYNG3Tu\n",
              "3Dn5/X41Njbq9OnTnw/qOGpoaNCQIUPU0tKi/v3767PPPlO/fv108uRJ5eTkqLm5udPX8nq98nq9\n",
              "QbcVTirRzYVl0V4mAIQl2ufTj/kx/S9kZmYqMzNTc+bMUXFxsV566SWtX79eNTU1GjFihA4ePKhJ\n",
              "kyYFPaZfv36SJJfLdcF1n8930ddyu91yu91BtzkJfHAJgH1iXr5Tp07pnXfeCVxvampSbW2tkpOT\n",
              "1adPH6WkpMgYo40bN8Z6NADo9WK+p+/z+bRmzRrV1tbqsssuk8/n0/Tp07Vw4UKdOHFCWVlZGjhw\n",
              "oG6//fZYjwYAvR7fkQsA3QjfkQsAiBiiDwAWIfoAYBGiDwAWIfoAYBGiDwAWIfoAYBGiDwAWIfoA\n",
              "YBGiDwAWidtZNuNtUsFwPbouur/uDADdDXv6AGARog8AFiH6AGARog8AFiH6AGARog8AFiH6AGAR\n",
              "og8AFiH6AGARog8AFiH6AGARog8AFiH6AGARog8AFiH6AGARog8AFiH6AGARog8AFiH6AGARog8A\n",
              "FiH6AGARog8AFiH6AGARog8AFiH6AGARog8AFiH6AGARog8AFiH6AGARxxhj4j1EPMzIcrR8HP/m\n",
              "Aehernm+I6rPT/UAwCJEHwAs0qXo79u3Ty+88IIkqampSQ0NDREdCgAQHWFH/+mnn9bMmTO1atUq\n",
              "SVJjY6O++93vRnouAEAUhB39zZs3q7q6WklJSZKkESNG6JNPPon4YACAyAs7+m63W1/60peCbktM\n",
              "TIzYQACA6Ak7+oMHD9bRo0flOI4k6fnnn9ewYcMiPhgAIPLC3kVfv369pk2bpsOHD2vo0KFKSkrS\n",
              "tm3bojEbACDCwo7+yJEjtXv3bh05ckTGGF177bVyuVzRmA0AEGFdOhj/6aefqr29XT6fT++//74k\n",
              "KS8vL6KDAQAiL+zoP/HEE3rooYc0ePDgwB6+4zg6evRoxIcDAERW2NHfsGGDjhw5oquuuur/3TYt\n",
              "LU1bt25Vbm6u2tradM8996hv3776zW9+o759+4b1upWVlTp37pyWLVsW7sgAgP8VdvRTU1NDCv6/\n",
              "O3funG677TZlZGSosrJSCQnh/yLw3Llzw34MACBY2PVdsWKF7r//fv3+97/XX/7yl8DlYs6ePaui\n",
              "oiJNmDBBmzdvVkJCgu69917l5+crOztbt956q06fPi1JKi0t1c9//vPAY2trazVkyBC1t7dr1apV\n",
              "WrRokaTPPyZ6yy23aNq0aRo7dqzy8/N14sSJcJcCANYJe0//3XffVVVVlXbt2hV0TH/Pnj2dbn/P\n",
              "PfeotLRUFRUVgdvWr1+vwYMHS5IeeeQRrVq1SpWVlZoxY4bKysq0dOlSSZ/H/d5771WfPn0ueN6a\n",
              "mhodOHBA6enp+tGPfqSf/exn2rRpU6czeL1eeb3eoNs6/OGuHAB6vrCjX1VVpbq6OvXv3z+k7W+9\n",
              "9VZt2bJF8+fP19ChQyVJL730kl544QW1tbWpra1NgwYNkiTdcMMN8vl8qqmpUX5+vqqqqvS73/2u\n",
              "0+e9/vrrlZ6eHvh5w4YNF52hoqJCq1evDrotZ1BI4wNArxL24R2PxxNy8CVp8eLFmjdvngoKClRf\n",
              "X69du3bpqaee0ptvvqlDhw5p3bp1amtrC2w/Y8YMPffcc9qxY4cGDRqkMWPGdPq8/fr1C/zscrnk\n",
              "8/kuOsPy5cvV0tISdMkm+gAsFPae/rhx43T33XfrzjvvDArvbbfddtHHLFmyRAkJCSooKNDKlSt1\n",
              "xRVXaODAgTp//vwFh2S+973vKScnR2fPntXMmTPDHa9Tbrdbbrc76DYX3yQAwEJhR3/fvn2SpF/8\n",
              "4heB2xzH+Y/Rl6RFixYpISFBK1as0MSJE3Xttddq4MCBuuWWW3Tq1KnAdldddZXGjx+v119//aLH\n",
              "6AEAXcN35AJANxLt78jt0mkY2tvbVVtbG3QsPjs7O2JDAQCiI+zob9u2TaWlpWpqatKXv/xlNTU1\n",
              "yePxqLa2NhrzAQAiKOzjGz/5yU9UXV2tUaNG6ezZs6qqqtKdd94ZjdkAABEWdvQTEhLk8XgCH5Es\n",
              "KSnR9u3bIz4YACDywj6888Vvx1599dV67bXXlJaWpqampogPBgCIvLCjv3DhQjU1Nam8vFxTp05V\n",
              "c3OznnzyyWjMBgCIsJCj/8VJ1VJTU/XBBx9Ikp555hlJCnxfLgCgews5+j/4wQ8uuM1xHH388cdq\n",
              "aGhQR0d0P1sKALh0IUe/pqYm6HpjY6PKy8v14osvXnAyMwBA9xT2p3fa2tpUUVGh0aNHS5L+/ve/\n",
              "68EHH4z4YACAyAt5T9/v9+uZZ57R2rVrVVRUpN27d8vj8URztqga8I3FumbduniPAQAxFXL0x4wZ\n",
              "I6/Xq4cfflg5OTlqaWnRwYMHA/dzGgYA6P5Cjv6//vUvOY6jhx566IL7HMfh6woBoAcIOfp1dXVR\n",
              "HAMAEAucWxgALEL0AcAiRB8ALEL0AcAiRB8ALEL0AcAiRB8ALEL0AcAiRB8ALEL0AcAiRB8ALEL0\n",
              "AcAiRB8ALEL0AcAiRB8ALEL0AcAiRB8ALEL0AcAiRB8ALEL0AcAiRB8ALEL0AcAiRB8ALEL0AcAi\n",
              "RB8ALEL0AcAiRB8ALOIYY0y8h4iHy78xTv2n3hzvMQAgyH/PeCSqz8+ePgBYhOgDgEWIPgBYhOgD\n",
              "gEWIPgBYhOgDgEWIPgBYhOgDgEWIPgBYhOgDgEWIPgBYJCbR9/l8Wr16tTIzMzVmzBjl5uaqrKxM\n",
              "W7duVW5ubsjPU1lZqcceeyx6gwJAL5cYixeZNWuWGhsb9e6772rAgAEyxmjLli1qbGwM+Tl8Pp/m\n",
              "zp0bxSkBoPeLevSPHz+ul19+WfX19RowYIAkyXEc3XXXXdqxY4d8Pp/mz5+vd955Rz6fT7/+9a+V\n",
              "n5+vuro65ebmas6cOfrDH/6g++67T83NzWpubtb69etVXV2tBQsWqKOjQz6fTwsWLNC8efM6ncHr\n",
              "9crr9Qbf2GHlyUUBWC7qh3f279+vjIwMDRo0qNP7Dx8+rOnTp+v999/X97//ff34xz8O3NfS0qKs\n",
              "rCzt379fixYtCnpcRUWFli5dqgMHDujQoUOaOnXqRWeoqKhQcnJy0OV8bUNE1gcAPUnc38gdOXKk\n",
              "JkyYIEm6/vrr9eGHHwbu69Onj0pKSjp9XGFhodauXas1a9Zo165dgf9FdGb58uVqaWkJuvRNT4ns\n",
              "QgCgB4h69PPy8nTs2DGdPXu20/v79esX+Nnlcsnn8wWuX3bZZUpI6HzERYsW6Y033lBKSopWrFih\n",
              "+fPnX3QGt9utpKSkoItcThdXBAA9V9SjP3LkSN1xxx2aNWuWmpubJUnGGL3yyis6ceJEl5/3yJEj\n",
              "Sk9PV2lpqVasWKHq6uoITQwAvVdMPr3zq1/9SuXl5ZowYYISExPl9/s1adIkffOb3+zyc27cuFHb\n",
              "t29X37595XK59Pjjj0dwYgDonfiOXADoRviOXABAxBB9ALAI0QcAixB9ALAI0QcAixB9ALAI0QcA\n",
              "ixB9ALAI0QcAixB9ALBITM690x2VZd2kdVH+dWcA6G7Y0wcAixB9ALAI0QcAixB9ALAI0QcAixB9\n",
              "ALAI0QcAixB9ALAI0QcAixB9ALAI0QcAixB9ALAI0QcAixB9ALCIladW9nq9euutt9TR0SGXyxXv\n",
              "caKqo6NDe/bs0fjx41lrL8Jae6dLXavH49HChQv/4zaOMcZ0dcCeqrW1VcnJyWppaVFSUlK8x4kq\n",
              "1to7sdbeKRZr5fAOAFiE6AOARYg+AFjEyui73W6tXLlSbrc73qNEHWvtnVhr7xSLtVr5Ri4A2MrK\n",
              "PX0AsBXRBwCLEH0AsAjRBwCL9OroHzt2TDfccIOuueYajRs3Tn/961873e7ZZ59VRkaGRowYodLS\n",
              "UrW3t8d40ksXylq3b9+u8ePHa/To0crKytIDDzwgv98fh2kvTah/rpJkjFFRUZH69+8fuwEjKNS1\n",
              "fvDBByooKNCoUaM0atQovfrqqzGe9NKFsla/368lS5Zo9OjRys7OVmFhoY4fPx6Habvu/vvvV1pa\n",
              "mhzH0YEDBy66XdS6ZHqxwsJC89xzzxljjHn55ZdNfn7+BducOHHCpKSkmIaGBuP3+82UKVPMxo0b\n",
              "YzzppQtlrfv37zcffvihMcaYzz77zNx4442Bx/Qkoaz1C48//riZPXu2SU5Ojs1wERbKWv/5z3+a\n",
              "9PR08/bbbxtjjPH5fOYf//hHLMeMiFDW+tprr5nx48eb8+fPG2OMWbt2rbnrrrtiOeYl27lzp/no\n",
              "o4+Mx+Mx7733XqfbRLNLvTb6Z86cMVdccYVpb283xhjj9/vNV7/6VXPs2LGg7R599FEzZ86cwPU3\n",
              "3njD3HjjjTGd9VKFutb/a8GCBWblypUxmDBywlnroUOHzE033WSOHz/eI6Mf6lp/+ctfmmnTpsVj\n",
              "xIgJda1bt241OTk5prW11fj9frNs2TKzePHieIx8yf5T9KPZpV57eOejjz5SSkqKEhM/P5Go4zga\n",
              "NmyY6uvrg7arr6+Xx+MJXE9LS7tgm+4u1LX+u9OnT2vLli2aPHlyrMaMiFDX2t7ertLSUm3atKnH\n",
              "npkx1LX+7W9/k9vt1uTJk5Wbm6v77rtPn3zySTxG7rJQ1zplyhQVFBRoyJAhSklJ0Z/+9CetWbMm\n",
              "HiNHVTS71Gujj4trbW3VlClT9MADDyg/Pz/e40TF6tWr9Z3vfEejRo2K9yhR5/P59Mc//lGbNm3S\n",
              "e++9p9TUVM2bNy/eY0XF3r17dejQIZ06dUoff/yxbr75Zs2dOzfeY/UovTb6Q4cOVUNDg3w+n6TP\n",
              "39Crr6/XsGHDgrYbNmyYTp48GbheV1d3wTbdXahrlaRz586puLhY3/rWt7RkyZJYj3rJQl3rzp07\n",
              "tWHDBqWlpWnixIlqbW1VWlpaj9oDDufvcGFhoVJTU+U4jkpKSlRdXR2Pkbss1LVWVVUF3phPSEjQ\n",
              "9OnT9ec//zkeI0dVNLvUa6N/5ZVXKi8vTy+++KIk6ZVXXtHVV1+tkSNHBm13xx136PXXX9fp06dl\n",
              "jFFlZaWmTp0aj5G7LNS1fvrppyouLlZxcbEefPDBeIx6yUJd69tvv62TJ0+qrq5Ou3btUlJSkurq\n",
              "6jR48OB4jN0loa717rvvVk1NjVpbWyVJb775pnJycmI+76UIda3Dhw/X9u3bdf78eUnStm3bNGbM\n",
              "mJjPG21R7VJE3hnopg4fPmy+9rWvmYyMDHPdddeZgwcPGmOMmTVrlvntb38b2G7z5s1m+PDhZvjw\n",
              "4WbmzJmBTwb0JKGstby83CQmJpqcnJzApby8PJ5jd0mof65fqK2t7ZFv5BoT+lqrqqpMVlaWGTt2\n",
              "rCkuLjb19fXxGrnLQllrW1ubmT17tsnMzDRjx441X//61wOfSOspysrKTGpqqnG5XObKK680I0aM\n",
              "MMbErkuccA0ALNJrD+8AAC5E9AHAIkQfACxC9AHAIkQfACxC9AHAIkQfACxC9AHAIkQfACxC9AHA\n",
              "Iv8DrSXwqLADOIwAAAAASUVORK5CYII=\n",
              "\">\n",
              "        \n",
              "      </div>\n",
              "      <script></script>\n",
              "      <script type=\"text/javascript\">\n",
              "        (() => {\n",
              "          const chartElement = document.getElementById(\"chart-d00cfd58-ecde-41b4-a7cb-70ab2e98efd2\");\n",
              "          async function getCodeForChartHandler(event) {\n",
              "            const chartCodeResponse =  await google.colab.kernel.invokeFunction(\n",
              "                'getCodeForChart', [\"chart-d00cfd58-ecde-41b4-a7cb-70ab2e98efd2\"], {});\n",
              "            const responseJson = chartCodeResponse.data['application/json'];\n",
              "            await google.colab.notebook.addCell(responseJson.code, 'code');\n",
              "          }\n",
              "          chartElement.onclick = getCodeForChartHandler;\n",
              "        })();\n",
              "      </script>\n",
              "      <style>\n",
              "        .colab-quickchart-chart-with-code  {\n",
              "            display: block;\n",
              "            float: left;\n",
              "            border: 1px solid transparent;\n",
              "        }\n",
              "\n",
              "        .colab-quickchart-chart-with-code:hover {\n",
              "            cursor: pointer;\n",
              "            border: 1px solid #aaa;\n",
              "        }\n",
              "      </style>"
            ]
          },
          "metadata": {}
        },
        {
          "output_type": "display_data",
          "data": {
            "text/plain": [
              "import numpy as np\n",
              "from google.colab import autoviz\n",
              "\n",
              "def categorical_histogram(df, colname, figscale=1, mpl_palette_name='Dark2'):\n",
              "  from matplotlib import pyplot as plt\n",
              "  import seaborn as sns\n",
              "  df.groupby(colname).size().plot(kind='barh', color=sns.palettes.mpl_palette(mpl_palette_name), figsize=(8*figscale, 4.8*figscale))\n",
              "  plt.gca().spines[['top', 'right',]].set_visible(False)\n",
              "  return autoviz.MplChart.from_current_mpl_state()\n",
              "\n",
              "chart = categorical_histogram(_df_3, *['item Purchased'], **{})\n",
              "chart"
            ],
            "text/html": [
              "      <div class=\"colab-quickchart-chart-with-code\" id=\"chart-27df1167-7dff-4b16-9870-a59b11c05f18\">\n",
              "        <img src=\"data:image/png;base64,iVBORw0KGgoAAAANSUhEUgAAAYMAAADgCAYAAADhcwpSAAAAOXRFWHRTb2Z0d2FyZQBNYXRwbG90\n",
              "bGliIHZlcnNpb24zLjcuMSwgaHR0cHM6Ly9tYXRwbG90bGliLm9yZy/bCgiHAAAACXBIWXMAAA9h\n",
              "AAAPYQGoP6dpAAAWdUlEQVR4nO3df3TN9+HH8ddNQiiLsFJqJCI0RCR+FGmiRVeyLUqRDiVK/JjZ\n",
              "QmN+ZNP5uaM4Y2bHkQ3pcZhtfkzZpmfHWh1adI3Mz2q0iZgfpX7kIvL7/f3D6T29X7T3cj+fK/J8\n",
              "nHPP6eeTz+fm9W577ivvz+dzPx+HMcYIAFCjBfg7AADA/ygDAABlAACgDAAAogwAAKIMAACiDAAA\n",
              "ogwAAKIM3CxfvtzfEQDALyiDrzh9+rS/IwCAX1AGAADKAABAGQAARBkAAEQZAABEGQAARBkAAEQZ\n",
              "AABEGQAARBkAAEQZAABEGQAARBkAAEQZAAAkOYwxxt8hHhZdOw9Un+fG+jsGANxh8bJkS9+fmQEA\n",
              "gDIAAFAGAABRBgAAUQYAAFEGAABRBgAAUQYAAFEGAABRBgAAUQYAANlcBlu3blWXLl0UFxenqKgo\n",
              "9enTR1VVVXZGAADcRZBdv+j8+fMaP368PvroI4WFhUmScnJy5HA4LP/dFRUVCgqybagAUO3YNjP4\n",
              "/PPPFRgYqEaNGrnWde7cWQ6HQ+Hh4crNzXWt79q1q3bv3i1J+vjjjxUfH6/o6GgNGjRIffv21Ztv\n",
              "vilJ+uMf/6ju3burU6dOio2N1Y4dO1zv0atXL6Wnpys+Pl59+/a9I09paamcTqfbyzBLAVBD2fbn\n",
              "cseOHZWYmKiwsDA999xzeuaZZzR8+HA1b978a/cbOXKkfvzjH2v06NE6ceKEOnXqpOHDh0uS+vXr\n",
              "p2HDhsnhcKigoEA9evTQ6dOnFRwcLEn65JNP9O9//1u1atW6430XLlyouXPnuq1r1vQpH40WAKoX\n",
              "22YGAQEB2rJli95//30lJSVp3759io6O1qlTp+65j9PpVG5urlJTUyVJ7dq1U2Jiouvn+fn5+t73\n",
              "vqcOHTpo4MCBunLlivLz810/HzFixF2LQJIyMzNVVFTk9mr2RFsfjRYAqhfbD6RHRUUpKipKEyZM\n",
              "UFJSkrZv366goCBVVla6tikpKbnn/l89xzB06FC98cYbGjJkiCSpUaNGbvvWr1//nu8THBzsmkG4\n",
              "3juAi6sA1Ey2ffqdPXtW+/btcy1fvXpV+fn5at26tSIjI3XgwAFJ0sGDB3Xy5ElJUkhIiGJjY7V+\n",
              "/XpJ0smTJ7V3716392jVqpUkaf369bp69apdwwGAR4ptM4OKigrNmzdP+fn5euyxx1RRUaFRo0Zp\n",
              "wIABat68uUaNGqWsrCzXyeIvrVu3TmPGjNGSJUsUGRmpp59+WqGhoZKk5cuXa8iQIQoNDVWfPn3U\n",
              "smVLu4YDAI+Uh/4ZyDdu3FC9evXkcDiUn5+v+Ph4ffjhh2rRooXPfxfPQAbwsLL6GcgP/cX377//\n",
              "vqZNmyZJqqys1LJlyywpAgCoyR76Mujbt+9dvycAAPAdLp8BAFAGAADKAAAgygAAIMoAACDKAAAg\n",
              "ygAAIMoAAKBq8KUzOz3bK0KLl1r7lW8AeBgxMwAAUAYAAMoAACDKAAAgD08gjx492u1xk//f2rVr\n",
              "fRYIAGA/j2YGXbt2VZcuXVS7dm3t379fERERat26tQ4ePHjHc4QBANWPRzODSZMmSZKeffZZ7d+/\n",
              "XyEhIZKkn/70p0pO5lJMAKjuvDpncOnSJVcRSLcfWH/p0iWfhwIA2MurL53Fxsbq1VdfVVpamiQp\n",
              "OztbsbGxlgQDANjHq5nB6tWr1bhxY02ZMkVTpkxR48aNtXr1aquyAQBs4tXMoH79+lqyZIlVWQAA\n",
              "fuLVzODMmTNKTk5WXFycJCk3N1fLli2zIhcAwEZelcGECRM0dOhQGWMkSR06dOA7BgDwCPCqDC5e\n",
              "vKgRI0YoIOD2bkFBQQoK4sanAFDdeVUGQUFBrlmBJF29etVtGQBQPXlVBikpKZowYYKcTqdWr16t\n",
              "F154QWPHjrUqGwDAJl4d45k6dao2btyooqIi/fOf/1RGRoaGDx9uVTYAgE28PuA/bNgwDRs2TMYY\n",
              "3bhxw4pMAACbeXWYKC0tTdeuXVNZWZni4uL0xBNPaOXKlVZlAwDYxKsy+OijjxQaGqq3335bnTp1\n",
              "0oULF7Rq1SqrsgEAbOJVGXx55dCePXuUnJyskJAQBQYGWhIMAGAfr8qgadOmmjhxojZt2qTvfve7\n",
              "Ki8vV2VlpVXZAAA28aoMNmzYoKeeekp/+tOfFBoaqrNnzyojI8OqbAAAmzgM3xpzycjI0NKlS/0d\n",
              "AwBs59WlpRcvXtScOXOUm5urkpIS1/qcnByfBwMA2MfrS0vDwsL0xRdfaO7cuXryySf1gx/8wKps\n",
              "AACbeH0L6xkzZig4OFj9+/fX1q1btWvXLquyAQBs4lUZ1K5dW5JUp04dXb58WUFBQfriiy8sCQYA\n",
              "sI9X5wzatm2ry5cva8SIEerevbtCQkLUpUsXq7IBAGxy31cT7d27V9euXVNSUtIj80yD0dEOZT7t\n",
              "1WQJAGzR9k1rv9N135/iiYmJvswBAPAjr/4MfvvttxUVFaXatWsrMDBQAQEB3I4CAB4BXs0M0tPT\n",
              "tWLFCsXHx1MCAPAI8aoMQkJC1K9fP6uyAAD8xKvDRMnJydq2bZtFUQAA/uLRzKBhw4ZyOBwyxqio\n",
              "qEh169ZVcHCwjDFyOBy6cuWK1TkBABbyqAxyc3MtjgEA8CePyiAsLEySVFhYqCZNmqhOnTqSpJKS\n",
              "El26dMm6dAAAW3h1zmDIkCFuy8aYO9YBAKofr8qgrKzMNSuQpLp166q0tNTnoQAA9vKqDBwOhy5e\n",
              "vOhavnDhgng2DgBUf16VQXp6uuLj4zVnzhzNmTNHiYmJ+tnPfubTQOHh4WrSpInKy8td69599105\n",
              "HA5NmTJF27dv12uvvSZJ2r17t+Li4iRJBQUFCg0N9WkWAKgpvCqD0aNHa82aNSouLlZxcbGys7M1\n",
              "cuRIn4dq2bKltm/f7lpes2aNunbtKkl68cUXtWzZMp//TgCoyTz+BnJlZaViYmJ0/Phx9erVy8JI\n",
              "t0tn7dq1Gjx4sIqKirR//34NGzZM169f15tvvqlt27Z97ZffysrKNGbMGNWrV08rV67k1hkA8A08\n",
              "nhkEBgaqcePGKi4utjKPJCkhIUEFBQU6d+6cNm7cqJSUFI8/0L+8rXb79u2VlZV1z/1KS0vldDrd\n",
              "XpVVvhwFAFQfXt2bKDIyUgkJCUpJSVH9+vVd69PT030ebOTIka5ZwIYNG7Rhw4Zv3KesrEwJCQma\n",
              "MWOGUlNTv3bbhQsXau7cuW7rYh9/oMgAUG15dc6gqqpKcXFxysvL06FDh3To0CHLvp2cmpqq3/72\n",
              "t6pTp47atGnj0T61atVSYmKiduzY4XYC+m4yMzNVVFTk9upIGQCoobyaGWRnZ1uV4w5PPvmkFi5c\n",
              "qKioKI/3cTgcysrKUkZGhgYOHKjNmzerbt26d902ODhYwcHBbusCecgZgBrKqzJYt27dXdd/0yGZ\n",
              "+zV69Oj72m/p0qV6/fXX9f3vf187duxwO6QFALiTV89ATklJcf1zSUmJ9u7dqx49emjnzp2WhLMb\n",
              "z0AG8LB6qJ6BvGnTJrfl/Px8/eIXv/BpIACA/R7oz+BWrVrp2LFjvsoCAPATr2YGX/1WcGVlpQ4c\n",
              "OHDHSVgAQPXjVRl89TYQQUFBioyM1J///GefhwIA2MurMtiyZYsaNWpkVRYAgJ94dM5g9+7datKk\n",
              "iRo3bqxWrVrp6NGjVucCANjIozKYNm2asrKydOPGDc2aNUuZmZlW5wIA2MijMigvL9dLL72kunXr\n",
              "Ki0tTf/73/+szgUAsJFHZRAQ4L6Zw+GwJAwAwD88OoF8+PBhtxPHTqdTjRo1kjFGDodDV65csSwg\n",
              "AMB6HpXBp59+anWOh0LDfq+p7dKl/o4BALbzqAzCwsKszgEA8CPuygYAoAwAAJQBAEBe3o5Ckk6c\n",
              "OKG8vDxVVFS41g0aNMinoQAA9vKqDKZOnaoNGzaoffv2CgwMlHT7OweUAQBUb16VwVtvvaXPPvtM\n",
              "jz32mFV5AAB+4NU5gxYtWqhOnTpWZQEA+IlXM4PFixcrJSVF/fr1cyuF1NRUnwcDANjHqzJYtWqV\n",
              "Dh8+LGOM2zkDygAAqjevymD37t06efKkgoK8vggJAPAQ8+qcQUREhIwxVmUBAPiJV3/iR0REqFev\n",
              "XhowYIDbOYP09HSfBwMA2MerMigrK1Pbtm114sQJ1zqebQAA1Z9XZZCdnW1VDgCAH3l1zqCoqEg/\n",
              "+clP1L9/f0nS8ePHtXHjRkuCAQDs41UZTJgwQU2bNlV+fr4kqVWrVlq0aJElwQAA9vGqDD755BPN\n",
              "mjVLtWrVkiTVrVuXq4sA4BHgVRnUrl3bbfnWrVuUAQA8Arwqg969e+tXv/qVSkpKtGvXLg0ZMkQv\n",
              "vfSSVdkAADbxqgzmz5+vgIAAhYSE6Oc//7kSEhI0e/Zsq7IBAGzi1aWlx48fV2ZmpjIzM13rDh8+\n",
              "rI4dO/o8GADAPl7NDF599VWP1gEAqhePZgYXL17UhQsXdOvWLR05csR10rioqEg3b960NCAAwHoe\n",
              "lcHGjRv1m9/8RufOndOLL77oWt+gQQNNnz7dsnAAAHt4VAaTJ0/W5MmTNX/+fL3++utWZwIA2Myj\n",
              "Mrh586bq1aunyZMny+l03vHzkJAQnwcDANjHozLo2bOncnJyFBoaKofD4fZFM4fDocrKSssCAgCs\n",
              "51EZ5OTkSJKqqqosDQMA8A+vLi0FADyaHIabC7nU7/e0Qoc+7+8YAHCH/41+w9L3Z2YAAKAMAACU\n",
              "AQBAlAEAQJQBAECUAQBAlAEAQJQBAECUAQBAlAEAQJQBAEAWl0FFRYXmzp2rqKgodejQQXFxcRo/\n",
              "fryuXbt2z33KysqUnJysmJgYTZo06Y5lAIDveXQL6/uVlpamK1eu6IMPPlDDhg1ljNHmzZt15coV\n",
              "hYaG3nWfQ4cOKS8vTydPnpQkHThwwG0ZAOB7ls0MTp06pU2bNik7O1sNGzaUdPtBOCkpKYqIiNCS\n",
              "JUsUHR2tmJgYvfLKKyoqKtLx48f1yiuvqLCwUHFxcZo3b57b8rp161ReXq6ZM2eqW7duiouL08sv\n",
              "v6yrV69Kkq5fv65x48apW7du6tixo8aPH6+ysrK75istLZXT6XR7qZIbuAKomSwrg5ycHLVp00aP\n",
              "P/74HT/buXOn1q5dq3379unIkSOqV6+eZs6cqfbt22v16tV66qmnlJubq1/+8pduy6mpqVqyZInq\n",
              "1aungwcPKjc3VzExMZo1a5YkaerUqerZs6cOHjyo//73v6qqqtLy5cvvmm/hwoVq0KCB26ss/7xV\n",
              "/zoA4KFm6WGie9m1a5d++MMfug4VTZw4USkpKR7tu23bNhUVFWnLli2Sbp9jCA8Pd/3sgw8+0NKl\n",
              "SyVJt27dUmBg4F3fJzMzUxkZGW7rnhzU5z5GAwDVn2Vl0LlzZ+Xl5eny5cv69re//bXbOhwOj9/X\n",
              "GKMVK1aob9++d/3Zli1b1LZt2298n+DgYAUHB7uvDPQ8BwA8Siw7TBQZGanBgwcrLS3NdfXQlx/W\n",
              "ERER+stf/nL7OL2krKysu364383AgQO1bNkyFRcXS5KKi4t17Ngx188WLVqkiooKSdLVq1d16tQp\n",
              "H48MAB49lh4mWrt2rRYsWKDu3bsrKChIVVVVevbZZ7Vo0SIVFxcrPj5eAQEB6tixo1auXOnRe86Y\n",
              "MUOlpaXq3r27a0YxY8YMRUdHa9myZZo5c6bi4uIUEBCgoKAgLV68WJGRkVYOEwCqPZ6B/BU8AxnA\n",
              "w4pnIAMALEcZAAAoAwAAZQAAEGUAABBlAAAQZQAAEGUAABBlAAAQZQAAkJ9uYf2wGh/dU0st/so3\n",
              "ADyMmBkAACgDAABlAAAQZQAAEGUAABBlAAAQZQAAEGUAABBlAAAQZQAAEGUAABBlAAAQZQAAEGUA\n",
              "ABC3sHYpLS3Vzp07VVlZqcDAQH/HsVRlZaUOHjyobt26MdZHTE0aL2P1TFhYmCZPnvyN2zmMMeZ+\n",
              "Az5KnE6nGjRooKKiIoWEhPg7jqUY66OrJo2XsfoWh4kAAJQBAIAyAACIMnAJDg7W7NmzFRwc7O8o\n",
              "lmOsj66aNF7G6lucQAYAMDMAAFAGAABRBgAAUQYAANXAMsjLy9Mzzzyjtm3b6umnn9axY8fuut2a\n",
              "NWvUpk0btW7dWuPGjVN5ebnNSR+cJ2N955131K1bN7Vv317R0dGaPn26qqqq/JD2wXj631WSjDHq\n",
              "06ePQkND7QvoQ56O9ciRI+rVq5fatWundu3aaevWrTYnfXCejLWqqkoZGRlq3769OnbsqN69e+vU\n",
              "qVN+SPtg0tPTFR4eLofDodzc3HtuZ9lnk6lhevfubbKzs40xxmzatMl07dr1jm0+++wz06xZM3P+\n",
              "/HlTVVVl+vfvb373u9/ZnPTBeTLWnJwc8+mnnxpjjLl165ZJSEhw7VOdeDLWL/361782Y8eONQ0a\n",
              "NLAnnI95MtabN2+aVq1amT179hhjjKmoqDAXL160M6ZPeDLWv/71r6Zbt26mrKzMGGPM/PnzTUpK\n",
              "ip0xfeK9994zZ86cMWFhYebQoUN33cbKz6YaVQaff/65+da3vmXKy8uNMcZUVVWZJ554wuTl5blt\n",
              "t3jxYjNhwgTX8t///neTkJBga9YH5elY/79JkyaZ2bNn25DQd7wZ69GjR03Pnj3NqVOnqmUZeDrW\n",
              "P/zhD2bYsGH+iOgzno5127ZtJjY21jidTlNVVWWmTZtmXnvtNX9E9omvKwMrP5tq1GGiM2fOqFmz\n",
              "ZgoKun2zVofDoZYtW6qwsNBtu8LCQoWFhbmWw8PD79jmYefpWL/qwoUL2rx5s5KTk+2K6ROejrW8\n",
              "vFzjxo1TVlZWtb3LpadjPX78uIKDg5WcnKy4uDilpqbq0qVL/oh83zwda//+/dWrVy81bdpUzZo1\n",
              "07/+9S/NmzfPH5EtZ+VnU40qA9yb0+lU//79NX36dHXt2tXfcSwxd+5cDRo0SO3atfN3FMtVVFRo\n",
              "165dysrK0qFDh9S8eXNNnDjR37Es8Z///EdHjx7V2bNnde7cOT3//PP60Y9+5O9Y1U6NKoMWLVro\n",
              "/PnzqqiokHT7RGJhYaFatmzptl3Lli11+vRp13JBQcEd2zzsPB2rJF2/fl1JSUkaMGCAMjIy7I76\n",
              "wDwd63vvvacVK1YoPDxciYmJcjqdCg8Pr1Z/MXvz/3Dv3r3VvHlzORwOjRgxQvv37/dH5Pvm6VjX\n",
              "rVvnuiAgICBAo0aN0rvvvuuPyJaz8rOpRpVBkyZN1LlzZ61fv16StGXLFn3nO99RZGSk23aDBw/W\n",
              "9u3bdeHCBRljtGrVKg0dOtQfke+bp2O9ceOGkpKSlJSUpFmzZvkj6gPzdKx79uzR6dOnVVBQoL17\n",
              "9yokJEQFBQVq3LixP2LfF0/H+vLLL+vDDz+U0+mUJP3jH/9QbGys7XkfhKdjjYiI0DvvvKOysjJJ\n",
              "0t/+9jd16NDB9rx2sPSzySdnHqqRjz/+2PTo0cO0adPGdOnSxRw+fNgYY0xaWpp56623XNv9/ve/\n",
              "NxERESYiIsKMGTPGdaVCdeLJWBcsWGCCgoJMbGys67VgwQJ/xr4vnv53/VJ+fn61PIFsjOdjXbdu\n",
              "nYmOjjYxMTEmKSnJFBYW+ivyffNkrCUlJWbs2LEmKirKxMTEmBdeeMF1hVx1Mn78eNO8eXMTGBho\n",
              "mjRpYlq3bm2Mse+ziRvVAQBq1mEiAMDdUQYAAMoAAEAZAABEGQAARBkAAEQZAABEGQAARBkAAEQZ\n",
              "AAAk/R83MKuAhDuH8AAAAABJRU5ErkJggg==\n",
              "\">\n",
              "        \n",
              "      </div>\n",
              "      <script></script>\n",
              "      <script type=\"text/javascript\">\n",
              "        (() => {\n",
              "          const chartElement = document.getElementById(\"chart-27df1167-7dff-4b16-9870-a59b11c05f18\");\n",
              "          async function getCodeForChartHandler(event) {\n",
              "            const chartCodeResponse =  await google.colab.kernel.invokeFunction(\n",
              "                'getCodeForChart', [\"chart-27df1167-7dff-4b16-9870-a59b11c05f18\"], {});\n",
              "            const responseJson = chartCodeResponse.data['application/json'];\n",
              "            await google.colab.notebook.addCell(responseJson.code, 'code');\n",
              "          }\n",
              "          chartElement.onclick = getCodeForChartHandler;\n",
              "        })();\n",
              "      </script>\n",
              "      <style>\n",
              "        .colab-quickchart-chart-with-code  {\n",
              "            display: block;\n",
              "            float: left;\n",
              "            border: 1px solid transparent;\n",
              "        }\n",
              "\n",
              "        .colab-quickchart-chart-with-code:hover {\n",
              "            cursor: pointer;\n",
              "            border: 1px solid #aaa;\n",
              "        }\n",
              "      </style>"
            ]
          },
          "metadata": {}
        },
        {
          "output_type": "display_data",
          "data": {
            "text/plain": [
              "<google.colab._quickchart_helpers.SectionTitle at 0x796701fa5b70>"
            ],
            "text/html": [
              "<h4 class=\"colab-quickchart-section-title\">2-d categorical distributions</h4>\n",
              "<style>\n",
              "  .colab-quickchart-section-title {\n",
              "      clear: both;\n",
              "  }\n",
              "</style>"
            ]
          },
          "metadata": {}
        },
        {
          "output_type": "display_data",
          "data": {
            "text/plain": [
              "import numpy as np\n",
              "from google.colab import autoviz\n",
              "\n",
              "def heatmap(df, x_colname, y_colname, figscale=1, mpl_palette_name='viridis'):\n",
              "  from matplotlib import pyplot as plt\n",
              "  import seaborn as sns\n",
              "  import pandas as pd\n",
              "  plt.subplots(figsize=(8 * figscale, 8 * figscale))\n",
              "  df_2dhist = pd.DataFrame({\n",
              "      x_label: grp[y_colname].value_counts()\n",
              "      for x_label, grp in df.groupby(x_colname)\n",
              "  })\n",
              "  sns.heatmap(df_2dhist, cmap=mpl_palette_name)\n",
              "  plt.xlabel(x_colname)\n",
              "  plt.ylabel(y_colname)\n",
              "  return autoviz.MplChart.from_current_mpl_state()\n",
              "\n",
              "chart = heatmap(_df_4, *['Name', 'item Purchased'], **{})\n",
              "chart"
            ],
            "text/html": [
              "      <div class=\"colab-quickchart-chart-with-code\" id=\"chart-7db76102-e8ad-4163-a8fd-5f9cc76bc5d3\">\n",
              "        <img src=\"data:image/png;base64,iVBORw0KGgoAAAANSUhEUgAAAXMAAAFrCAYAAAAjP2lkAAAAOXRFWHRTb2Z0d2FyZQBNYXRwbG90\n",
              "bGliIHZlcnNpb24zLjcuMSwgaHR0cHM6Ly9tYXRwbG90bGliLm9yZy/bCgiHAAAACXBIWXMAAA9h\n",
              "AAAPYQGoP6dpAAAzBUlEQVR4nO3de1yUdd7/8deAMlo5HkrSQkRBZZPkoGSm66G1VTfF8rBq2Yah\n",
              "YtZKt5UupYlaYdtaurWuuhJpJmVqLdt9t3e3W2245nYgtM1UUBA1lUyCPIDAXL8/ZpvfTqjMDFzi\n",
              "DO/n43E9HnId5vvl6tHbj9/5Xt/LYhiGgYiI+LSAxu6AiIjUn8JcRMQPKMxFRPyAwlxExA8ozEVE\n",
              "/IDCXETEDyjMRUT8gMJcRMQPKMxFRPyAwlxExA2zZs0iLCwMi8VCXl7eec8pKipi8ODBtG7dmpiY\n",
              "mFrHMzIy6NatG+Hh4UybNo2qqiq3jrlDYS4i4oZx48axbds2OnfufMFzbDYbTz75JBs2bKh1rLCw\n",
              "kPnz55OTk0NBQQHHjx9n9erVdR5zl8JcRMQNAwcOJCQk5KLntGvXjgEDBnDllVfWOrZp0yYSEhLo\n",
              "0KEDFouFGTNmkJWVVecxdzXz6GwRET9SWVlJZWWlyz6r1YrVam3wtoqLi12q+rCwMIqLi+s85i6F\n",
              "eRPTdflzjd0Fv3AgZXZjd0H+zX6su9fXpq+8i4ULF7rsW7BgAWlpafXs1aWnMBcRn2bH7vW1qamp\n",
              "zJ7t+hezGVU5QGhoKPv373f+XFRURGhoaJ3H3KUxcxHxaTWG3evNarVis9lcNrPCfOzYsWRnZ3Ps\n",
              "2DEMw2DlypVMnDixzmPuUpiLiE+zY3i9eSI5OZmQkBAOHz7MsGHDiIiIAGDq1KlkZ2cDcObMGUJC\n",
              "Qhg/fjy7d+8mJCSE1NRUALp27crChQvp378/ERERtG/fnuTk5DqPucuiNw01LRozbxgaM798nD3a\n",
              "xetrW3YsbMCeNC6NmYuIT6vPmLk/UZiLiE+r0eACoDAXER/n6di3v1KYi4hPq1GYA5rNIiLiF1SZ\n",
              "i4hP0zCLg8JcRHyavgB1UJiLiE/TxEQHhbmI+DR9AeqgMBcRn1ajLAc0m0VExC+oMhcRn6YxcweF\n",
              "uYj4tBosjd2Fy4LCXER8ml1j5oDCXER8nCpzB4W5iPg0hbmDZrOIiPgBVeYi4tPshipzUJiLiI/T\n",
              "MIuDwlxEfFqNRosBhbmI+DgNszgozEXEp2mYxUH/PhER8QOqzEXEp9UYqklBYS4iPs6uAQZAYS4i\n",
              "Pk5j5g4KcxHxaRpmcVCYi4hPs6syBzSbRUTEL6gyFxGfpidAHUy9C9XV1SxdupT7778fgP379/Pe\n",
              "e++Z2aSINDE1RoDXmydmzZpFWFgYFouFvLy8C56XkZFBt27dCA8PZ9q0aVRVVQGQmZlJTEyMc7vm\n",
              "mmsYM2YMAEVFRQQGBroc379/v0f9MzXMH3zwQfbs2cMHH3wAwNVXX82cOXPMbFJEmhg7AV5vnhg3\n",
              "bhzbtm2jc+fOFzynsLCQ+fPnk5OTQ0FBAcePH2f16tUATJkyhby8POfWoUMH7r77bue1rVq1cjke\n",
              "Hh7uUf9MDfMdO3bwpz/9iRYtWgDQpk0b599SIiINocaweL1VVlZSXl7uslVWVp63nYEDBxISEnLR\n",
              "vmzatImEhAQ6dOiAxWJhxowZZGVl1Trvn//8JyUlJSQkJDTIPQCTw/yHEP9BTU0NdrvepS0iDaeG\n",
              "AK+39PR0Wrdu7bKlp6d73Zfi4mKXyj0sLIzi4uJa52VkZHDPPffQvHlz577Tp08THx9PXFwcixYt\n",
              "oqamxqO2Tf0CtFevXqxfvx673U5BQQHPPPMMgwcPNrNJERG3paamMnv2bJd9VqvV1DZPnz7Na6+9\n",
              "xo4dO5z7OnbsyJEjRwgODubkyZNMmDCBpUuXejQsbWpl/txzz5GTk8OxY8fo378/AQEBLFmyxMwm\n",
              "RaSJsRsBXm9WqxWbzeay1SfMQ0NDOXjwoPPnoqIiQkNDXc5544036NmzJzfccINzn9VqJTg4GIB2\n",
              "7dpx3333kZOT41Hbpob5VVddxapVqzh+/DjHjx9n1apVXHnllWY2KSJNTH2GWRra2LFjyc7O5tix\n",
              "YxiGwcqVK5k4caLLORkZGSQlJbnsKykpcX6fWFlZyZYtW4iNjfWobVPDvKysjAcffJBRo0YBsHv3\n",
              "7vN+GSAi4q36fAHqieTkZEJCQjh8+DDDhg0jIiICgKlTp5KdnQ1A165dWbhwIf379yciIoL27duT\n",
              "nJzs/Iy9e/eSl5fHhAkTXD5727ZtxMbGEh0dTVxcHB06dODxxx/3qH8WwzAMj67wwMSJE4mKiuK1\n",
              "117jX//6F2fPnqVfv34XnaMp5uq6/LnG7oJfOJAyu+6T5JJYm3+L19fe2217A/akcZlame/bt495\n",
              "8+Y5v7Ft2bIlJv7dISJN0KV6aOhyZ+pvExQU5PLz2bNnFeYiIiYwNcyHDBnCU089RUVFBVu3bmXc\n",
              "uHHOx1dFRBqCHYvXmz8xNcwXL15MQEAANpuNxx57jP79+zN//nwzmxSRJkbDLA6mPDT061//mhde\n",
              "eIHXXnuN1NRUUlNTzWhGRESrJv6bKXfhww8/BBwPDYmImMluWLze/IkplXmnTp34yU9+QnFxMXFx\n",
              "cbWO5+bmXvDaysrKWgvdWK1W0x+xFRHfpMrcwZQwf/PNN8nNzWXy5Mk8//zzHl2bnp7OwoULXfYt\n",
              "WLCAtLS0BuyhiIh/MSXMZ8+ezQsvvMCvfvUrBg0a5NG1jbHwjYj4LruffZHpLVPHzN98802Pr23o\n",
              "hW9ExL/VYPF68yeX3Zi5iIgnVJk7XHZj5iIinvC3CttbpoR58+bN6du3L9nZ2fzkJz8xowkREUCV\n",
              "+Q9MvQshISE88MADdO/ene7du/Pggw/y/fffm9mkiEiTZGqYz5w5k+rqajZu3Mgbb7yB3W5n5syZ\n",
              "ZjYpIk2MHud3MPUdoLt27WLnzp3On1esWEF0dLSZTYpIE+NvC2Z5y9Qwr6mp4fvvv6dVq1YAfP/9\n",
              "9x6/cVpE5GL8rcL2lqlhfu+993LzzTc7X5G0ceNGpkyZYmaTItLE+NsaK94yJczLy8s5efIkjz76\n",
              "KFFRUfztb38DHGPokydPNqNJEWmitDaLgyl3Yc6cOXz22WcAjBgxgt/97nf87ne/o0OHDsydO9eM\n",
              "JkVEmjRTwvzjjz9m7NixtfaPGTPG+ai/iEhD0BK4DqYMs1RXV1/wWECA/kkkIg3HrmEWwKQwr6qq\n",
              "ory8HJvN5rK/rKyMqqoqM5oUkSaqxs8qbG+Z8lfaxIkTueeeeygtLXXuKy0tZcqUKUycONGMJkWk\n",
              "idIwi4MpYT5v3jzatGlDp06diI2NJTY2lk6dOtGqVSu90FlEGpTdCPB68yemDLMEBgaydu1annji\n",
              "Cedyt3FxcYSHh5vRnIhIk2fqQ0Ph4eEKcBExlZbAdTA1zEVEzOZvY9/eUpiLiE/zt7Fvb+kuiIhP\n",
              "s2PxevPErFmzCAsLw2KxkJeXd8HzMjIy6NatG+Hh4UybNs05HfuDDz6gZcuWxMTEOLezZ8/WeZ27\n",
              "FOYi4tNqDIvXmyfGjRvHtm3b6Ny58wXPKSwsZP78+eTk5FBQUMDx48dZvXq183iPHj3Iy8tzbi1b\n",
              "tnTrOncozEVE3DBw4EBCQkIues6mTZtISEigQ4cOWCwWZsyYQVZWVp2f7e11/0lj5iLi0+ozZl5Z\n",
              "WUllZaXLPqvVitVq9erziouLXSr3sLAwiouLnT/v37+fuLg4AgMDmTJlivPNa3Vd5w5V5iLi0+rz\n",
              "BGh6ejqtW7d22dLT003pZ1xcHIcPHyY3N5c333yTlStXsnHjxgb7fIW5iPi0+nwBmpqaSllZmcuW\n",
              "mprqdV9CQ0M5ePCg8+eioiJCQ0MBsNlstG7dGnC87H7SpEnk5OTUeZ27FOYi4tPqU5lbrVZsNpvL\n",
              "5u0QC8DYsWPJzs7m2LFjGIbBypUrnetRHT16FLvdDjheofn2228TGxtb53XuUpiLiE+7VGuzJCcn\n",
              "ExISwuHDhxk2bBgREREATJ06lezsbAC6du3KwoUL6d+/PxEREbRv357k5GQANm/ezI033kh0dDQ3\n",
              "33wzt912m/M1mhe7zl0WwzAMj64Qn9Z1+XON3QW/cCBldmN3Qf5twkczvL729X4rG7AnjUuzWUTE\n",
              "p+lxfgeFuYj4NE+f5PRXCnMR8WmqzB0U5iLi0xTmDprNIiLiB1SZi4hPU2XuoDAXEZ+mMHdQmIuI\n",
              "T9NsFgeFuYj4NFXmDgpzEfFpCnMHzWYREfEDqsxFxKepMndQmIuIT1OYOyjMRcSnGQpzQGEuIj5O\n",
              "UxMdFOYi4tM0zOKg2SwiIn5AlbmI+DSNmTsozEXEp2mYxUFhLiI+TZW5g8JcRHyaKnMHnwhzvVG+\n",
              "4eit8uJvDKOxe3B50GwWERE/4BOVuYjIheihIQeFuYj4NH0B6qAwFxGfpi9AHRTmIuLT9AWog8Jc\n",
              "RHyahlkcNJtFRMQPqDIXEZ+mytzBrTCfMmUKFsuFb9hLL73UYB0SEfHEpfoCdNasWWRnZ3Pw4EE+\n",
              "//xzYmJiznteRkYGS5YswW63c+utt7JixQqaN2/Oe++9x29+8xtOnTqFxWLh9ttvZ8mSJQQEBFBU\n",
              "VER4eDg33nij83M2b95MeHi42/1za5ilT58+9O7dm6CgIHbs2EHXrl0JDw/n448/xmq1ut2YiEhD\n",
              "MwzvN0+MGzeObdu20blz5wueU1hYyPz588nJyaGgoIDjx4+zevVqANq2bctrr73G7t27+eyzz9i+\n",
              "fTvr1q1zXtuqVSvy8vKcmydBDm5W5g888AAAAwcOZMeOHdhsNgB+/etfM3LkSI8aFBFpSPUZZqms\n",
              "rKSystJln9VqPW+ROnDgwDo/b9OmTSQkJNChQwcAZsyYwdNPP80DDzxAbGys87wWLVoQExNDUVGR\n",
              "133/MY++AP3mm2+cQQ5gs9n45ptvGqwzIiKeMgyL11t6ejqtW7d22dLT073uS3FxsUvlHhYWRnFx\n",
              "ca3zjh07xqZNm1yK4dOnTxMfH09cXByLFi2ipqbGo7Y9+gI0OjqaxMREkpKSAMjMzCQ6OtqjBkVE\n",
              "LhepqanMnu26+JzZQ8fl5eWMGjWKOXPm0KdPHwA6duzIkSNHCA4O5uTJk0yYMIGlS5cyZ84ctz/X\n",
              "o8p8zZo1tG/fnoceeoiHHnqI9u3bs2bNGs9+ExGRBmTUY7NardhsNpetPmEeGhrKwYMHnT8XFRUR\n",
              "Ghrq/Pn7779n+PDhjB492uUvEavVSnBwMADt2rXjvvvuIycnx6O2ParMr7rqKp599lmPGhARMdPl\n",
              "NDVx7NixDBgwgLS0NK699lpWrlzJxIkTATh16hTDhw9n+PDhzJs3z+W6kpIS2rZtS/PmzamsrGTL\n",
              "li0uY+zu8KgyP3ToECNHjnROycnLy+P555/3qEERkQZVn9LcA8nJyYSEhHD48GGGDRtGREQEAFOn\n",
              "TiU7OxuArl27snDhQvr3709ERATt27cnOTkZgOXLl/Pxxx+zZcsWYmJiiImJ4amnngJg27ZtxMbG\n",
              "Eh0dTVxcHB06dODxxx/3qH8Ww3B/gs4vfvEL7rrrLp599ll27txJdXU1sbGxfPHFFx416im9nKLh\n",
              "6OUU4m+6vfGk19fmj59X90k+wqPKvKSkhMmTJxMQ4LisWbNmNGumh0hFpPFcqnnmlzuPwrxZs2b8\n",
              "ZyFfWlqKB4W9iIiYxKMwHz9+PMnJyZSXl7NmzRpuu+02pk6dalbfRETqVJ955v7EozGShx9+mKys\n",
              "LMrKynj33XeZPXs2d911l1l9ExGpm5+Fsrc8HvCeNGkSkyZNwjAMTp06ZUafRETcppFeB4+GWZKS\n",
              "kvjuu+84d+4cMTExXHvttaxYscKsvomI1O0STU283HkU5p999hlt2rThr3/9K7GxsRw7doyVK1ea\n",
              "1TcRkTppzNzBozD/YeZKTk4OI0eOxGazERgYaErHRETEfR6FeYcOHbj//vt54403GDp0KFVVVR6v\n",
              "7CUi0qA0zAJ4GOavvvoqPXr04LXXXqNNmzYcOXKk1opjIiKXkoZZHDyazXLNNdfw0EMPOX8OCwsj\n",
              "MTGxgbskIuIBP6uwveVRmJeUlJCWlkZeXh4VFRXO/bm5uQ3eMRER9/hXhe0tj6cmdu7cmRMnTrBw\n",
              "4UKuu+46br/9drP6JiJSN42ZA14sgTt37lysViujRo1iy5YtbN261ay+iYiImzwK86CgIMDxMtJv\n",
              "v/2WZs2aceLECVM6JiLiFlXmgIdj5t27d+fbb79l8uTJ9O3bF5vNRu/evc3qm4hI3fxsVoq3PArz\n",
              "9evXA5CSkkLv3r357rvvGD58uCkdExFxh9ZmcfD6zRIDBgxoyH6IiHhHYQ54OGb+17/+lcjISIKC\n",
              "gggMDCQgIECP84tI4zIs3m9+xKPKfNasWbzwwgv069dPIS4ichnxKMxtNhvDhg0zqy8iIh6zaJgF\n",
              "8HCYZeTIkbz11lsmdUVExAuamgi4WZm3bdsWi8WCYRiUlZXRsmVLrFYrhmFgsVg4efKk2f0UETk/\n",
              "Pxv79pZbYZ6Xl2dyN0REvORnFba33Arzzp07A1BcXExwcDAtWrQAoKKigm+++eai1/5Qvf+nM2fO\n",
              "cMUVV3jTXxERVwpzwMMx83Hjxrn8bBhGrX0/NnPmTJefKyoqGDVqlCfNiohIHTwK83PnzjmrcoCW\n",
              "LVtSWVl50WtOnTrFM888A0B1dTXjx4+nf//+XnRVROQ89AUo4OHURIvFQklJCcHBwQAcO3bM+V7Q\n",
              "C8nIyGDEiBFcf/31/OUvf6F79+4sWrTI+x6LiPwnfQEKePHQUL9+/bjnnnsAx1otCxYsuOg1QUFB\n",
              "bNmyhQEDBjBgwACWLl3qfW9FRH5E88wdPBpmmTJlChkZGZw5c4YzZ86QmZnpDPYfa9u2Le3ataNd\n",
              "u3Z06dKFAwcOkJWV5dwnItIgLtEwy6xZswgLC8NisVx0hl9GRgbdunUjPDycadOmUVVVVe9j7nC7\n",
              "Mq+pqeHGG29k9+7dDB48uM7zNZ1RRPzJuHHjmDNnzkUXGSwsLGT+/Pnk5uZy7bXXMnr0aFavXs0D\n",
              "Dzzg9TF3uV2ZBwYG0r59e86cOePW+Z07d77oJiLiSwYOHEhISMhFz9m0aRMJCQl06NABi8XCjBkz\n",
              "yMrKqtcxd3k0Zh4REUH//v0ZP348V111lXP/rFmzap0bGxtba375f7rQS6ArKytrzZAxqquxNPN6\n",
              "tV4R8WP1GTM/X95YrVasVqtXn1dcXOxSrIaFhVFcXFyvY+7yKCHtdjsxMTHk5+c7910osJctW+ZR\n",
              "R36Qnp7OwoULXfa1GfZz2o7QAl8ich71mM1yvrxZsGABaWlp9ezUpedRmGdmZrp97qBBgzzuDEBq\n",
              "aiqzZ8922Rf9p5VefZaINAH1qMzPlzfeVuUAoaGh7N+/3/lzUVERoaGh9TrmLo/CfN26defd/6tf\n",
              "/arWvocffpilS5dy5513nrd637Jly3k/63z/xNEQi4hcUD3CvD5DKuczduxYBgwYQFpaGtdeey0r\n",
              "V65k4sSJ9TrmLo9S8i9/+YvzzxUVFWzbto2bb775vGH+w4yXO+64o9axi42li4h44lLNM09OTua/\n",
              "//u/OXbsGMOGDaNVq1YUFBQwdepUEhISSEhIoGvXrixcuND5lPvgwYNJTk4G8PqYuyxGXY9wXkRh\n",
              "YSGPP/44GzZsqHXsx/90+bHnnnvO7Xa6Lnf/XLm4AykX/+8i4mvCPciSH9tfR075knqNX3Tp0oUv\n",
              "v/zyvMeWLVtGfHw8w4cPJyDAo2eTRETcpydAAQ/DPDs72/nnmpoa/vnPf15wvOlvf/sbL730Ehs2\n",
              "bOCXv/wl9913H+Hh4fXrrYjIjynMAQ/D/Pnnn///FzZrRkREBK+//vp5zx0yZAhDhgyhvLycrKws\n",
              "7r77blq2bMmSJUvo27dv/XotIvJvWpvFwaMw37x5s8frqthsNkaPHs3Jkyf5/e9/z549exTmItJw\n",
              "tGoi4Obj/B988AHBwcG0b9+eLl268K9//avOa2pqanjzzTcZOXIkt912G4GBgeTm5nLvvffWu9Mi\n",
              "IuLKrcr80UcfZdWqVQwfPpwNGzaQmprqMk3xfK6//npCQ0OZMmWKc7rNN99843zNXK9everZdRER\n",
              "NGb+b26FeVVVFXfeeScASUlJvPjii3Ve06JFC7755ht++9vfYrFYXF5iYbFYOHDggJddFhH5/zRm\n",
              "7uBWmP94aqE7D/0UFRV51SEREY8ozAE3w3zXrl0uX3yWl5fTrl07DMPAYrFw8uRJ0zooInIxqswd\n",
              "3Arz/1wARkTksqIwB9wMc71MQkTk8qblCEXEt6kyBxTmIuLjNGbuoBWwRET8gMeV+VdffUV+fj7V\n",
              "1dXOfWPGjGnQTomIuE2VOeBhmD/88MO8+uqr3HDDDQQGBgKOOecKcxFpLBpmcfAozP/85z9z4MAB\n",
              "rrjiCrP6IyIiXvAozDt16kSLFi3M6ouIiOdUmQMehvlvf/tbxo8fz7Bhw1xC/XzvABURuSQU5oCH\n",
              "Yb5y5Up27dqFYRguY+YKcxFpLBozd/AozD/44AP27t1Ls2aani4ilwmFOeBhmHft2tVlKVsRkcam\n",
              "ytzB4zAfPHgwo0ePdhkznzVrVoN3TERE3OdRmJ87d47u3bvz1VdfOfe5s7a5iIhpVJkDHoZ5Zmam\n",
              "Wf0QEfGOwhzwcG2WsrIyHnzwQUaNGgXA7t27ycrKMqVjIiLusBjeb/7EozBPTk6mQ4cOFBYWAtCl\n",
              "SxeeeeYZUzomIuIWox6bH/EozPft28e8efNo3rw5AC1bttTsFhFpXApzwMMwDwoKcvn57NmzCnMR\n",
              "kcuAR2E+ZMgQnnrqKSoqKti6dSvjxo3jzjvvNKtvIiJ10pi5g0dhvnjxYgICArDZbDz22GP079+f\n",
              "BQsWmNU3EZG6XaJhlvz8fG655Ra6d+9OfHw8X375Za1z7HY7jzzyCFFRUURGRpKUlMS5c+cA+N//\n",
              "/V9iYmKc23XXXUdcXJzzWovFwo033ug8npOT41H/PJqauHv3blJTU0lNTXXu27VrF7169fKoURGR\n",
              "hnKpKuzk5GSmT59OYmIimzZtIjExkU8++cTlnIyMDHJzc8nNzaV58+ZMnz6d5cuX8+ijjzJs2DCG\n",
              "DRvmPHfkyJEMGTLE5fqcnBzatGnjVf88qswTExPd2icicsnUozKvrKykvLzcZausrKzVRElJCZ9+\n",
              "+imTJ08GYOzYsRw6dIiCggKX83bu3MnQoUMJCgrCYrEwYsQIXnnllVqf9/XXX/O3v/2Ne+65p6Hu\n",
              "gnthXlJSwq5duzh79ixffPEFu3btYteuXeTk5HD69OkG64yIiMfqEebp6em0bt3aZUtPT6/VxKFD\n",
              "h+jYsaNzkUGLxUJoaCjFxcUu5/Xu3Zvs7GzKy8upqqpi48aNFBUV1fq8l19+mV/84hcEBwe77P/Z\n",
              "z35GdHQ0s2fP9jhb3RpmycrKYtmyZXz99dckJCQ497du3Zo5c+Z41KCIyOUiNTWV2bNnu+yzWq1e\n",
              "f15iYiIHDx5k0KBBtGzZkqFDh/Luu++6nGMYBi+99BK///3vXfYfPHiQ0NBQTp8+zYwZM3j00UdZ\n",
              "sWKF2227VZmnpKRQWFjIvHnzKCwsdG55eXkkJSW53ZiISEOz1GOzWq3YbDaX7Xxh3qlTJ44ePep8\n",
              "kb1hGBQXFxMaGuraF4uFtLQ0Pv/8c7Zv384NN9xAz549Xc75+9//TkVFhcv4OeD8rCuvvJKZM2d6\n",
              "/AWoW2H+Q7mfkpJSa3ypvLzcowZFRBrUJZjNEhwcTFxcHOvXrwdg8+bNhISEEBER4XJeRUUFpaWl\n",
              "AJw4cYIlS5bUGr3IyMggMTHR+YIfgNLSUs6cOQM4ZsS8/vrrxMbGut9B3Bxm+elPf0pubi5t2rTB\n",
              "YrG4PChksVioqanxqFERkYZyqWazrFq1isTERJ5++mlsNptz4cGpU6eSkJBAQkICZWVlDB48mICA\n",
              "AOx2OykpKc61rMCxvtWWLVv44osvXD57z549JCcnY7FYqK6uJi4ujuXLl3vUP4vhA49wdl3+XGN3\n",
              "wW8cSJld90kiPiQ65Xmvr925/L8asCeNS+9/ExHfdtmXo5eGR/PMRUTk8qTKXER8mr+tseIthbmI\n",
              "+DaFOaAwFxEfp8rcQWEuIr5NYQ4ozEXEx6kyd/CJMNfcaLnc6NmHhqP/vxuGT4S5iMgFqTIHFOYi\n",
              "4usU5oDCXER8nMbMHRTmIuLbFOaAwlxEfJzl8l8r8JLQ2iwiIn5AlbmI+DYV5oDCXER8nL4AdVCY\n",
              "i4hvU5gDCnMR8XGqzB0U5iLi2xTmgGaziIj4BVXmIuLTNMzioDAXEd+mMAcU5iLi41SZOyjMRcS3\n",
              "6XF+QGEuIj5OlbmDZrOIiPgBVeYi4ttUmQMKcxHxcRZ7Y/fg8qAwFxHfpsoc0Ji5iPg4i+H95on8\n",
              "/HxuueUWunfvTnx8PF9++WWtc+x2O4888ghRUVFERkaSlJTEuXPnACgqKiIwMJCYmBjntn//fue1\n",
              "b7/9NpGRkXTr1o0xY8ZQXl7uUf8U5iLi2wzD+80DycnJTJ8+nX379jF37lwSExNrnZORkUFubi65\n",
              "ubl89dVXBAQEsHz5cufxVq1akZeX59zCw8MBOHXqFElJSbz11lvk5+dz3XXXsXjxYo/6pzAXEalD\n",
              "SUkJn376KZMnTwZg7NixHDp0iIKCApfzdu7cydChQwkKCsJisTBixAheeeWVOj//nXfeITY2lsjI\n",
              "SABmzpxJVlaWR31UmIuIT6vPMEtlZSXl5eUuW2VlZa02Dh06RMeOHWnWzPE1o8ViITQ0lOLiYpfz\n",
              "evfuTXZ2NuXl5VRVVbFx40aKioqcx0+fPk18fDxxcXEsWrSImpoaAIqLi+ncubPzvLCwMI4ePUp1\n",
              "dbXb90FhLiK+zfB+S09Pp3Xr1i5benq6111JTExk+PDhDBo0iEGDBtG9e3fnXwAdO3bkyJEjfPLJ\n",
              "J2zdupWcnByWLl3q/e/9IwpzEfFp9anMU1NTKSsrc9lSU1NrtdGpUyeXStkwDIqLiwkNDXXti8VC\n",
              "Wloan3/+Odu3b+eGG26gZ8+eAFitVoKDgwFo164d9913Hzk5OQCEhoZy8OBB5+cUFRW5/EvAHQpz\n",
              "EfFt9fgC1Gq1YrPZXDar1VqrieDgYOLi4li/fj0AmzdvJiQkhIiICJfzKioqKC0tBeDEiRMsWbKE\n",
              "OXPmAI5x96qqKsAxvLNlyxZiY2MBGD58OLm5uezZsweAFStWMHHiRI9ug+aZi4hPu1Rrs6xatYrE\n",
              "xESefvppbDYbmZmZAEydOpWEhAQSEhIoKytj8ODBBAQEYLfbSUlJYdSoUQBs27aNJ554gsDAQKqr\n",
              "q7n11lt5/PHHAccslzVr1nDHHXdQXV1NVFQUa9eu9ah/FsPQkmMinuq6/LnG7oLfOJAyu17XDxz9\n",
              "rNfXfvjnR+vV9uVElbmI+DaVo4DCXER8nJbAdVCYi4hvsyvNQWEuIr5OWQ5oaqKIiF9QZS4iPk1j\n",
              "5g6mVeY1NTUMHTrUrI8XEXG4RKsmXu5Mq8wDAwM5c+YMdrudgACN5oiIOVSZO5g6zBIfH8/IkSOZ\n",
              "PHkyV111lXN/QkKCmc2KSFOiMAdMDvNdu3YB8Kc//cm5z2KxKMxFpMFY/Gy4xFumhvn7779v5seL\n",
              "iMi/mT6bpaqqisLCQioqKpz7evXqZXazItJU2Bu7A5cHU8P87bffZtq0aZSWlnLllVdSWlpK586d\n",
              "KSwsNLNZEWlCNMziYOo0k/nz57Njxw5+8pOf8O2337Ju3TrGjRtnZpMi0tTU401D/sTUMA8ICKBz\n",
              "587Ot3NMnjyZ9957z8wmRaSp0TxzwORhlubNmwMQEhLCm2++SVhYmPMtHCIiDUHzzB1MDfOUlBRK\n",
              "S0t58sknmThxIt999x3Lli0zs0kRkSbJ1DCfNGkSAL179yY/P9/MpkSkqfKz4RJvmRrm69atq7Wv\n",
              "TZs29O7dm+uvv97MpkWkibBoaiJgcpi/+uqrfPjhhwwYMACLxcK2bdu46aab2LdvH8uWLeOXv/yl\n",
              "mc2LSFOgyhwwOcyvuuoqPv/8cyIjIwHYu3cvqampbN++nYSEhPOGeWVlJZWVlS77rFYrVqvVzK6K\n",
              "iK9SlgMmT03ct2+fM8gBevToQUFBAWFhYRdcSTE9PZ3WrVu7bOnp6WZ2U0R8mMUwvN78ialh3qpV\n",
              "K9atW4dhGBiGwbp161xWTzyf1NRUysrKXLbU1FQzuyki4vNMHWbJzMzknnvuYerUqVgsFqKjo1m7\n",
              "di2nT5/m2WefPe81GlIREY/4WYXtLVPDvEePHnz88cd8//33gKNS/8Ftt91mZtMi0lRoNgtgcph/\n",
              "+OGH590/cOBAM5sVkSbE38a+vWVqmD/88MPOP1dUVLB3716ioqLIzc01s1kRaUoU5oDJYf7JJ5+4\n",
              "/Pzxxx/z8ssvm9mkiDQ1CnPA5NksP3bTTTfx0UcfXcomRUSahEvyDlCAmpoaduzYQVVVlZlNikhT\n",
              "oy9AAZPDfPTo0c4/N2/enIiICNauXWtmkyLSxFyqL0Dz8/O59957OXHiBK1bt+bll1+mZ8+eLufY\n",
              "7XbmzJnDX//6V6qrq+nfvz9//OMfCQoK4osvvuCBBx6gpKSEZs2acdNNN/GHP/yBli1bOn4Pi4Wo\n",
              "qCgCAwMBeOGFF/jpT3/qdv9MHWYpLCyksLCQrVu3cv/993P//ffTu3dvM5sUkabmEr2cIjk5menT\n",
              "p7Nv3z7mzp1LYmJirXMyMjLIzc0lNzeXr776ioCAAJYvXw5AixYtePHFF9mzZw87d+7k9OnTPPPM\n",
              "My7X5+TkkJeXR15enkdBDiaF+dChQ8nLywPg66+/Jj4+nnfffZc5c+bU6ryISL3UI8wrKyspLy93\n",
              "2X68NhRASUkJn376KZMnTwZg7NixHDp0iIKCApfzdu7cydChQwkKCsJisTBixAheeeUVALp16+Z8\n",
              "mX1gYCDx8fEUFRU12G0wJcyPHDlCTEwMABs2bGDQoEG88847bN++nVdffdWMJkWkqapHmLu7FtSh\n",
              "Q4fo2LEjzZo5RqYtFguhoaEUFxe7nNe7d2+ys7MpLy+nqqqKjRs3njewT58+zZo1a1yGogF+9rOf\n",
              "ER0dzezZszl9+rRHt8GUMP9hDAhg+/bt/OIXvwCgbdu2zpshItLYGnotqMTERIYPH86gQYMYNGgQ\n",
              "3bt3r5V5586dY8KECfz85z/nzjvvdO4/ePAgn332Gdu3b+ebb77h0Ucf9ahtU8I8ICCAw4cPc+rU\n",
              "Kf7+978zaNAg57EzZ86Y0aSINFV27zer1YrNZnPZzrc2VKdOnTh69Kjz5fSGYVBcXExoaKjLeRaL\n",
              "hbS0ND7//HO2b9/ODTfc4PIlaVVVFRMmTKBjx47OsfQf/PBZV155JTNnziQnJ8ej22BKmD/22GPE\n",
              "xsbSrVs3hgwZQvfu3QFHlR4WFmZGkyLSRF2KJXCDg4OJi4tj/fr1AGzevJmQkBAiIiJczquoqHC+\n",
              "tP7EiRMsWbKEOXPmAFBdXc3EiRNp164dq1evxmKxOK8rLS11Frp2u53XX3+d2NhYj+6DKWMeY8aM\n",
              "4ZZbbuH48ePOAX+AsLAwVq9ebUaTItJUXaKpiatWrSIxMZGnn34am81GZmYmAFOnTiUhIYGEhATK\n",
              "ysoYPHgwAQEB2O12UlJSGDVqFACvv/46W7ZsoVevXs6g7t+/P3/4wx/Ys2cPycnJWCwWqquriYuL\n",
              "q1W518ViGHoWVsRTXZc/19hd8BsHUmbX6/oRPX7j9bXv7F1Sr7YvJ/o2UkR8m+pR4BKvzSIiIuZQ\n",
              "ZS4ivk2VOaAwFxFfpzAHFOYi4uvsCnNQmIuIrzO0Bi4ozEXE12mYBdBsFhERv6DKXER8m8bMAYW5\n",
              "iPg6DbMACnMR8XUKc0BhLiK+TmEOKMxFxNfZNTURNJtFRMQvqDIXEd+mYRZAYS4ivk5hDijMRcTX\n",
              "aZ45oDAXER9naG0WQGEuIr5OlTmg2SwiIn5BlbmI+DZ9AQoozEXE1+mhIUBhLiK+TpU5oDAXER9n\n",
              "qDIHFOYi4utUmQOazSIi4hdUmYuIb9M8c0BhLiK+Tk+AAgpzEfFxhipzQGPmIuLrDLv3mwfy8/O5\n",
              "5ZZb6N69O/Hx8Xz55Ze1zrHb7TzyyCNERUURGRlJUlIS586dcx5/++23iYyMpFu3bowZM4by8nK3\n",
              "jrlDYS4iPs2wG15vnkhOTmb69Ons27ePuXPnkpiYWOucjIwMcnNzyc3N5auvviIgIIDly5cDcOrU\n",
              "KZKSknjrrbfIz8/nuuuuY/HixXUec5fCXESkDiUlJXz66adMnjwZgLFjx3Lo0CEKCgpcztu5cydD\n",
              "hw4lKCgIi8XCiBEjeOWVVwB45513iI2NJTIyEoCZM2eSlZVV5zF3KcxFxLfVY5ilsrKS8vJyl62y\n",
              "srJWE4cOHaJjx440a+b4mtFisRAaGkpxcbHLeb179yY7O5vy8nKqqqrYuHEjRUVFABQXF9O5c2fn\n",
              "uWFhYRw9epTq6uqLHnOXvgBtAJWVlaSnp5OamorVam3s7vg0X7mXB1JmN3YX6uQr97K+/s/+htfX\n",
              "pqWlsXDhQpd9CxYsIC0tzavPS0xM5ODBgwwaNIiWLVsydOhQ3n33Xa/75xFD6q2srMwAjLKyssbu\n",
              "is/TvWw4upd1q6ioMMrKyly2ioqKWucdP37caNWqlVFVVWUYhmHY7Xbj2muvNfLz8y/6+VlZWcaA\n",
              "AQMMwzCMjRs3GsOGDXMe+/LLL43rr7++zmPu0jCLiDRZVqsVm83msp3vXzHBwcHExcWxfv16ADZv\n",
              "3kxISAgREREu51VUVFBaWgrAiRMnWLJkCXPmzAFg+PDh5ObmsmfPHgBWrFjBxIkT6zzmLg2ziIi4\n",
              "YdWqVSQmJvL0009js9nIzMwEYOrUqSQkJJCQkEBZWRmDBw8mICAAu91OSkoKo0aNAqBVq1asWbOG\n",
              "O+64g+rqaqKioli7dm2dx9xlMQytUlNf5eXltG7dmrKyMmw2W2N3x6fpXjYc3cumRcMsDcBqtbJg\n",
              "wQK//pLpUtG9bDi6l02LKnMRET+gylxExA8ozEVE/IDCXETEDyjML6C6upqFCxcSGRlJVFQUMTEx\n",
              "TJ8+nbfeeouYmBi3P2flypU8++yz5nX0MhYWFkZeXh7gmH87evRoxo8f77KKnLua8n38sS1bttC7\n",
              "d29iYmKIjIzk1ltvxa73YDZ5mmd+AUlJSZw8eZKPPvqItm3bYhgGmzZt4uTJk25/RnV1NTNmzDCx\n",
              "l77h+++/JyEhgW7durFy5UoCAjyvIXQfHY4ePcr06dP57LPPnGt55ObmYrFYGrln0thUmZ9HQUEB\n",
              "b7zxBpmZmbRt2xZwLKwzfvx4unbtSnV1NTNnziQ6OpqePXvy6aefAlBUVESbNm2YO3cucXFxvPji\n",
              "i6SlpfHQQw8BsGPHDmdFFRUVxR//+MfG+hUvmW+//ZZbb72Vvn37snr1agICArj77rvp06cPvXr1\n",
              "4vbbb+fYsWMATJs2jd/97nfOawsLC+nQoQNVVVUu9/Hll19m6NChTJo0iRtvvJE+ffpw4MCBxvj1\n",
              "Lrnjx48TGBhIu3btnPvi4uKwWCw88sgjxMfHExMTw8CBA9m7d6/zHIvFwlNPPUXfvn0JCwvjrbfe\n",
              "Ij09nT59+tCtWzc++OCDRvhtpEF59PB/E/H6668bvXr1Ou+x999/3wgMDDR27NhhGIZh/PGPfzR+\n",
              "/vOfG4ZhGIWFhQZgrF271nn+ggULjJSUFMMwDCMhIcHYsGGD89jJkydN+g0uD507dzauvvpq4ze/\n",
              "+Y3L/pKSEuef09PTjeTkZMMwDOMf//iH0bNnT+exJ554wpg9e7ZhGK73MTMz07DZbMaBAwcMwzCM\n",
              "uXPnGtOnTzfzV7ls1NTUGGPGjDHatm1r3HHHHcZvf/tb4/Dhw4ZhuN7XrKwsl7U+AGPZsmWGYRjG\n",
              "1q1bjSuvvNLIzMw0DMOxLkifPn0u3S8hplBl7oWIiAj69u0LQL9+/di/f7/zWPPmzZ1rHv/YkCFD\n",
              "WLx4MYsWLWLbtm3Oqt+f3X777WzatIlDhw45923YsIE+ffoQFRXFmjVrnOPqt9xyC9XV1XzyyScY\n",
              "hsG6deuYMmXKeT+3X79+dOnSxfnn//xv4M8CAgLYvHkz27dvZ/jw4fzjH/+gZ8+eFBQU8H//93/0\n",
              "69ePqKgoFi1a5LyvP5gwYQIAffr04fTp0861P2666Sby8/Mv9a8iDUxj5ucRFxdHfn4+3377LVdf\n",
              "fXWt4y1atHD+OTAw0GXN4SuuuOKCY8IPPfQQo0ePZuvWrTz22GNERUWxYsWKhv8FLiP/9V//RXR0\n",
              "NIMHD+b999+nuLiY3//+93z00UcEBweTnZ3NE0884Tx/ypQpZGZmcurUKa655hqioqLO+7kX+2/Q\n",
              "FERGRhIZGUlycjLDhw9nw4YNLFu2jE8++YTw8HB27drFwIEDXa754Z4FBgbW+rmp3T9/pMr8PCIi\n",
              "Ihg7dixJSUl89913ABiGwebNm+s1Nrt37166dOnCtGnTeOyxx9ixY0cD9fjyNnv2bH79618zePBg\n",
              "9u/fT6tWrbj66qs5d+4cq1atcjn3nnvu4Y033mDlypXcd999jdTjy9eRI0f4xz/+4fy5tLSUwsJC\n",
              "WrduTfPmzenYsSOGYfDiiy82Yi+lMagyv4CXXnqJJ598kr59+9KsWTPsdjsDBw5kxIgRXn/miy++\n",
              "yHvvvUdQUBCBgYEsXbq0AXt8eXvooYcICAjgscceY8CAAfTo0YOrr76aoUOHcuTIEed51113HTfd\n",
              "dBPZ2dm1gl4cM6QWLVpEYWEhV1xxBdXV1dx7772kpKRw4MABevbsydVXX80dd9zR2F2VS0xrs4iI\n",
              "+AENs4iI+AGFuYiIH1CYiynCwsKIjIx0mSXRp08fPZwiYhKFuZimsrKSjIyMxu6GSJOgMBfTpKWl\n",
              "sXjxYs6cOeOyf8OGDfTt25fY2Fiio6P5y1/+4jw2ePBgHn74YQYOHEhoaCjz58/nf/7nfxgwYABh\n",
              "YWE899xzznPz8/O5/fbbiY+Pp1evXpqOJ02apiaKaaKjoxkyZAjPP/88jz/+uHP/sGHDmDRpEhaL\n",
              "haKiIm6++WYOHjzofL3ZwYMHef/99ykvLycsLIzS0lJycnL4+uuv6dGjB/fddx+tWrVi0qRJrF+/\n",
              "nsjISM6cOcPNN99M3759iY+Pb6xfWaTRKMzFVIsXL+amm25yWfWwsLCQu+++m8OHD9OsWTNOnjxJ\n",
              "YWEhkZGRAIwbN47AwEDatm1L165dGTlyJBaLheuvv5727dtTVFREUFAQX375pfORdHCszrh7926F\n",
              "uTRJCnMxVVhYGHfddRdPPvmkc9/EiRNZsmQJ48aNA6Bdu3ZUVFQ4j//4Uf3zPbrfvHlz2rVrV2v9\n",
              "EZGmSmPmYrp58+axfv16vv76a8DxCPoPi2StX7+e0tJSjz+zR48e2Gw2MjMznfsKCgo8Wm9exJ8o\n",
              "zMV011xzDbNmzeLo0aMALF++nHHjxhEbG8vnn39OaGiox5/ZrFkz3n77bbZs2UKvXr3o2bMnSUlJ\n",
              "nD17tqG7L+IT9Di/iIgfUGUuIuIHFOYiIn5AYS4i4gcU5iIifkBhLiLiBxTmIiJ+QGEuIuIHFOYi\n",
              "In5AYS4i4gcU5iIifkBhLiLiB/4f34JyorQBejwAAAAASUVORK5CYII=\n",
              "\">\n",
              "        \n",
              "      </div>\n",
              "      <script></script>\n",
              "      <script type=\"text/javascript\">\n",
              "        (() => {\n",
              "          const chartElement = document.getElementById(\"chart-7db76102-e8ad-4163-a8fd-5f9cc76bc5d3\");\n",
              "          async function getCodeForChartHandler(event) {\n",
              "            const chartCodeResponse =  await google.colab.kernel.invokeFunction(\n",
              "                'getCodeForChart', [\"chart-7db76102-e8ad-4163-a8fd-5f9cc76bc5d3\"], {});\n",
              "            const responseJson = chartCodeResponse.data['application/json'];\n",
              "            await google.colab.notebook.addCell(responseJson.code, 'code');\n",
              "          }\n",
              "          chartElement.onclick = getCodeForChartHandler;\n",
              "        })();\n",
              "      </script>\n",
              "      <style>\n",
              "        .colab-quickchart-chart-with-code  {\n",
              "            display: block;\n",
              "            float: left;\n",
              "            border: 1px solid transparent;\n",
              "        }\n",
              "\n",
              "        .colab-quickchart-chart-with-code:hover {\n",
              "            cursor: pointer;\n",
              "            border: 1px solid #aaa;\n",
              "        }\n",
              "      </style>"
            ]
          },
          "metadata": {}
        },
        {
          "output_type": "display_data",
          "data": {
            "text/plain": [
              "<google.colab._quickchart_helpers.SectionTitle at 0x7966fa05f2e0>"
            ],
            "text/html": [
              "<h4 class=\"colab-quickchart-section-title\">Faceted distributions</h4>\n",
              "<style>\n",
              "  .colab-quickchart-section-title {\n",
              "      clear: both;\n",
              "  }\n",
              "</style>"
            ]
          },
          "metadata": {}
        },
        {
          "output_type": "display_data",
          "data": {
            "text/plain": [
              "import numpy as np\n",
              "from google.colab import autoviz\n",
              "\n",
              "def violin_plot(df, value_colname, facet_colname, figscale=1, mpl_palette_name='Dark2', **kwargs):\n",
              "  from matplotlib import pyplot as plt\n",
              "  import seaborn as sns\n",
              "  figsize = (12 * figscale, 1.2 * figscale * len(df[facet_colname].unique()))\n",
              "  plt.figure(figsize=figsize)\n",
              "  sns.violinplot(df, x=value_colname, y=facet_colname, palette=mpl_palette_name, **kwargs)\n",
              "  sns.despine(top=True, right=True, bottom=True, left=True)\n",
              "  return autoviz.MplChart.from_current_mpl_state()\n",
              "\n",
              "chart = violin_plot(_df_5, *['cost', 'Name'], **{'inner': 'stick'})\n",
              "chart"
            ],
            "text/html": [
              "      <div class=\"colab-quickchart-chart-with-code\" id=\"chart-c643f769-c0e9-4bf5-9689-ae49be11cd9e\">\n",
              "        <img src=\"data:image/png;base64,iVBORw0KGgoAAAANSUhEUgAAAhgAAAC9CAYAAADxygRkAAAAOXRFWHRTb2Z0d2FyZQBNYXRwbG90\n",
              "bGliIHZlcnNpb24zLjcuMSwgaHR0cHM6Ly9tYXRwbG90bGliLm9yZy/bCgiHAAAACXBIWXMAAA9h\n",
              "AAAPYQGoP6dpAAAVCElEQVR4nO3de3BU5eHG8WeTwAYQwh0CSEIhcjEkKSRcYggsStU6Q22Lt0Lr\n",
              "RIerChRwWqnlUpHYkVIoTkW0RSjSqoDBapmWlotKCSyXADoGCCTCYIJILpBpsrLk/f3hsD9Tspi1\n",
              "b/YQ8v3M7Ez27OU853U5+3jO2XNcxhgjAAAAiyKcDgAAAG48FAwAAGAdBQMAAFhHwQAAANZRMAAA\n",
              "gHUUDAAAYB0FAwAAWEfBAAAA1lEwAACAdRQMAABgHQUDAABYF+V0AAAAYJ8xRtXV1ZKk6OhouVyu\n",
              "sM6fLRgAANyAqqur5fF45PF4AkUjnCgYAADAOgoGAACwjoIBAACso2AAAADrKBgAAMA6CgYAALCO\n",
              "ggEAAKyjYAAAAOsoGAAAwDoKBgAAsI6CAQAArKNgAAAA6ygYAADAOgoGAACwjoIBAACsC0vB8Pv9\n",
              "Wrhwofr166fExESlpKRo0qRJysnJUUpKSr3fZ+XKlXr++ecbLigAALAiKhwzefTRR1VaWqrdu3er\n",
              "Xbt2MsZow4YNKi0trfd7+P1+TZkypQFTAgAAWxq8YBQUFOjNN9/UqVOn1K5dO0mSy+XSfffdpx07\n",
              "dsjv92vatGnatWuX/H6/1qxZo9TUVBUVFSklJUWTJ0/W1q1b9ZOf/ETl5eUqLy/XsmXLlJubq8ce\n",
              "e0yXL1+W3+/XY489pqlTp9aZwefzyefz1ZrmdrvldrsbevEBAGiSGnwXyYEDB5SQkKCOHTvW+Xh+\n",
              "fr4efvhhHTp0SE888YR+8YtfBB6rqKjQrbfeqgMHDmjmzJm1Xpedna05c+YoLy9PH374oR588MGg\n",
              "GbKzsxUTE1Prlp2dbWX5AADA1cKyi+Ra+vTpo6FDh0qShg8friVLlgQea9asmSZMmFDn6zwej555\n",
              "5hkdP35co0ePVkZGRtB5PPXUU5o1a1ataWy9AACg4TT4FoxBgwbp+PHjOn/+fJ2PR0dHB/6OjIyU\n",
              "3+8P3G/ZsqUiIuqOOHPmTL377ruKjY3V3LlzNW3atKAZ3G632rRpU+tGwQAAoOE0eMHo06ePfvjD\n",
              "H+rRRx9VeXm5JMkYo40bN+rkyZPf+H2PHj2qXr16aeLEiZo7d65yc3MtJQYAAP+rsOwi+eMf/6hF\n",
              "ixZp6NChioqKUk1NjTIzM3X33Xd/4/d84YUXtG3bNjVv3lyRkZH6zW9+YzExAAD4X7iMMcbpEAAA\n",
              "wK6qqip5PB5J0vbt29WiRYuwzp8zeQIAAOsoGAAAwDoKBgAAsI6CAQAArKNgAAAA6ygYAADAOgoG\n",
              "AACwjoIBAACso2AAAADrKBgAAMA6CgYAALCOggEAAKyjYAAAAOsoGAAAwDou1w4AwA3IGKPq6mpJ\n",
              "UnR0tFwuV1jnT8EAAADWsYsEAABYR8EAAADWUTAAAIB1FAwAAGBdlNMBcONy+ghmAIBz2IKBBlNd\n",
              "XS2PxyOPxxMoGgCApoGCAQAArKNgAAAA6ygYAADAOgoGAACwjoIBAACso2AAAADrvlHB2L9/v/70\n",
              "pz9JksrKylRcXGw1FAAAaNxCLhi///3v9cgjj2jBggWSpNLSUv3oRz+ynQsAADRiIReMVatWKTc3\n",
              "V23atJEk9e7dW+fOnbMeDAAANF4hFwy3260WLVrUmhYVxRnHAQDA/wu5YHTq1EnHjh0LXFfi1Vdf\n",
              "Vc+ePa0HAwAAjVfImx6WLVumhx56SPn5+br55pvVpk0bvfPOOw2RDQAANFIhF4w+ffpoz549Onr0\n",
              "qIwx6tu3ryIjIxsiGwAAaKS+0cETlZWVunTpkvx+vw4dOiRJGjRokNVgAACg8Qq5YPz2t7/VvHnz\n",
              "1KlTp8CWC5fLpWPHjlkPBwAAGqeQC8aKFSt09OhRdevW7WufGx8fr5ycHKWkpKi6uloPPPCAmjdv\n",
              "rtdee03NmzcPab4rV67UxYsX9eSTT4YaGQAAhFnIBaN79+71KhdfdfHiRY0dO1YJCQlauXKlIiJC\n",
              "P4HolClTQn4NAABwRsjf9HPnztX06dP1j3/8Q++9917gFsz58+c1evRoDR06VKtWrVJERITGjx+v\n",
              "1NRUJSUl6Z577lFJSYkkaeLEiVqyZEngtYWFheratasuXbqkBQsWaObMmZK+/GnsHXfcoYceekgD\n",
              "Bw5UamqqTp48GeqiAACABhLyFozdu3dr7dq1+uCDD2odg7F37946n//AAw9o4sSJys7ODkxbtmyZ\n",
              "OnXqJEl67rnntGDBAq1cuVJZWVmaNGmS5syZI+nLIjF+/Hg1a9bsqvf1er3Ky8tTr1699POf/1y/\n",
              "/vWv9dJLL9WZwefzyefz1ZrmdrvldrtDXXwAAFAPIW/BWLt2rYqKinTgwAF5vV55vd6g5UKS7rnn\n",
              "Hm3YsEGnT58OTFu/fr1SU1OVmJioV155RXl5eZKk9PR0+f1+eb1eGWO0du1aZWVl1fm+w4cPV69e\n",
              "vQJ/nzhxImiG7OxsxcTE1Lp9tfAAAAC7Qt6CERcXp7Zt29b7+T/96U+VnJysUaNGafv27Tp16pR+\n",
              "97vfaffu3ercubPefvttzZs3L/D8rKwsrV69WpWVlerYsaMSExPrfN/o6OjA35GRkfL7/UEzPPXU\n",
              "U5o1a1ataWy9AACg4YRcMNLS0nT//fdr3Lhxtb7kx44dG/Q1s2bNUkREhEaNGqX58+erdevW6tCh\n",
              "g7744ourdmv8+Mc/VnJyss6fP69HHnkk1Hh1YncIAADhFXLB2L9/vyTpxRdfDExzuVzXLBiSNHPm\n",
              "TEVERGju3LnKyMhQ37591aFDB91xxx06c+ZM4HndunXTkCFD9Pbbbwc9pgIAAFzfXMYY43QI3Jiq\n",
              "qqrk8XgkSdu3b7/qKrwAgBvXNzpV+KVLl1RYWKjq6urAtKSkJGuhAABA4xZywXjnnXc0ceJElZWV\n",
              "qVWrViorK1NcXJwKCwsbIh8AAGiEQv6Z6i9/+Uvl5uaqf//+On/+vNauXatx48Y1RDYAANBIhVww\n",
              "IiIiFBcXF/hZ6IQJE7Rt2zbrwQAAQOMV8i6SK2fV7NGjh9566y3Fx8errKzMejAAANB4hVwwZsyY\n",
              "obKyMi1atEgPPvigysvLtXz58obIBgAAGql6F4wrFzTr3r27jhw5Ikl65ZVXJH15HgwAAIAr6l0w\n",
              "Zs+efdU0l8ulTz/9VMXFxbp8+bLVYAAAoPGqd8Hwer217peWlmrRokVat26dFi5caD0YAABovEL+\n",
              "FUl1dbWys7M1YMAASdLHH3+sp59+2nowAADQeNW7YNTU1GjVqlVKSEhQfn6+9uzZo6VLl6pDhw4N\n",
              "mQ8AADRC9d5FkpiYKJ/Pp8WLFys5OVkVFRU6fPhw4HFOFQ4AAK6od8H4z3/+I5fLpXnz5l31mMvl\n",
              "0smTJ60GAwAAjVe9C0ZRUVEDxgAAADcSLteOBmOMCVxxNzo6mvOlAEATQsEAAADWhfwzVQAAgK9D\n",
              "wQAAANZRMAAAgHUUDAAAYF3Il2vH1fi1BAAAtbEFw4Lq6mp5PB55PJ5A0QAAoCmjYAAAAOsoGAAA\n",
              "wDoKBgAAsI6CAQAArKNgAAAA6ygYAADAOgoGAACwjoIBAACso2AAAADrKBgAAMA6CgYAALCOggEA\n",
              "AKyjYAAAAOsoGAAAwDoKBgAAsI6CAQAArHOkYGzatEmDBw9WSkqK+vXrp9GjR6umpsaJKAAAoAFE\n",
              "hXuGxcXFmjRpkvbv36+4uDhJ0oEDB+RyucIdBQAANJCwb8E4e/asIiMj1b59+8C0QYMGyeVyac6c\n",
              "OUpLS1NKSooyMzN19OjRwHNcLpeeffZZDR06VPHx8crJyVF2drZSU1OVkJCgHTt2BJ2nz+fThQsX\n",
              "at18Pl9DLiYAAE1a2AtGUlKSMjIyFBcXp+9///t6/vnndebMGUnSz372M3m9XuXl5WnatGmaMWNG\n",
              "rdfedNNN2rNnj/7whz9owoQJio2N1b59+7R48WI9+eSTQeeZnZ2tmJiYWrfs7OwGXU4AAJoylzHG\n",
              "ODHj/Px87dy5U1u2bNGOHTu0b98+7d27VytWrNDFixdVU1Oj0tJSlZSUfBnU5VJxcbG6du2qiooK\n",
              "tW3bVlVVVYqOjtYnn3yi5ORklZeX1zkvn8931RYLt9stt9ttZVmqqqrk8XgkSdu3b1eLFi2svC8A\n",
              "AI1V2I/BuKJfv37q16+fJk+erLvuukvr16/XsmXL5PV61bt3bx0+fFiZmZm1XhMdHS1JioyMvOq+\n",
              "3+8POi+bZQIAAHy9sO8iOXPmjHbt2hW4X1ZWpsLCQsXExKhZs2aKjY2VMUYvvPBCuKMBAABLwr4F\n",
              "w+/361e/+pUKCwvVsmVL+f1+Pfzww5oxY4ZOnjypW2+9VR06dNC9994b7mgAAMASx47BuJFwDAYA\n",
              "ALVxJk8AAGAdBQMAAFhHwQAAANZRMAAAgHUUDAAAYB0FAwAAWEfBAAAA1lEwAACAdRQMAABgHQUD\n",
              "AABYR8EAAADWUTAAAIB1FAwAAGAdV1O1wBij6upqSVJ0dLRcLpfDiQAAcBYFAwAAWMcuEgAAYB0F\n",
              "AwAAWNfkC4bP59OCBQvk8/mcjnLdYWzqxrgEx9jUjXEJjrGp240wLk3+GIwLFy4oJiZGFRUVatOm\n",
              "jdNxriuMTd0Yl+AYm7oxLsExNnW7EcalyW/BAAAA9lEwAACAdRQMAABgXZMvGG63W/Pnz5fb7XY6\n",
              "ynWHsakb4xIcY1M3xiU4xqZuN8K4NPmDPAEAgH1NfgsGAACwj4IBAACso2AAAADrmlzBmD59uuLj\n",
              "4+VyuZSXlxeYfvz4caWnp+uWW25RWlqaPvroI+dCOqCucamurta9996rW265RcnJyRozZowKCgqc\n",
              "DRpmwT4vV6xevVoul0s5OTlhz+a0YGPj8/n0+OOPKyEhQQMHDtSECROcC+mAYOPyt7/9TYMGDVJK\n",
              "SooSExO1Zs0a50I64Frrk88++0x33XWXEhISlJiYqPfee8/htOF1rbHJysoKTL/tttvk9XodThsC\n",
              "08Ts3LnTnD592sTFxZmDBw8Gpns8HrN69WpjjDFvvvmmSU1NdSagQ+oal6qqKvPuu++ampoaY4wx\n",
              "K1asMCNHjnQupAOCfV6MMaawsNAMHz7cDBs2zLz11luO5HNSsLGZOXOmefzxxwOfm+LiYocSOqOu\n",
              "campqTHt2rUzhw4dMsZ8+dlxu93mwoULDiYNr2utT7Kyssz8+fONMcbs3bvXdO/e3XzxxRcOJQ2/\n",
              "a43N5s2bzaVLl4wxxvz1r381cXFxDqUMXZMrGFd89R//2bNnTevWrQP/EWtqakyXLl3M8ePHHUzo\n",
              "jLq+SK/wer2N6sNt03+Py+XLl83tt99u9u3bZ0aOHNkkC8YVXx2byspK07p1a1NRUeFsqOvAfxeM\n",
              "9u3bm507dxpjjDl06JDp1q2b8fl8DiZ01lfXJ61atapVRNPS0szWrVsdSua8YOvac+fOmaioqMB3\n",
              "1fWuye0iqcvp06cVGxurqKgoSZLL5VLPnj116tQph5NdX5YvX67vfe97Tse4LixdulS33XabBg8e\n",
              "7HSU68qJEyfUvn17LV68WKmpqRoxYoT+9a9/OR3LcS6XS6+//rp+8IMfKC4uThkZGVqzZo2aN2/u\n",
              "dDTHXFmfnD9/XpcuXVLXrl0Dj8XHxzfp9W+wde3y5cv13e9+N/Bddb1rHCnhuMWLF6ugoIAvC0kf\n",
              "fvihNm7c2OT2E9eH3+/XJ598ogEDBui5557TwYMHNWbMGH300Ufq0qWL0/Ec4/f7tWjRIm3atEmZ\n",
              "mZnyer0aO3asjhw5oo4dOzodL+y+uj6pqqpyOs51Jdi6dt26dXrjjTca1XqHLRiSbr75ZhUXF8vv\n",
              "90uSjDE6deqUevbs6XCy68OSJUu0adMmbdmyRS1btnQ6juPef/99FRUVKSEhQfHx8crNzdWkSZP0\n",
              "4osvOh3NcT179lRERITGjx8vSfr2t7+tXr166ciRIw4nc1ZeXp4+/fRTZWZmSpLS0tLUo0cPHTx4\n",
              "0OFk4fff65MOHTooKipKJSUlgecUFRU1yfVvsHXt66+/roULF2rr1q2NqqhTMCR17txZgwYN0rp1\n",
              "6yRJGzduVI8ePdSnTx+Hkzlv6dKl+vOf/6ytW7eqbdu2Tse5LkydOlXFxcUqKipSUVGRhg0bplWr\n",
              "Vmnq1KlOR3Ncx44ddfvtt+vvf/+7JKmwsFCFhYXq37+/w8mcdeV/Yj7++GNJUkFBgU6cOKG+ffs6\n",
              "nCy8gq1P7rvvPq1cuVKS5PV6debMGY0cOdKhlM4INjZvvPGGnn76af3zn/9sfKXL6YNAwm3SpEmm\n",
              "e/fuJjIy0nTu3Nn07t3bGGNMfn6+GTZsmElISDCDBw82hw8fdjhpeNU1LqdPnzaSzLe+9S2TnJxs\n",
              "kpOTzZAhQ5yOGlbBPi9f1VQP8gw2NidOnDCjRo0yiYmJJikpyWzYsMHhpOEVbFzWr18fGJPExETz\n",
              "2muvOZw0vK61PikpKTFjxowxffr0MQMGDDDbtm1zOG14XWtsoqKiTI8ePQLTk5OTzeeff+5w4vrh\n",
              "WiQAAMA6dpEAAADrKBgAAMA6CgYAALCOggGgUcnLy9Nf/vIXp2MA+BoUDACNCgUDaBwoGADCZvfu\n",
              "3crIyFBycrKSkpK0efNm7du3T+np6UpKStKQIUO0a9cuSdK5c+f0ne98RwMHDlRSUpKysrL02Wef\n",
              "ad68edq+fbtSUlI0ZcoUh5cIQDD8TBVAWJSWlqp///7asGGDRowYoZqaGn3++edKTU3Vyy+/rDvv\n",
              "vFMffPCBxo0bp4KCAr388svKz8/XSy+9FHh9+/bt9eqrryonJ0c5OTnOLhCAa2ILBoCw2L17t/r2\n",
              "7asRI0ZIkiIiInT27FlFRETozjvvlCRlZGSoS5cuysvL07Bhw7RlyxbNnj1bmzdvVqtWrZyMDyBE\n",
              "FAwA1xWXyyVJGj58uPLy8jR06FBt2rRJaWlpunz5ssPpANQXBQNAWKSnp+v48eN6//33JUk1NTXq\n",
              "0qWLampqtHXrVknSv//9b5WUlCglJUWFhYW66aabdP/992vFihU6duyYKisr1aZNG1VUVDi5KADq\n",
              "gWMwAIRNbm6uZs+erYsXLyoiIkLPPPOMYmNjNX36dFVWVio6OlpLly5VRkaGVq9eraVLlyoyMlJ+\n",
              "v1+TJ0/WE088oYqKCt19992qrKxUenp64CJZAK4vFAwAAGAdu0gAAIB1FAwAAGAdBQMAAFhHwQAA\n",
              "ANZRMAAAgHUUDAAAYB0FAwAAWEfBAAAA1lEwAACAdRQMAABg3f8BAiDemAU4WNsAAAAASUVORK5C\n",
              "YII=\n",
              "\">\n",
              "        \n",
              "      </div>\n",
              "      <script></script>\n",
              "      <script type=\"text/javascript\">\n",
              "        (() => {\n",
              "          const chartElement = document.getElementById(\"chart-c643f769-c0e9-4bf5-9689-ae49be11cd9e\");\n",
              "          async function getCodeForChartHandler(event) {\n",
              "            const chartCodeResponse =  await google.colab.kernel.invokeFunction(\n",
              "                'getCodeForChart', [\"chart-c643f769-c0e9-4bf5-9689-ae49be11cd9e\"], {});\n",
              "            const responseJson = chartCodeResponse.data['application/json'];\n",
              "            await google.colab.notebook.addCell(responseJson.code, 'code');\n",
              "          }\n",
              "          chartElement.onclick = getCodeForChartHandler;\n",
              "        })();\n",
              "      </script>\n",
              "      <style>\n",
              "        .colab-quickchart-chart-with-code  {\n",
              "            display: block;\n",
              "            float: left;\n",
              "            border: 1px solid transparent;\n",
              "        }\n",
              "\n",
              "        .colab-quickchart-chart-with-code:hover {\n",
              "            cursor: pointer;\n",
              "            border: 1px solid #aaa;\n",
              "        }\n",
              "      </style>"
            ]
          },
          "metadata": {}
        },
        {
          "output_type": "display_data",
          "data": {
            "text/plain": [
              "import numpy as np\n",
              "from google.colab import autoviz\n",
              "\n",
              "def violin_plot(df, value_colname, facet_colname, figscale=1, mpl_palette_name='Dark2', **kwargs):\n",
              "  from matplotlib import pyplot as plt\n",
              "  import seaborn as sns\n",
              "  figsize = (12 * figscale, 1.2 * figscale * len(df[facet_colname].unique()))\n",
              "  plt.figure(figsize=figsize)\n",
              "  sns.violinplot(df, x=value_colname, y=facet_colname, palette=mpl_palette_name, **kwargs)\n",
              "  sns.despine(top=True, right=True, bottom=True, left=True)\n",
              "  return autoviz.MplChart.from_current_mpl_state()\n",
              "\n",
              "chart = violin_plot(_df_6, *['cost', 'item Purchased'], **{'inner': 'stick'})\n",
              "chart"
            ],
            "text/html": [
              "      <div class=\"colab-quickchart-chart-with-code\" id=\"chart-ae19ee25-6ec2-4d9f-968c-4ff1bb0dd6fc\">\n",
              "        <img src=\"data:image/png;base64,iVBORw0KGgoAAAANSUhEUgAAAh4AAAC9CAYAAAD81HQjAAAAOXRFWHRTb2Z0d2FyZQBNYXRwbG90\n",
              "bGliIHZlcnNpb24zLjcuMSwgaHR0cHM6Ly9tYXRwbG90bGliLm9yZy/bCgiHAAAACXBIWXMAAA9h\n",
              "AAAPYQGoP6dpAAAZKklEQVR4nO3deXRU9eH+8WeSkSQsIUQ22ZJAWIUkbEIgLKllqUWIFFpbEUVa\n",
              "KEdMKdQiFgWKGCg9UEprSaUEOSgiS1lOxRYqoCirEEAUDJxQEEH2xEgWknx+f/BjvkYydC7N3Bsm\n",
              "79c5c45zZ+7NMx9zbh7u/cy9LmOMEQAAgA2CnA4AAACqDooHAACwDcUDAADYhuIBAABsQ/EAAAC2\n",
              "oXgAAADbUDwAAIBtKB4AAMA2FA8AAGAbigcAALANxQMAANjG7XQAAABgD2OMCgoKJEmhoaFyuVy2\n",
              "Z+CIBwAAVURBQYGSk5OVnJzsKSB2o3gAAADbUDwAAIBtKB4AAMA2FA8AAGAbigcAALANxQMAANiG\n",
              "4gEAAGxD8QAAALaheAAAANtQPAAAgG0oHgAAwDYUDwAAYBuKBwAAsA3FAwAA2IbiAQAAbFPpikd0\n",
              "dLTq16+v69eve5Zt3bpVLpdLEyZM0IYNG/TLX/5SkrRt2zYlJCRIkk6ePKmIiAgHEgMAAF9VuuIh\n",
              "Sc2aNdOGDRs8z//2t7+pS5cukqTBgwdr/vz5TkUDAAD/g0pZPEaNGqUlS5ZIknJycrRr1y4NHDhQ\n",
              "krR06VKlpKTcdv2ioiKNGDFCY8eOVUlJSbnvKSwsVG5ubplHYWFhhX4OAABQVqUsHj179tTJkyf1\n",
              "xRdfaMWKFRo+fLiCg4N9Wvfq1asaOHCg2rVrp/T0dK/rpaWlqXbt2mUeaWlpFfkxAADAt1TK4iFJ\n",
              "jz/+uJYuXaolS5boqaee8mmdoqIi9ezZU08++aSef/752753ypQpysnJKfOYMmVKRUQHAABeVNri\n",
              "MXLkSP3xj39UaGioWrZs6dM699xzj5KSkrRx48Yyk1PLExISovDw8DKPkJCQiogOAAC8qLTFo1Gj\n",
              "RkpLS9OcOXN8Xsflcik9PV1NmzZVSkqK8vPz/ZgQAABYVWmLh3RjkmliYqLl9ebNm6dOnTrpoYce\n",
              "Ul5enh+SAQCAO+EyxhinQwAAAP/Lz89XcnKypBvXyAoLC7M9g9uXN40aNUoul8vr6ze/+goAAHA7\n",
              "Pp1q6dKlizp37qxq1app165dat68uVq0aKE9e/YwIRMAAPjMpyMeTz/9tCSpd+/e2rVrl8LDwyVJ\n",
              "zzzzjAYNGuS/dAAAIKBYmlx64cIFT+mQpPDwcF24cKHCQwEAgMDk0xGPm+Lj4/Xkk09q9OjRkqSM\n",
              "jAzFx8f7JRgAAAg8lo54LF68WPXq1dOECRM0YcIE1atXT4sXL/ZXNgAAEGAsHfGoWbOm5s6d668s\n",
              "AAAgwFk64nH69GkNGjRICQkJkqTMzExuUQ8AAHxmqXiMHTtWjz76qG5ec6x9+/ZcwwMAAPjMUvE4\n",
              "f/68RowYoaCgG6u53W653ZbO1gAAgCrMUvFwu9365hXWr1y5Iq64DgAAfGWpeAwfPlxjx45Vbm6u\n",
              "Fi9erH79+umnP/2pv7IBAIAAY/kmcStWrNC6detkjFFKSop+8pOf+CsbAACoQJXhJnF3fHdaY4zy\n",
              "8vJUq1atis4EAAD8oDIUD0unWkaPHq2rV6+qqKhICQkJatCggV555RV/ZQMAABUoNDRUW7du1dat\n",
              "WxUaGupIBkvF46OPPlJERITeeecddezYUefOndOiRYv8lQ0AAFQgl8ulsLAwhYWFyeVyOZLBUvG4\n",
              "eVbm/fff16BBgxQeHq7g4GC/BAMAAIHHUvFo2LChxo0bp1WrVum73/2url+/rpKSEn9lAwAAAcZS\n",
              "8Xj99dfVunVrvfnmm4qIiNCZM2c0ceJEf2UDAAAB5o6/1QIAAGCVpeudnz9/XtOnT1dmZqYKCgo8\n",
              "y/fv31/hwRC4jDGe35/Q0FDHJjgBAOxn+eu0UVFRunjxombMmKFGjRrp+9//vr+yIUAVFBQoOTlZ\n",
              "ycnJZQosACDwWSoep0+f1uTJkxUSEqKHH35Ya9eu1ZYtW/yVDQAABBhLxaNatWqSbhwev3Tpktxu\n",
              "ty5evOiXYAAAIPBYmuPRqlUrXbp0SSNGjFC3bt0UHh6uzp07+ysbAAAIMHf8rZYdO3bo6tWrGjhw\n",
              "oNxuS/0FVVxluFcAAMAZd9wYkpKSKjIHAACoAizN8XjnnXfUpk0bVatWTcHBwQoKCuKS6QAAwGeW\n",
              "jnikpqZq4cKFSkxMpHAAAADLLBWP8PBwDRgwwF9ZAABAgLN0qmXQoEFat26dn6IAAIBA59MRjzp1\n",
              "6sjlcskYo5ycHIWFhSkkJETGGLlcLl2+fNnfOQEAQADwqXhkZmb6OQYAAKgKfCoeUVFRkqRTp06p\n",
              "fv36Cg0NlXTjnhsXLlzwXzoAABBQLM3xGDZsWJnnxphblgEAAHhjqXgUFRV5jnZIUlhYmAoLCys8\n",
              "FAAACEyWiofL5dL58+c9z8+dO6c7vOI6AACogiwVj9TUVCUmJmr69OmaPn26kpKS9Ktf/crr+4uL\n",
              "izVjxgy1adNG7du3V0JCgsaMGaOrV696XaeoqEiDBg1Shw4d9PTTT9/yHAAA3L0sXUBs1KhRiomJ\n",
              "0dtvvy1JysjIUK9evby+f/To0bp8+bJ27typOnXqyBij1atX6/Lly4qIiCh3nQMHDigrK0vHjh2T\n",
              "JO3evbvMcwAAcPfy+e60JSUl6tChgz755BOfNnz8+HHFxcXp1KlTqlu37i2vz507V0uXLlVQUJDi\n",
              "4uL0yiuv6MyZMxo8eLDOnDmj1q1ba+jQoVq2bJnn+cSJE/XjH/9YL7zwgt59910VFRWpVatWSk9P\n",
              "V506dfTVV19p4sSJOnjwoAoKCtS9e3f96U9/UrVq1ayNCvyKu9MCQNXl86mW4OBg1atXT9euXfPp\n",
              "/fv371fLli3LLR2bNm3SkiVL9MEHH+jw4cOqUaOGnnvuObVr106LFy9W69atlZmZqRdffLHM85Ej\n",
              "R2ru3LmqUaOG9uzZo8zMTHXo0EFTp06VJE2aNEm9evXSnj17dPDgQZWWlmrBggXl5issLFRubm6Z\n",
              "BxNlAQDwL0unWmJjY9WzZ08NHz5cNWvW9CxPTU219EO3bNmiH/3oR57TLePGjdPw4cN9WnfdunXK\n",
              "ycnRmjVrJN2YExIdHe15befOnZo3b56kG/+y9nYzu7S0NM2YMaPMsmnTpmn69OmWPgsAAPCdpeJR\n",
              "WlqqhIQEZWVleZa5XK5y39upUydlZWXp0qVLuvfee2+7XW/bKI8xRgsXLlT//v3LfW3NmjVq1arV\n",
              "f93OlClTNHHixDLLQkJCfM4BAACss1Q8MjIyfH5vbGysfvCDH2j06NFaunSpIiIiZIzR2rVr1bx5\n",
              "c/35z3/WxIkTFR4ervT09HKLRHlSUlI0f/58JSUlqXr16rp27Zqys7N1//33KyUlRXPmzFF6errc\n",
              "breuXLmiS5cuKTY29pbthISEUDQAALCZpeKxbNmycpePHDmy3OVLlizRSy+9pG7dusntdqu0tFS9\n",
              "e/fWnDlzdO3aNSUmJpaZXOqLyZMnq7CwUN26dfMcKZk8ebLuv/9+zZ8/X88995wSEhIUFBQkt9ut\n",
              "3/3ud+UWDwAAYD+fv9Uiqcw8jIKCAu3YsUPdu3fXpk2b/BIOgYlvtQBA1WXpiMeqVavKPM/OztZv\n",
              "fvObCg0EAAACl6Url35bTEyMjhw5UlFZAABAgLN0xGPDhg2e/y4pKdHu3buZoAkAAHxmqXjMnz//\n",
              "/1Z0uxUbG6uVK1dWeCgAABCYLBWPNWvWKDIy0l9ZAABAgPNpjse2bdtUv3591atXTzExMfr444/9\n",
              "nQsAAAQgn4rHs88+q/T0dOXl5Wnq1KmaMmWKv3MBAIAA5FPxuH79uh555BGFhYVp9OjR+vzzz/2d\n",
              "CwAABCCfikdQUNm3Wbm3CgAAwE0+TS49dOhQmUmlubm5ioyMlDFGLpdLly9f9ltAAAAQOHwqHidO\n",
              "nPB3DgAAUAX4VDyioqL8nQMAAFQB/9Ml0wEAAKygeAAAANu4jDHG6RCoWowxKigokCSFhobyLSkA\n",
              "qEIsF49PP/1UWVlZKi4u9iwbOnRohQcDAACBx1LxmDRpkl5//XW1a9dOwcHBNzbgculf//qX3wIC\n",
              "AIDAYal4xMbG6tChQ6pevbo/MwEAgABlaXJp06ZNFRoa6q8sAAAgwFk64rF3717Nnj1bAwYMKFNA\n",
              "Ro4c6ZdwAAAgsPh0AbGbFi1apEOHDskYU2aOB8XjVnxzAwCAW1k64tGiRQsdO3ZMbrelvlIl5efn\n",
              "Kzk5WZK0detWhYWFOZwIAADnWZrj0bx5c3HZDwAAcKcsHbpo3ry5+vbtqyFDhpSZ45GamlrhwQAA\n",
              "QOCxVDyKiorUqlUrffrpp55lzF0AAAC+slQ8MjIy/JUDAABUAZbmeOTk5Gj8+PF6+OGHJUmffPKJ\n",
              "VqxY4ZdgAAAg8FgqHmPHjlXDhg2VnZ0tSYqJidGcOXP8EgwAAAQeS8Xjs88+09SpU3XPPfdIksLC\n",
              "wviWCwAA8Jml4lGtWrUyz/Pz8ykeAADAZ5aKR3JysmbNmqWCggJt2bJFw4YN0yOPPOKvbAAAIMBY\n",
              "Kh4zZ85UUFCQwsPD9fzzz6tnz56aNm2av7IBAIAAY+mS6YcOHVJcXNx/XQYumQ4AQHksHfF48skn\n",
              "fVoGAABQHp8uIHb+/HmdO3dO+fn5Onz4sGdCaU5Ojr7++mu/BgQAAIHDp+KxYsUK/eEPf9AXX3yh\n",
              "wYMHe5bXrl1bv/71r/0WDgAABBZLczxmzpypF154wZ95AgZzPAAAuJVPRzy+/vpr1ahRQ7/4xS+U\n",
              "m5t7y+vh4eEVHgwAAAQen4pHr169tH//fkVERMjlcpW5aJjL5VJJSYlPP2zt2rWaNWuWSkpKVFBQ\n",
              "oEaNGmnLli0KCrI0xxUAANylfCoe+/fvlySVlpbe8Q86e/asxowZo48++khRUVGe7bpcrjvepq+K\n",
              "i4vldlu6ES8AAPAD2w41fPnllwoODlZkZKRnWadOneRyuRQdHa3MzEzP8i5dumjbtm2SpKNHjyox\n",
              "MVH333+/hg4dqv79+2vp0qWSpDfeeEPdunVTx44dFR8fr40bN3q20bdvX6WmpioxMVH9+/e/JU9h\n",
              "YaFyc3PLPAoLC/3y2QEAwA22FY+4uDglJSUpKipKjzzyiObOnaszZ8781/Uef/xxjRkzRkeOHNGs\n",
              "WbP03nvveV4bMGCAdu3apQMHDmj9+vX62c9+VqY8fPbZZ3rvvff07rvv3rLdtLQ01a5du8wjLS2t\n",
              "Yj4sAAAol23nH4KCgrRmzRodPXpU27dv16ZNmzRr1izt27fP6zq5ubnKzMzUyJEjJUlt27ZVUlKS\n",
              "5/Xs7Gw99thj+vzzz+V2u3X58mVlZ2erTZs2kqQRI0Z47qT7bVOmTNHEiRPLLAsJCflfPyYAALgN\n",
              "2yc+tGnTRm3atNHYsWM1cOBAbdiwQW63u8wE1YKCAq/rf3NOyKOPPqrZs2dr2LBhkqTIyMgy69as\n",
              "WdPrdkJCQigaAADYzLZTLWfOnNEHH3zgeX7lyhVlZ2erRYsWio2N1e7duyVJe/bs0bFjxyTd+Jpu\n",
              "fHy8li9fLkk6duyYduzYUWYbMTExkqTly5frypUrdn0cAABwB2w74lFcXKzf/va3ys7OVvXq1VVc\n",
              "XKwnnnhCQ4YMUePGjfXEE08oPT3dM5H0pmXLlumpp57S3LlzFRsbq65duyoiIkKStGDBAg0bNkwR\n",
              "ERH6zne+o2bNmtn1cQAAwB2wdOVSJ+Tl5alGjRpyuVzKzs5WYmKi9u7dq6ZNmzod7ba4cikAALeq\n",
              "9Be3+PDDD/Xss89KkkpKSjR//vxKXzoAAED5Kn3x6N+/f7nX4QAAAHcfrlUOAABsQ/EAAAC2oXgA\n",
              "AADbUDwAAIBtKB4AAMA2FA8AAGAbigcAALANxQMAANiG4gEAAGxD8QAAALaheAAAANtU+rvT3q2M\n",
              "MSooKJAkhYaGyuVyOZwIAADnUTwAAIBtONUCAABsQ/EAAAC2oXh4UVhYqOnTp6uwsNDpKJUK4+Id\n",
              "Y1M+xsU7xqZ8jIt3gTA2zPHwIjc3V7Vr11ZOTo7Cw8OdjlNpMC7eMTblY1y8Y2zKx7h4FwhjwxEP\n",
              "AABgG4oHAACwDcUDAADYhuLhRUhIiKZNm6aQkBCno1QqjIt3jE35GBfvGJvyMS7eBcLYMLkUAADY\n",
              "hiMeAADANhQPAABgG4oHAACwDcVDUmpqqqKjo+VyuZSZmelZnpWVpR49eqhVq1bq2rWrjhw54lxI\n",
              "B5Q3LgUFBUpJSVGrVq0UHx+vfv366fjx484GdYC335mbMjIy5HK5tG7dOtuzOcnbuBQWFmr8+PFq\n",
              "2bKlOnTooBEjRjgX0iHexubtt99Wp06dlJCQoPbt2+u1115zLqQDbrdPOX/+vAYOHKiWLVuqffv2\n",
              "eu+99xxOa5/bjcuoUaM8y3v27Km9e/c6nNYiA7N9+3Zz+vRpExUVZQ4cOOBZnpycbDIyMowxxqxa\n",
              "tcp06dLFmYAOKW9c8vPzzT/+8Q9TWlpqjDFm4cKFpk+fPs6FdIi33xljjMnOzjaJiYmme/fu5u9/\n",
              "/7sj+ZzibVwmTJhgxo8f7/m9OXv2rEMJnVPe2JSWlpo6deqYgwcPGmNu/O6EhISY3NxcB5Pa63b7\n",
              "lFGjRplp06YZY4zZs2ePady4sSkqKnIoqb1uNy7r1683169fN8YYs3HjRhMVFeVQyjtD8fiGb+4Q\n",
              "vvzyS1OrVi3P/9zS0lLToEEDk5WV5WBCZ5T3x/WmvXv33nW/9BXp22NTUlJiHnzwQbNv3z7Tp0+f\n",
              "Klc8bvrmuOTl5ZlatWqZnJwcZ0NVEt8uHpGRkWb79u3GGGMOHjxoGjVqZAoLCx1M6Kxv7lNq1KhR\n",
              "pqR27drVbN682aFkzvK2r71w4YJxu92ev1V3A061eHH69Gndd999crvdkiSXy6VmzZrp1KlTDier\n",
              "XBYsWKAhQ4Y4HaPSmDdvnnr27KnOnTs7HaXSOHHihCIjI/Xyyy+rS5cu6tWrl/797387HatScLlc\n",
              "WrlypYYOHaqoqCglJSXptddeU7Vq1ZyO5pib+5RLly7p+vXratiwoee16OjoKrsP9ravXbBggR56\n",
              "6CHP36q7wd2TFJXOyy+/rOPHj/NH5P/7+OOPtWbNmip1HtoXxcXF+s9//qN27dpp9uzZOnDggPr1\n",
              "66cjR46oQYMGTsdzVHFxsV566SWtXbtWvXv31t69ezV48GAdPnxYdevWdTqe7b65T8nPz3c6TqXh\n",
              "bV+7fPlyvfXWW3fdPocjHl40bdpUZ8+eVXFxsSTJGKNTp06pWbNmDierHH7/+99r7dq12rRpk6pX\n",
              "r+50nErh/fff18mTJ9WyZUtFR0dr165dGjNmjP7yl784Hc1RzZo1U1BQkB577DFJUseOHRUTE6PD\n",
              "hw87nMx5mZmZ+uKLL9S7d29JUteuXdWkSRMdOHDA4WT2+/Y+5d5775Xb7da5c+c87zl58mSV2wd7\n",
              "29euXLlSM2bM0ObNm++6Ak/x8KJ+/frq1KmTli9fLklas2aNmjRpotjYWIeTOW/evHlasWKFNm/e\n",
              "rIiICKfjVBrjxo3T2bNndfLkSZ08eVLdu3fXX//6V40bN87paI6qW7euHnzwQf3zn/+UJGVnZys7\n",
              "O1tt27Z1OJnzbv4D59NPP5UkHT9+XCdOnFDr1q0dTmYvb/uU4cOHa9GiRZKkvXv36syZM+rTp49D\n",
              "Ke3nbVzeeustTZ06VVu2bLk7i5jTk0wqgzFjxpjGjRub4OBgU79+fdOiRQtjjDFHjx413bt3Ny1b\n",
              "tjSdO3c2hw4dcjipvcobl9OnTxtJpnnz5iY+Pt7Ex8ebBx54wOmotvP2O/NNVXFyqbdxOXHihOnb\n",
              "t69p3769iYuLM6tXr3Y4qf28jc0bb7zhGZf27dub119/3eGk9rrdPuXcuXOmX79+JjY21rRr1868\n",
              "++67Dqe1z+3Gxe12myZNmniWx8fHm4sXLzqc2HfcqwUAANiGUy0AAMA2FA8AAGAbigcAALANxQNA\n",
              "QMjMzNSbb77pdAwA/wXFA0BAoHgAdweKBwDH7dy5U0lJSYqPj1dcXJzWr1+vffv2qUePHoqLi9MD\n",
              "DzygDz74QJJ04cIF9e/fXx06dFBcXJxGjRql8+fP68UXX9TWrVuVkJCgn//85w5/IgDe8HVaAI66\n",
              "fPmy2rZtq9WrV6tXr14qLS3VxYsX1aVLF7366qsaMGCAduzYoWHDhun48eN69dVXdfToUaWnp3vW\n",
              "j4yM1NKlS7Vu3TqtW7fO2Q8E4LY44gHAUTt37lTr1q3Vq1cvSVJQUJC+/PJLBQUFacCAAZKkpKQk\n",
              "NWjQQJmZmerevbs2bdqkSZMmaf369apRo4aT8QFYRPEAcFdwuVySpMTERGVmZqpbt25au3atunbt\n",
              "qpKSEofTAfAVxQOAo3r06KGsrCy9//77kqTS0lI1aNBApaWl2rx5syTpww8/1Llz55SQkKDs7GzV\n",
              "rFlTP/zhD7Vw4UJ99tlnysvLU3h4uHJycpz8KAB8wBwPAI7btWuXJk2apK+++kpBQUGaOXOm7rvv\n",
              "PqWmpiovL0+hoaGaN2+ekpKSlJGRoXnz5ik4OFjFxcUaO3asnnnmGeXk5Oh73/ue8vLy1KNHD8/N\n",
              "xQBULhQPAABgG061AAAA21A8AACAbSgeAADANhQPAABgG4oHAACwDcUDAADYhuIBAABsQ/EAAAC2\n",
              "oXgAAADbUDwAAIBt/h8KtNGbKkeU5wAAAABJRU5ErkJggg==\n",
              "\">\n",
              "        \n",
              "      </div>\n",
              "      <script></script>\n",
              "      <script type=\"text/javascript\">\n",
              "        (() => {\n",
              "          const chartElement = document.getElementById(\"chart-ae19ee25-6ec2-4d9f-968c-4ff1bb0dd6fc\");\n",
              "          async function getCodeForChartHandler(event) {\n",
              "            const chartCodeResponse =  await google.colab.kernel.invokeFunction(\n",
              "                'getCodeForChart', [\"chart-ae19ee25-6ec2-4d9f-968c-4ff1bb0dd6fc\"], {});\n",
              "            const responseJson = chartCodeResponse.data['application/json'];\n",
              "            await google.colab.notebook.addCell(responseJson.code, 'code');\n",
              "          }\n",
              "          chartElement.onclick = getCodeForChartHandler;\n",
              "        })();\n",
              "      </script>\n",
              "      <style>\n",
              "        .colab-quickchart-chart-with-code  {\n",
              "            display: block;\n",
              "            float: left;\n",
              "            border: 1px solid transparent;\n",
              "        }\n",
              "\n",
              "        .colab-quickchart-chart-with-code:hover {\n",
              "            cursor: pointer;\n",
              "            border: 1px solid #aaa;\n",
              "        }\n",
              "      </style>"
            ]
          },
          "metadata": {}
        }
      ]
    }
  ]
}